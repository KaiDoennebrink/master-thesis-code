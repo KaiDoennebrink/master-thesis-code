{
 "cells": [
  {
   "cell_type": "markdown",
   "id": "91f09351405d4d91",
   "metadata": {
    "collapsed": false,
    "jupyter": {
     "outputs_hidden": false
    }
   },
   "source": [
    "# Full supervised training\n",
    "\n",
    "To establish a goal line the Inception network is trained in a full supervised fashion.\n"
   ]
  },
  {
   "cell_type": "code",
   "execution_count": null,
   "id": "ca741a5685f6bfb4",
   "metadata": {
    "collapsed": false,
    "jupyter": {
     "outputs_hidden": false
    }
   },
   "outputs": [],
   "source": [
    "from deepal_for_ecg.data.load import PTBXLDataLoader\n",
    "from deepal_for_ecg.data.active_learning import PTBXLActiveLearningDataModule\n",
    "from deepal_for_ecg.models.inception_network import InceptionNetworkBuilder, InceptionNetworkConfig\n",
    "from deepal_for_ecg.train.ptbxl import PTBXLTrainer\n",
    "from deepal_for_ecg.util import improve_gpu_capacity"
   ]
  },
  {
   "cell_type": "code",
   "execution_count": null,
   "id": "a6e8aab52d627aec",
   "metadata": {
    "collapsed": false,
    "jupyter": {
     "outputs_hidden": false
    }
   },
   "outputs": [],
   "source": [
    "improve_gpu_capacity()"
   ]
  },
  {
   "cell_type": "markdown",
   "id": "9dafdb510e3365ca",
   "metadata": {
    "collapsed": false,
    "jupyter": {
     "outputs_hidden": false
    }
   },
   "source": [
    "## Data\n",
    "\n",
    "Load the data and prepare the data module."
   ]
  },
  {
   "cell_type": "code",
   "execution_count": null,
   "id": "fd6742967a08b270",
   "metadata": {
    "collapsed": false,
    "jupyter": {
     "outputs_hidden": false
    }
   },
   "outputs": [],
   "source": [
    "data_loader = PTBXLDataLoader(load_saved_data=True, saved_data_base_dir=\"../data/saved/\")\n",
    "data_loader.load_data()"
   ]
  },
  {
   "cell_type": "code",
   "execution_count": null,
   "id": "58e507ff7cc3dcc4",
   "metadata": {
    "collapsed": false,
    "jupyter": {
     "outputs_hidden": false
    }
   },
   "outputs": [],
   "source": [
    "data_module = PTBXLActiveLearningDataModule(\n",
    "    train_samples=data_loader.X_train, \n",
    "    test_samples=data_loader.X_test, \n",
    "    val_samples=data_loader.X_valid, \n",
    "    train_labels_12sl=data_loader.Y_train_12sl, \n",
    "    train_labels_ptb_xl=data_loader.Y_train_ptb_xl,\n",
    "    test_labels=data_loader.Y_test,\n",
    "    val_labels=data_loader.Y_valid\n",
    ")"
   ]
  },
  {
   "cell_type": "code",
   "execution_count": null,
   "id": "1700073697fd2e75",
   "metadata": {
    "collapsed": false,
    "jupyter": {
     "outputs_hidden": false
    }
   },
   "outputs": [],
   "source": [
    "data_module_state = data_module.state_dict()\n",
    "data_module.update_annotations(buy_idx_ptb_xl=data_module_state[\"unlabeled_indices\"], buy_idx_12sl=set())"
   ]
  },
  {
   "cell_type": "markdown",
   "id": "efebb6ab5625590b",
   "metadata": {
    "collapsed": false,
    "jupyter": {
     "outputs_hidden": false
    }
   },
   "source": [
    "## Inception network\n",
    "\n",
    "### Build the models\n",
    "\n",
    "Build the Inception networks."
   ]
  },
  {
   "cell_type": "code",
   "execution_count": null,
   "id": "4f2a30ec0cb9c26e",
   "metadata": {
    "collapsed": false,
    "jupyter": {
     "outputs_hidden": false
    }
   },
   "outputs": [],
   "source": [
    "builder = InceptionNetworkBuilder()\n",
    "config = InceptionNetworkConfig()\n",
    "\n",
    "ensemble = [builder.build_model(config) for _ in range(5)]"
   ]
  },
  {
   "cell_type": "markdown",
   "id": "7ff1bebc76395f6b",
   "metadata": {
    "collapsed": false,
    "jupyter": {
     "outputs_hidden": false
    }
   },
   "source": [
    "### Training\n",
    "Train all five models of the Inception network."
   ]
  },
  {
   "cell_type": "code",
   "execution_count": null,
   "id": "5f7b9054a7da29",
   "metadata": {
    "collapsed": false,
    "jupyter": {
     "outputs_hidden": false
    }
   },
   "outputs": [],
   "source": [
    "num_classes = 93\n",
    "trainer = PTBXLTrainer(ensemble[0], model_name=\"full_supervised_inception_1\", num_labels=num_classes, model_base_dir=\"../models\", log_base_dir=\"../logs\")\n",
    "trainer.fit(data_module.train_dataset, data_module.validation_dataset)"
   ]
  },
  {
   "cell_type": "code",
   "execution_count": null,
   "id": "94d9f34c3fe59711",
   "metadata": {
    "collapsed": false,
    "jupyter": {
     "outputs_hidden": false
    }
   },
   "outputs": [],
   "source": [
    "trainer = PTBXLTrainer(ensemble[1], model_name=\"full_supervised_inception_2\", num_labels=num_classes, model_base_dir=\"../models\", log_base_dir=\"../logs\")\n",
    "trainer.fit(data_module.train_dataset, data_module.validation_dataset)"
   ]
  },
  {
   "cell_type": "code",
   "execution_count": null,
   "id": "40671615a61c0cac",
   "metadata": {
    "collapsed": false,
    "jupyter": {
     "outputs_hidden": false
    }
   },
   "outputs": [],
   "source": [
    "trainer = PTBXLTrainer(ensemble[2], model_name=\"full_supervised_inception_3\", num_labels=num_classes, model_base_dir=\"../models\", log_base_dir=\"../logs\")\n",
    "trainer.fit(data_module.train_dataset, data_module.validation_dataset)"
   ]
  },
  {
   "cell_type": "code",
   "execution_count": null,
   "id": "5e317befa1132026",
   "metadata": {
    "collapsed": false,
    "jupyter": {
     "outputs_hidden": false
    }
   },
   "outputs": [],
   "source": [
    "trainer = PTBXLTrainer(ensemble[3], model_name=\"full_supervised_inception_4\", num_labels=num_classes, model_base_dir=\"../models\", log_base_dir=\"../logs\")\n",
    "trainer.fit(data_module.train_dataset, data_module.validation_dataset)"
   ]
  },
  {
   "cell_type": "code",
   "execution_count": null,
   "id": "6064438fa13219bb",
   "metadata": {
    "collapsed": false,
    "jupyter": {
     "outputs_hidden": false
    }
   },
   "outputs": [],
   "source": [
    "trainer = PTBXLTrainer(ensemble[4], model_name=\"full_supervised_inception_5\", num_labels=num_classes, model_base_dir=\"../models\", log_base_dir=\"../logs\")\n",
    "trainer.fit(data_module.train_dataset, data_module.validation_dataset)"
   ]
  },
  {
   "cell_type": "markdown",
   "id": "bb0121309007e95",
   "metadata": {
    "collapsed": false,
    "jupyter": {
     "outputs_hidden": false
    }
   },
   "source": [
    "## Testing\n",
    "\n",
    "Test the Inception network."
   ]
  },
  {
   "cell_type": "code",
   "execution_count": null,
   "id": "4f9eee63992849c9",
   "metadata": {
    "collapsed": false,
    "jupyter": {
     "outputs_hidden": false
    }
   },
   "outputs": [],
   "source": [
    "import tensorflow as tf\n",
    "from tensorflow import keras"
   ]
  },
  {
   "cell_type": "code",
   "execution_count": null,
   "id": "d1cfe0f120675814",
   "metadata": {
    "collapsed": false,
    "jupyter": {
     "outputs_hidden": false
    }
   },
   "outputs": [],
   "source": [
    "loss_object = keras.losses.BinaryCrossentropy()\n",
    "test_loss = keras.metrics.Mean(name=\"test_loss\")\n",
    "test_accuracy = keras.metrics.BinaryAccuracy(name=\"test_accuracy\")\n",
    "test_auc = keras.metrics.AUC(multi_label=True, name=\"test_auc\", num_labels=num_classes)\n",
    "\n",
    "@tf.function\n",
    "def test_step_ensemble(time_series_batch, label_batch, models_to_test):\n",
    "    ensemble_predictions = []\n",
    "    for model_to_test in models_to_test:\n",
    "        sliding_window_predictions = []\n",
    "        for sliding_window in time_series_batch:\n",
    "            sliding_window_predictions.append(model_to_test(sliding_window, training=False))\n",
    "    \n",
    "        ensemble_predictions.append(tf.reduce_max(sliding_window_predictions, axis=0))\n",
    "    predictions = tf.reduce_mean(ensemble_predictions, axis=0)\n",
    "    t_loss = loss_object(label_batch, predictions)\n",
    "\n",
    "    test_loss(t_loss)\n",
    "    test_accuracy(label_batch, predictions)\n",
    "    test_auc(label_batch, predictions)"
   ]
  },
  {
   "cell_type": "code",
   "execution_count": null,
   "id": "9ee8921842fc53c",
   "metadata": {
    "collapsed": false,
    "jupyter": {
     "outputs_hidden": false
    }
   },
   "outputs": [],
   "source": [
    "model_names = [f\"full_supervised_inception_{x}\" for x in range(1, 6)]\n",
    "\n",
    "models = [keras.models.load_model(f\"../models/{model_name}/best_model.keras\") for model_name in model_names]\n",
    "\n",
    "test_loss.reset_states()\n",
    "test_accuracy.reset_states()\n",
    "test_auc.reset_states()\n",
    "\n",
    "for test_series, test_labels in data_module.test_dataset.batch(128):\n",
    "    test_step_ensemble(test_series, test_labels, models)\n",
    "\n",
    "print(\n",
    "    f'Test data stats for model ensemble: '\n",
    "    f'Loss: {test_loss.result()}, '\n",
    "    f'Accuracy: {test_accuracy.result() * 100}, '\n",
    "    f'AUC: {test_auc.result() * 100}'\n",
    ")"
   ]
  },
  {
   "cell_type": "markdown",
   "id": "a87f3cf228c90203",
   "metadata": {
    "collapsed": false,
    "jupyter": {
     "outputs_hidden": false
    }
   },
   "source": [
    "## H-Inception network\n",
    "Compare it to the H-Inception network, which has some handcrafted filters.\n",
    "\n",
    "### Build the models"
   ]
  },
  {
   "cell_type": "code",
   "execution_count": null,
   "id": "340e65850cd46f30",
   "metadata": {
    "collapsed": false,
    "jupyter": {
     "outputs_hidden": false
    }
   },
   "outputs": [],
   "source": [
    "h_builder = InceptionNetworkBuilder()\n",
    "config = InceptionNetworkConfig(use_handcrafted_filters=True)\n",
    "h_ensemble = [builder.build_model(config) for _ in range(5)]"
   ]
  },
  {
   "cell_type": "markdown",
   "id": "a38ab70df1b0e15b",
   "metadata": {
    "collapsed": false,
    "jupyter": {
     "outputs_hidden": false
    }
   },
   "source": [
    "### Train all H-Inception models"
   ]
  },
  {
   "cell_type": "code",
   "execution_count": null,
   "id": "c4145eeed38b258e",
   "metadata": {
    "collapsed": false,
    "jupyter": {
     "outputs_hidden": false
    }
   },
   "outputs": [],
   "source": [
    "for i, model in enumerate(h_ensemble):\n",
    "    trainer = PTBXLTrainer(model, model_name=f\"full_supervised_h_inception_{i+1}\", num_labels=num_classes, model_base_dir=\"../models\", log_base_dir=\"../logs\")\n",
    "    trainer.fit(data_module.train_dataset, data_module.validation_dataset)"
   ]
  },
  {
   "cell_type": "markdown",
   "id": "c1acc4e2ba7a32f",
   "metadata": {
    "collapsed": false,
    "jupyter": {
     "outputs_hidden": false
    }
   },
   "source": [
    "### Test models"
   ]
  },
  {
   "cell_type": "code",
   "execution_count": null,
   "id": "1ea8c05032fc041a",
   "metadata": {
    "collapsed": false,
    "jupyter": {
     "outputs_hidden": false
    }
   },
   "outputs": [],
   "source": [
    "model_names = [f\"full_supervised_h_inception_{x}\" for x in range(1, 6)]\n",
    "\n",
    "models = [keras.models.load_model(f\"../models/{model_name}/best_model.keras\") for model_name in model_names]\n",
    "\n",
    "test_loss.reset_states()\n",
    "test_accuracy.reset_states()\n",
    "test_auc.reset_states()\n",
    "\n",
    "for test_series, test_labels in data_module.test_dataset.batch(128):\n",
    "    test_step_ensemble(test_series, test_labels, models)\n",
    "\n",
    "print(\n",
    "    f'Test data stats for model ensemble: '\n",
    "    f'Loss: {test_loss.result()}, '\n",
    "    f'Accuracy: {test_accuracy.result() * 100}, '\n",
    "    f'AUC: {test_auc.result() * 100}'\n",
    ")"
   ]
  }
 ],
 "metadata": {
  "kernelspec": {
   "display_name": "Python 3 (ipykernel)",
   "language": "python",
   "name": "python3"
  },
  "language_info": {
   "codemirror_mode": {
    "name": "ipython",
    "version": 3
   },
   "file_extension": ".py",
   "mimetype": "text/x-python",
   "name": "python",
   "nbconvert_exporter": "python",
   "pygments_lexer": "ipython3",
   "version": "3.11.7"
  }
 },
 "nbformat": 4,
 "nbformat_minor": 5
}
