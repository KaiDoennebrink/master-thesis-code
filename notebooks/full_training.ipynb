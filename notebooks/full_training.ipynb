{
 "cells": [
  {
   "cell_type": "markdown",
   "source": [
    "# Full supervised training\n",
    "\n",
    "To establish a goal line the Inception network is trained in a full supervised fashion.\n"
   ],
   "metadata": {
    "collapsed": false
   },
   "id": "91f09351405d4d91"
  },
  {
   "cell_type": "code",
   "outputs": [],
   "source": [
    "from deepal_for_ecg.data.load import PTBXLDataLoader\n",
    "from deepal_for_ecg.data.active_learning import PTBXLActiveLearningDataModule\n",
    "from deepal_for_ecg.models.inception_network import InceptionNetworkBuilder, InceptionNetworkConfig\n",
    "from deepal_for_ecg.trainer import PTBXLTrainer\n",
    "from deepal_for_ecg.util import improve_gpu_capacity"
   ],
   "metadata": {
    "collapsed": false,
    "ExecuteTime": {
     "end_time": "2024-02-20T08:50:40.338300100Z",
     "start_time": "2024-02-20T08:50:40.327771500Z"
    }
   },
   "id": "ca741a5685f6bfb4",
   "execution_count": 2
  },
  {
   "cell_type": "code",
   "outputs": [
    {
     "name": "stderr",
     "output_type": "stream",
     "text": [
      "2024-02-19 01:47:45.173993: I external/local_xla/xla/stream_executor/cuda/cuda_executor.cc:887] could not open file to read NUMA node: /sys/bus/pci/devices/0000:01:00.0/numa_node\n",
      "Your kernel may have been built without NUMA support.\n",
      "2024-02-19 01:47:45.499529: I external/local_xla/xla/stream_executor/cuda/cuda_executor.cc:887] could not open file to read NUMA node: /sys/bus/pci/devices/0000:01:00.0/numa_node\n",
      "Your kernel may have been built without NUMA support.\n",
      "2024-02-19 01:47:45.499646: I external/local_xla/xla/stream_executor/cuda/cuda_executor.cc:887] could not open file to read NUMA node: /sys/bus/pci/devices/0000:01:00.0/numa_node\n",
      "Your kernel may have been built without NUMA support.\n"
     ]
    }
   ],
   "source": [
    "improve_gpu_capacity()"
   ],
   "metadata": {
    "collapsed": false,
    "ExecuteTime": {
     "end_time": "2024-02-20T08:50:48.752733Z",
     "start_time": "2024-02-20T08:50:48.705104800Z"
    }
   },
   "id": "a6e8aab52d627aec",
   "execution_count": 3
  },
  {
   "cell_type": "markdown",
   "source": [
    "## Data\n",
    "\n",
    "Load the data and prepare the data module."
   ],
   "metadata": {
    "collapsed": false
   },
   "id": "9dafdb510e3365ca"
  },
  {
   "cell_type": "code",
   "outputs": [],
   "source": [
    "data_loader = PTBXLDataLoader(load_saved_data=True, saved_data_base_dir=\"../data/saved/\")\n",
    "data_loader.load_data()"
   ],
   "metadata": {
    "collapsed": false,
    "ExecuteTime": {
     "end_time": "2024-02-20T08:57:06.480897200Z",
     "start_time": "2024-02-20T08:56:55.232103200Z"
    }
   },
   "id": "fd6742967a08b270",
   "execution_count": 4
  },
  {
   "cell_type": "code",
   "outputs": [],
   "source": [
    "data_module = PTBXLActiveLearningDataModule(\n",
    "    train_samples=data_loader.X_train, \n",
    "    test_samples=data_loader.X_test, \n",
    "    val_samples=data_loader.X_valid, \n",
    "    train_labels_12sl=data_loader.Y_train_12sl, \n",
    "    train_labels_ptb_xl=data_loader.Y_train_ptb_xl,\n",
    "    test_labels=data_loader.Y_test,\n",
    "    val_labels=data_loader.Y_valid\n",
    ")"
   ],
   "metadata": {
    "collapsed": false,
    "ExecuteTime": {
     "end_time": "2024-02-20T08:57:38.798681100Z",
     "start_time": "2024-02-20T08:57:38.793155300Z"
    }
   },
   "id": "58e507ff7cc3dcc4",
   "execution_count": 5
  },
  {
   "cell_type": "code",
   "outputs": [],
   "source": [
    "data_module_state = data_module.state_dict()\n",
    "data_module.update_annotations(buy_idx_ptb_xl=data_module_state[\"unlabeled_indices\"], buy_idx_12sl=set())"
   ],
   "metadata": {
    "collapsed": false,
    "ExecuteTime": {
     "end_time": "2024-02-20T09:00:06.641792400Z",
     "start_time": "2024-02-20T09:00:06.637743900Z"
    }
   },
   "id": "1700073697fd2e75",
   "execution_count": 9
  },
  {
   "cell_type": "markdown",
   "source": [
    "## Inception network\n",
    "\n",
    "### Build the models\n",
    "\n",
    "Build the Inception networks."
   ],
   "metadata": {
    "collapsed": false
   },
   "id": "efebb6ab5625590b"
  },
  {
   "cell_type": "code",
   "outputs": [
    {
     "name": "stderr",
     "output_type": "stream",
     "text": [
      "2024-02-19 02:06:41.936488: I external/local_xla/xla/stream_executor/cuda/cuda_executor.cc:887] could not open file to read NUMA node: /sys/bus/pci/devices/0000:01:00.0/numa_node\n",
      "Your kernel may have been built without NUMA support.\n",
      "2024-02-19 02:06:41.936964: I external/local_xla/xla/stream_executor/cuda/cuda_executor.cc:887] could not open file to read NUMA node: /sys/bus/pci/devices/0000:01:00.0/numa_node\n",
      "Your kernel may have been built without NUMA support.\n",
      "2024-02-19 02:06:41.937065: I external/local_xla/xla/stream_executor/cuda/cuda_executor.cc:887] could not open file to read NUMA node: /sys/bus/pci/devices/0000:01:00.0/numa_node\n",
      "Your kernel may have been built without NUMA support.\n",
      "2024-02-19 02:06:42.514253: I external/local_xla/xla/stream_executor/cuda/cuda_executor.cc:887] could not open file to read NUMA node: /sys/bus/pci/devices/0000:01:00.0/numa_node\n",
      "Your kernel may have been built without NUMA support.\n",
      "2024-02-19 02:06:42.514302: I tensorflow/core/common_runtime/gpu/gpu_device.cc:2022] Could not identify NUMA node of platform GPU id 0, defaulting to 0.  Your kernel may not have been built with NUMA support.\n",
      "2024-02-19 02:06:42.514457: I external/local_xla/xla/stream_executor/cuda/cuda_executor.cc:887] could not open file to read NUMA node: /sys/bus/pci/devices/0000:01:00.0/numa_node\n",
      "Your kernel may have been built without NUMA support.\n",
      "2024-02-19 02:06:42.514565: I external/local_xla/xla/stream_executor/cuda/cuda_executor.cc:887] could not open file to read NUMA node: /sys/bus/pci/devices/0000:01:00.0/numa_node\n",
      "Your kernel may have been built without NUMA support.\n",
      "2024-02-19 02:06:42.514700: I tensorflow/core/common_runtime/gpu/gpu_device.cc:1929] Created device /job:localhost/replica:0/task:0/device:GPU:0 with 5292 MB memory:  -> device: 0, name: Quadro RTX 3000, pci bus id: 0000:01:00.0, compute capability: 7.5\n"
     ]
    }
   ],
   "source": [
    "builder = InceptionNetworkBuilder()\n",
    "config = InceptionNetworkConfig()\n",
    "\n",
    "ensemble = [builder.build_model(config) for _ in range(5)]"
   ],
   "metadata": {
    "collapsed": false,
    "ExecuteTime": {
     "end_time": "2024-02-20T09:08:25.962555100Z",
     "start_time": "2024-02-20T09:08:17.688171200Z"
    }
   },
   "id": "4f2a30ec0cb9c26e",
   "execution_count": 11
  },
  {
   "cell_type": "markdown",
   "source": [
    "### Training\n",
    "Train all five models of the Inception network."
   ],
   "metadata": {
    "collapsed": false
   },
   "id": "7ff1bebc76395f6b"
  },
  {
   "cell_type": "code",
   "outputs": [
    {
     "name": "stderr",
     "output_type": "stream",
     "text": [
      "2024-02-19 02:11:25.352157: W external/local_tsl/tsl/framework/cpu_allocator_impl.cc:83] Allocation of 1672128000 exceeds 10% of free system memory.\n",
      "2024-02-19 02:11:42.558963: W external/local_tsl/tsl/framework/cpu_allocator_impl.cc:83] Allocation of 1672128000 exceeds 10% of free system memory.\n",
      "2024-02-19 02:11:43.109038: W external/local_tsl/tsl/framework/cpu_allocator_impl.cc:83] Allocation of 52392000 exceeds 10% of free system memory.\n",
      "2024-02-19 02:11:43.171255: W external/local_tsl/tsl/framework/cpu_allocator_impl.cc:83] Allocation of 52392000 exceeds 10% of free system memory.\n",
      "2024-02-19 02:11:43.221907: W external/local_tsl/tsl/framework/cpu_allocator_impl.cc:83] Allocation of 52392000 exceeds 10% of free system memory.\n",
      "2024-02-19 02:11:44.193614: I external/local_tsl/tsl/platform/default/subprocess.cc:304] Start cannot spawn child process: No such file or directory\n",
      "Epoch: 0:   0%|          | 0/69 [00:00<?, ?it/s]2024-02-19 02:11:51.672961: I external/local_xla/xla/stream_executor/cuda/cuda_dnn.cc:454] Loaded cuDNN version 8904\n",
      "2024-02-19 02:11:51.960209: I external/local_tsl/tsl/platform/default/subprocess.cc:304] Start cannot spawn child process: No such file or directory\n",
      "2024-02-19 02:11:56.103331: W external/local_tsl/tsl/framework/bfc_allocator.cc:296] Allocator (GPU_0_bfc) ran out of memory trying to allocate 5.57GiB with freed_by_count=0. The caller indicates that this is not a failure, but this may mean that there could be performance gains if more memory were available.\n",
      "2024-02-19 02:11:56.103438: W external/local_tsl/tsl/framework/bfc_allocator.cc:296] Allocator (GPU_0_bfc) ran out of memory trying to allocate 5.57GiB with freed_by_count=0. The caller indicates that this is not a failure, but this may mean that there could be performance gains if more memory were available.\n",
      "2024-02-19 02:11:56.117899: W external/local_tsl/tsl/framework/bfc_allocator.cc:296] Allocator (GPU_0_bfc) ran out of memory trying to allocate 5.57GiB with freed_by_count=0. The caller indicates that this is not a failure, but this may mean that there could be performance gains if more memory were available.\n",
      "2024-02-19 02:11:56.117961: W external/local_tsl/tsl/framework/bfc_allocator.cc:296] Allocator (GPU_0_bfc) ran out of memory trying to allocate 5.57GiB with freed_by_count=0. The caller indicates that this is not a failure, but this may mean that there could be performance gains if more memory were available.\n",
      "2024-02-19 02:11:56.119803: I external/local_xla/xla/service/service.cc:168] XLA service 0x7f56896f5c60 initialized for platform CUDA (this does not guarantee that XLA will be used). Devices:\n",
      "2024-02-19 02:11:56.119857: I external/local_xla/xla/service/service.cc:176]   StreamExecutor device (0): Quadro RTX 3000, Compute Capability 7.5\n",
      "2024-02-19 02:11:56.153634: I tensorflow/compiler/mlir/tensorflow/utils/dump_mlir_util.cc:269] disabling MLIR crash reproducer, set env var `MLIR_CRASH_REPRODUCER_DIRECTORY` to enable.\n",
      "WARNING: All log messages before absl::InitializeLog() is called are written to STDERR\n",
      "I0000 00:00:1708305116.302631    8179 device_compiler.h:186] Compiled cluster using XLA!  This line is logged at most once for the lifetime of the process.\n",
      "Epoch: 0: 100%|██████████| 69/69 [00:26<00:00,  2.57it/s]\n"
     ]
    },
    {
     "name": "stdout",
     "output_type": "stream",
     "text": [
      "Saving new best model with AUC: 0.7692109942436218\n",
      "Loss: 0.2529252767562866, Accuracy: 91.01961517333984, AUC: 63.07650375366211, Validation Loss: 0.19528336822986603, Validation Accuracy: 93.57991027832031, Validation AUC: 76.92109680175781\n"
     ]
    },
    {
     "name": "stderr",
     "output_type": "stream",
     "text": [
      "Epoch: 1: 100%|██████████| 69/69 [00:10<00:00,  6.68it/s]\n"
     ]
    },
    {
     "name": "stdout",
     "output_type": "stream",
     "text": [
      "Saving new best model with AUC: 0.8035593628883362\n",
      "Loss: 0.1386144459247589, Accuracy: 95.17579650878906, AUC: 78.6104965209961, Validation Loss: 0.15856751799583435, Validation Accuracy: 94.42219543457031, Validation AUC: 80.3559341430664\n"
     ]
    },
    {
     "name": "stderr",
     "output_type": "stream",
     "text": [
      "Epoch: 2: 100%|██████████| 69/69 [00:10<00:00,  6.70it/s]\n"
     ]
    },
    {
     "name": "stdout",
     "output_type": "stream",
     "text": [
      "Saving new best model with AUC: 0.8167117834091187\n",
      "Loss: 0.12382461875677109, Accuracy: 95.63601684570312, AUC: 81.7388687133789, Validation Loss: 0.14530089497566223, Validation Accuracy: 95.14725494384766, Validation AUC: 81.67118072509766\n"
     ]
    },
    {
     "name": "stderr",
     "output_type": "stream",
     "text": [
      "Epoch: 3: 100%|██████████| 69/69 [00:10<00:00,  6.67it/s]\n"
     ]
    },
    {
     "name": "stdout",
     "output_type": "stream",
     "text": [
      "Loss: 0.11624352633953094, Accuracy: 95.8200454711914, AUC: 82.63016510009766, Validation Loss: 0.14382559061050415, Validation Accuracy: 94.44731903076172, Validation AUC: 81.37873840332031\n"
     ]
    },
    {
     "name": "stderr",
     "output_type": "stream",
     "text": [
      "Epoch: 4: 100%|██████████| 69/69 [00:10<00:00,  6.66it/s]\n"
     ]
    },
    {
     "name": "stdout",
     "output_type": "stream",
     "text": [
      "Loss: 0.11046554893255234, Accuracy: 96.01932525634766, AUC: 83.68547821044922, Validation Loss: 0.15472520887851715, Validation Accuracy: 93.86658477783203, Validation AUC: 80.06590270996094\n"
     ]
    },
    {
     "name": "stderr",
     "output_type": "stream",
     "text": [
      "Epoch: 5: 100%|██████████| 69/69 [00:10<00:00,  6.64it/s]\n"
     ]
    },
    {
     "name": "stdout",
     "output_type": "stream",
     "text": [
      "Saving new best model with AUC: 0.8195239901542664\n",
      "Loss: 0.106679767370224, Accuracy: 96.14273071289062, AUC: 84.26746368408203, Validation Loss: 0.12097896635532379, Validation Accuracy: 95.49253845214844, Validation AUC: 81.95240020751953\n"
     ]
    },
    {
     "name": "stderr",
     "output_type": "stream",
     "text": [
      "Epoch: 6: 100%|██████████| 69/69 [00:10<00:00,  6.63it/s]\n"
     ]
    },
    {
     "name": "stdout",
     "output_type": "stream",
     "text": [
      "Saving new best model with AUC: 0.8348997235298157\n",
      "Loss: 0.10339837521314621, Accuracy: 96.23075866699219, AUC: 84.60161590576172, Validation Loss: 0.11761012673377991, Validation Accuracy: 95.67330932617188, Validation AUC: 83.48997497558594\n"
     ]
    },
    {
     "name": "stderr",
     "output_type": "stream",
     "text": [
      "Epoch: 7: 100%|██████████| 69/69 [00:10<00:00,  6.59it/s]\n"
     ]
    },
    {
     "name": "stdout",
     "output_type": "stream",
     "text": [
      "Loss: 0.10187384486198425, Accuracy: 96.29254913330078, AUC: 85.41607666015625, Validation Loss: 0.12039688229560852, Validation Accuracy: 95.50189971923828, Validation AUC: 82.92534637451172\n"
     ]
    },
    {
     "name": "stderr",
     "output_type": "stream",
     "text": [
      "Epoch: 8: 100%|██████████| 69/69 [00:10<00:00,  6.63it/s]\n"
     ]
    },
    {
     "name": "stdout",
     "output_type": "stream",
     "text": [
      "Loss: 0.09984195232391357, Accuracy: 96.4070053100586, AUC: 85.9729232788086, Validation Loss: 0.12317204475402832, Validation Accuracy: 95.32752990722656, Validation AUC: 82.6175537109375\n"
     ]
    },
    {
     "name": "stderr",
     "output_type": "stream",
     "text": [
      "Epoch: 9: 100%|██████████| 69/69 [00:10<00:00,  6.66it/s]\n"
     ]
    },
    {
     "name": "stdout",
     "output_type": "stream",
     "text": [
      "Loss: 0.09724526852369308, Accuracy: 96.46287536621094, AUC: 86.34919738769531, Validation Loss: 0.11874845623970032, Validation Accuracy: 95.64376068115234, Validation AUC: 83.2114486694336\n"
     ]
    },
    {
     "name": "stderr",
     "output_type": "stream",
     "text": [
      "Epoch: 10: 100%|██████████| 69/69 [00:10<00:00,  6.65it/s]\n"
     ]
    },
    {
     "name": "stdout",
     "output_type": "stream",
     "text": [
      "Loss: 0.09574007987976074, Accuracy: 96.51917266845703, AUC: 86.666748046875, Validation Loss: 0.12093475461006165, Validation Accuracy: 95.53243255615234, Validation AUC: 82.9604263305664\n"
     ]
    },
    {
     "name": "stderr",
     "output_type": "stream",
     "text": [
      "Epoch: 11: 100%|██████████| 69/69 [00:10<00:00,  6.70it/s]\n"
     ]
    },
    {
     "name": "stdout",
     "output_type": "stream",
     "text": [
      "Saving new best model with AUC: 0.8400652408599854\n",
      "Loss: 0.09400788694620132, Accuracy: 96.61486053466797, AUC: 87.42420959472656, Validation Loss: 0.11192964017391205, Validation Accuracy: 95.87378692626953, Validation AUC: 84.00652313232422\n"
     ]
    },
    {
     "name": "stderr",
     "output_type": "stream",
     "text": [
      "Epoch: 12: 100%|██████████| 69/69 [00:10<00:00,  6.67it/s]\n"
     ]
    },
    {
     "name": "stdout",
     "output_type": "stream",
     "text": [
      "Saving new best model with AUC: 0.8500610589981079\n",
      "Loss: 0.0936654582619667, Accuracy: 96.58979797363281, AUC: 87.55308532714844, Validation Loss: 0.11086134612560272, Validation Accuracy: 95.95752716064453, Validation AUC: 85.006103515625\n"
     ]
    },
    {
     "name": "stderr",
     "output_type": "stream",
     "text": [
      "Epoch: 13: 100%|██████████| 69/69 [00:10<00:00,  6.68it/s]\n"
     ]
    },
    {
     "name": "stdout",
     "output_type": "stream",
     "text": [
      "Loss: 0.09233921021223068, Accuracy: 96.64924621582031, AUC: 87.76223754882812, Validation Loss: 0.11293023079633713, Validation Accuracy: 95.77674865722656, Validation AUC: 84.4446029663086\n"
     ]
    },
    {
     "name": "stderr",
     "output_type": "stream",
     "text": [
      "Epoch: 14: 100%|██████████| 69/69 [00:10<00:00,  6.68it/s]\n"
     ]
    },
    {
     "name": "stdout",
     "output_type": "stream",
     "text": [
      "Loss: 0.09399044513702393, Accuracy: 96.58281707763672, AUC: 87.95490264892578, Validation Loss: 0.10966333746910095, Validation Accuracy: 95.97820281982422, Validation AUC: 84.95795440673828\n"
     ]
    },
    {
     "name": "stderr",
     "output_type": "stream",
     "text": [
      "Epoch: 15: 100%|██████████| 69/69 [00:10<00:00,  6.62it/s]\n"
     ]
    },
    {
     "name": "stdout",
     "output_type": "stream",
     "text": [
      "Saving new best model with AUC: 0.856528103351593\n",
      "Loss: 0.09055870771408081, Accuracy: 96.72270965576172, AUC: 88.59758758544922, Validation Loss: 0.1100885421037674, Validation Accuracy: 96.05160522460938, Validation AUC: 85.6528091430664\n"
     ]
    },
    {
     "name": "stderr",
     "output_type": "stream",
     "text": [
      "Epoch: 16: 100%|██████████| 69/69 [00:10<00:00,  6.39it/s]\n"
     ]
    },
    {
     "name": "stdout",
     "output_type": "stream",
     "text": [
      "Loss: 0.09007518738508224, Accuracy: 96.71424865722656, AUC: 88.69091033935547, Validation Loss: 0.1081753820180893, Validation Accuracy: 96.1678466796875, Validation AUC: 84.74441528320312\n"
     ]
    },
    {
     "name": "stderr",
     "output_type": "stream",
     "text": [
      "Epoch: 17: 100%|██████████| 69/69 [00:11<00:00,  5.96it/s]\n"
     ]
    },
    {
     "name": "stdout",
     "output_type": "stream",
     "text": [
      "Loss: 0.08937133848667145, Accuracy: 96.75079345703125, AUC: 88.71105194091797, Validation Loss: 0.12493585050106049, Validation Accuracy: 95.33245849609375, Validation AUC: 85.33307647705078\n"
     ]
    },
    {
     "name": "stderr",
     "output_type": "stream",
     "text": [
      "Epoch: 18: 100%|██████████| 69/69 [00:11<00:00,  6.22it/s]\n"
     ]
    },
    {
     "name": "stdout",
     "output_type": "stream",
     "text": [
      "Saving new best model with AUC: 0.8621931076049805\n",
      "Loss: 0.08703003823757172, Accuracy: 96.83567810058594, AUC: 89.21887969970703, Validation Loss: 0.1228707879781723, Validation Accuracy: 95.5245590209961, Validation AUC: 86.21931457519531\n"
     ]
    },
    {
     "name": "stderr",
     "output_type": "stream",
     "text": [
      "Epoch: 19: 100%|██████████| 69/69 [00:11<00:00,  6.25it/s]\n"
     ]
    },
    {
     "name": "stdout",
     "output_type": "stream",
     "text": [
      "Loss: 0.08697108179330826, Accuracy: 96.81993865966797, AUC: 89.09761047363281, Validation Loss: 0.11209189891815186, Validation Accuracy: 95.9122085571289, Validation AUC: 85.65703582763672\n"
     ]
    },
    {
     "name": "stderr",
     "output_type": "stream",
     "text": [
      "Epoch: 20: 100%|██████████| 69/69 [00:10<00:00,  6.34it/s]\n"
     ]
    },
    {
     "name": "stdout",
     "output_type": "stream",
     "text": [
      "Saving new best model with AUC: 0.8698658347129822\n",
      "Loss: 0.08609931170940399, Accuracy: 96.83987426757812, AUC: 89.10115051269531, Validation Loss: 0.11091609299182892, Validation Accuracy: 95.88117980957031, Validation AUC: 86.98657989501953\n"
     ]
    },
    {
     "name": "stderr",
     "output_type": "stream",
     "text": [
      "Epoch: 21: 100%|██████████| 69/69 [00:10<00:00,  6.32it/s]\n"
     ]
    },
    {
     "name": "stdout",
     "output_type": "stream",
     "text": [
      "Loss: 0.0834478959441185, Accuracy: 96.95204162597656, AUC: 89.74774932861328, Validation Loss: 0.1060292199254036, Validation Accuracy: 96.1146469116211, Validation AUC: 85.8757095336914\n"
     ]
    },
    {
     "name": "stderr",
     "output_type": "stream",
     "text": [
      "Epoch: 22: 100%|██████████| 69/69 [00:10<00:00,  6.34it/s]\n"
     ]
    },
    {
     "name": "stdout",
     "output_type": "stream",
     "text": [
      "Loss: 0.08300517499446869, Accuracy: 96.97779083251953, AUC: 89.86084747314453, Validation Loss: 0.12797589600086212, Validation Accuracy: 95.17976379394531, Validation AUC: 85.42607116699219\n"
     ]
    },
    {
     "name": "stderr",
     "output_type": "stream",
     "text": [
      "Epoch: 23: 100%|██████████| 69/69 [00:10<00:00,  6.28it/s]\n"
     ]
    },
    {
     "name": "stdout",
     "output_type": "stream",
     "text": [
      "Loss: 0.08675993978977203, Accuracy: 96.8244400024414, AUC: 89.67764282226562, Validation Loss: 0.11928701400756836, Validation Accuracy: 95.6604995727539, Validation AUC: 86.25704956054688\n"
     ]
    },
    {
     "name": "stderr",
     "output_type": "stream",
     "text": [
      "Epoch: 24: 100%|██████████| 69/69 [00:11<00:00,  6.25it/s]\n"
     ]
    },
    {
     "name": "stdout",
     "output_type": "stream",
     "text": [
      "Saving new best model with AUC: 0.8768899440765381\n",
      "Loss: 0.08161664009094238, Accuracy: 97.0042724609375, AUC: 90.1610336303711, Validation Loss: 0.10761898010969162, Validation Accuracy: 96.01515197753906, Validation AUC: 87.68899536132812\n"
     ]
    },
    {
     "name": "stderr",
     "output_type": "stream",
     "text": [
      "Epoch: 25: 100%|██████████| 69/69 [00:10<00:00,  6.37it/s]\n"
     ]
    },
    {
     "name": "stdout",
     "output_type": "stream",
     "text": [
      "Loss: 0.08077587932348251, Accuracy: 97.05656433105469, AUC: 90.4873275756836, Validation Loss: 0.10998863726854324, Validation Accuracy: 95.98609161376953, Validation AUC: 86.53538513183594\n"
     ]
    },
    {
     "name": "stderr",
     "output_type": "stream",
     "text": [
      "Epoch: 26: 100%|██████████| 69/69 [00:11<00:00,  6.25it/s]\n"
     ]
    },
    {
     "name": "stdout",
     "output_type": "stream",
     "text": [
      "Saving new best model with AUC: 0.8784177899360657\n",
      "Loss: 0.08064261078834534, Accuracy: 97.03594207763672, AUC: 90.69169616699219, Validation Loss: 0.10709335654973984, Validation Accuracy: 96.16341400146484, Validation AUC: 87.84178161621094\n"
     ]
    },
    {
     "name": "stderr",
     "output_type": "stream",
     "text": [
      "Epoch: 27: 100%|██████████| 69/69 [00:10<00:00,  6.30it/s]\n"
     ]
    },
    {
     "name": "stdout",
     "output_type": "stream",
     "text": [
      "Loss: 0.08023827522993088, Accuracy: 97.09088134765625, AUC: 90.51297760009766, Validation Loss: 0.11694260686635971, Validation Accuracy: 95.6201171875, Validation AUC: 87.23173522949219\n"
     ]
    },
    {
     "name": "stderr",
     "output_type": "stream",
     "text": [
      "Epoch: 28: 100%|██████████| 69/69 [00:10<00:00,  6.35it/s]\n"
     ]
    },
    {
     "name": "stdout",
     "output_type": "stream",
     "text": [
      "Saving new best model with AUC: 0.8784499764442444\n",
      "Loss: 0.08119791001081467, Accuracy: 97.0655746459961, AUC: 90.74966430664062, Validation Loss: 0.11982372403144836, Validation Accuracy: 95.53194427490234, Validation AUC: 87.84500122070312\n"
     ]
    },
    {
     "name": "stderr",
     "output_type": "stream",
     "text": [
      "Epoch: 29: 100%|██████████| 69/69 [00:11<00:00,  6.01it/s]\n"
     ]
    },
    {
     "name": "stdout",
     "output_type": "stream",
     "text": [
      "Saving new best model with AUC: 0.8811631798744202\n",
      "Loss: 0.07984447479248047, Accuracy: 97.08013916015625, AUC: 91.04424285888672, Validation Loss: 0.11652091890573502, Validation Accuracy: 95.71123504638672, Validation AUC: 88.11631774902344\n"
     ]
    },
    {
     "name": "stderr",
     "output_type": "stream",
     "text": [
      "Epoch: 30: 100%|██████████| 69/69 [00:11<00:00,  6.20it/s]\n"
     ]
    },
    {
     "name": "stdout",
     "output_type": "stream",
     "text": [
      "Loss: 0.08134524524211884, Accuracy: 97.04674530029297, AUC: 90.50336456298828, Validation Loss: 0.11792976409196854, Validation Accuracy: 95.69646453857422, Validation AUC: 86.35081481933594\n"
     ]
    },
    {
     "name": "stderr",
     "output_type": "stream",
     "text": [
      "Epoch: 31: 100%|██████████| 69/69 [00:10<00:00,  6.31it/s]\n"
     ]
    },
    {
     "name": "stdout",
     "output_type": "stream",
     "text": [
      "Loss: 0.07879937440156937, Accuracy: 97.11983489990234, AUC: 90.79230499267578, Validation Loss: 0.11073443293571472, Validation Accuracy: 95.98904418945312, Validation AUC: 86.89764404296875\n"
     ]
    },
    {
     "name": "stderr",
     "output_type": "stream",
     "text": [
      "Epoch: 32: 100%|██████████| 69/69 [00:11<00:00,  6.27it/s]\n"
     ]
    },
    {
     "name": "stdout",
     "output_type": "stream",
     "text": [
      "Loss: 0.07894417643547058, Accuracy: 97.15836334228516, AUC: 91.1270523071289, Validation Loss: 0.10985051095485687, Validation Accuracy: 95.97919464111328, Validation AUC: 87.30086517333984\n"
     ]
    },
    {
     "name": "stderr",
     "output_type": "stream",
     "text": [
      "Epoch: 33: 100%|██████████| 69/69 [00:10<00:00,  6.30it/s]\n"
     ]
    },
    {
     "name": "stdout",
     "output_type": "stream",
     "text": [
      "Loss: 0.07969439029693604, Accuracy: 97.1034164428711, AUC: 91.0664291381836, Validation Loss: 0.10886190086603165, Validation Accuracy: 96.07672119140625, Validation AUC: 87.44253540039062\n"
     ]
    },
    {
     "name": "stderr",
     "output_type": "stream",
     "text": [
      "Epoch: 34: 100%|██████████| 69/69 [00:10<00:00,  6.30it/s]\n"
     ]
    },
    {
     "name": "stdout",
     "output_type": "stream",
     "text": [
      "Saving new best model with AUC: 0.8893842697143555\n",
      "Loss: 0.07707353681325912, Accuracy: 97.16626739501953, AUC: 91.22416687011719, Validation Loss: 0.10979893803596497, Validation Accuracy: 96.04076385498047, Validation AUC: 88.93843078613281\n"
     ]
    },
    {
     "name": "stderr",
     "output_type": "stream",
     "text": [
      "Epoch: 35: 100%|██████████| 69/69 [00:10<00:00,  6.32it/s]\n"
     ]
    },
    {
     "name": "stdout",
     "output_type": "stream",
     "text": [
      "Loss: 0.07616936415433884, Accuracy: 97.27719116210938, AUC: 91.6046142578125, Validation Loss: 0.10814246535301208, Validation Accuracy: 96.02450561523438, Validation AUC: 88.31590270996094\n"
     ]
    },
    {
     "name": "stderr",
     "output_type": "stream",
     "text": [
      "Epoch: 36: 100%|██████████| 69/69 [00:10<00:00,  6.30it/s]\n"
     ]
    },
    {
     "name": "stdout",
     "output_type": "stream",
     "text": [
      "Loss: 0.07735135406255722, Accuracy: 97.1627426147461, AUC: 91.47403717041016, Validation Loss: 0.11536253988742828, Validation Accuracy: 95.82058715820312, Validation AUC: 88.03621673583984\n"
     ]
    },
    {
     "name": "stderr",
     "output_type": "stream",
     "text": [
      "Epoch: 37: 100%|██████████| 69/69 [00:10<00:00,  6.28it/s]\n"
     ]
    },
    {
     "name": "stdout",
     "output_type": "stream",
     "text": [
      "Loss: 0.07439090311527252, Accuracy: 97.3191146850586, AUC: 91.73896026611328, Validation Loss: 0.1098654568195343, Validation Accuracy: 96.15306854248047, Validation AUC: 87.65478515625\n"
     ]
    },
    {
     "name": "stderr",
     "output_type": "stream",
     "text": [
      "Epoch: 38: 100%|██████████| 69/69 [00:10<00:00,  6.28it/s]\n"
     ]
    },
    {
     "name": "stdout",
     "output_type": "stream",
     "text": [
      "Loss: 0.07707130163908005, Accuracy: 97.18151092529297, AUC: 91.77354431152344, Validation Loss: 0.12073203176259995, Validation Accuracy: 95.5393295288086, Validation AUC: 88.19625091552734\n"
     ]
    },
    {
     "name": "stderr",
     "output_type": "stream",
     "text": [
      "Epoch: 39: 100%|██████████| 69/69 [00:10<00:00,  6.36it/s]\n"
     ]
    },
    {
     "name": "stdout",
     "output_type": "stream",
     "text": [
      "Loss: 0.07341425865888596, Accuracy: 97.30411529541016, AUC: 91.95630645751953, Validation Loss: 0.1129402294754982, Validation Accuracy: 95.81763458251953, Validation AUC: 87.61392211914062\n"
     ]
    },
    {
     "name": "stderr",
     "output_type": "stream",
     "text": [
      "Epoch: 40: 100%|██████████| 69/69 [00:10<00:00,  6.29it/s]\n"
     ]
    },
    {
     "name": "stdout",
     "output_type": "stream",
     "text": [
      "Loss: 0.07009710371494293, Accuracy: 97.43659210205078, AUC: 92.73699188232422, Validation Loss: 0.11574093252420425, Validation Accuracy: 95.77970886230469, Validation AUC: 87.9729232788086\n"
     ]
    },
    {
     "name": "stderr",
     "output_type": "stream",
     "text": [
      "Epoch: 41: 100%|██████████| 69/69 [00:10<00:00,  6.31it/s]\n"
     ]
    },
    {
     "name": "stdout",
     "output_type": "stream",
     "text": [
      "Loss: 0.07383963465690613, Accuracy: 97.32355499267578, AUC: 92.03593444824219, Validation Loss: 0.12028055638074875, Validation Accuracy: 95.75163269042969, Validation AUC: 88.15513610839844\n"
     ]
    },
    {
     "name": "stderr",
     "output_type": "stream",
     "text": [
      "Epoch: 42: 100%|██████████| 69/69 [00:11<00:00,  6.25it/s]\n"
     ]
    },
    {
     "name": "stdout",
     "output_type": "stream",
     "text": [
      "Loss: 0.07391176372766495, Accuracy: 97.2662124633789, AUC: 92.4897232055664, Validation Loss: 0.12554316222667694, Validation Accuracy: 95.38220977783203, Validation AUC: 88.5160140991211\n"
     ]
    },
    {
     "name": "stderr",
     "output_type": "stream",
     "text": [
      "Epoch: 43: 100%|██████████| 69/69 [00:10<00:00,  6.28it/s]\n"
     ]
    },
    {
     "name": "stdout",
     "output_type": "stream",
     "text": [
      "Loss: 0.07226433604955673, Accuracy: 97.3422622680664, AUC: 92.502685546875, Validation Loss: 0.11401253193616867, Validation Accuracy: 95.88412475585938, Validation AUC: 88.85369873046875\n"
     ]
    },
    {
     "name": "stderr",
     "output_type": "stream",
     "text": [
      "Epoch: 44: 100%|██████████| 69/69 [00:11<00:00,  6.23it/s]\n"
     ]
    },
    {
     "name": "stdout",
     "output_type": "stream",
     "text": [
      "Saving new best model with AUC: 0.8894661664962769\n",
      "Loss: 0.06905323266983032, Accuracy: 97.44973754882812, AUC: 93.0657958984375, Validation Loss: 0.11275700479745865, Validation Accuracy: 95.98165893554688, Validation AUC: 88.94661712646484\n"
     ]
    },
    {
     "name": "stderr",
     "output_type": "stream",
     "text": [
      "Epoch: 45: 100%|██████████| 69/69 [00:10<00:00,  6.38it/s]\n"
     ]
    },
    {
     "name": "stdout",
     "output_type": "stream",
     "text": [
      "Loss: 0.07031571865081787, Accuracy: 97.43634796142578, AUC: 92.96614074707031, Validation Loss: 0.12609334290027618, Validation Accuracy: 95.43096923828125, Validation AUC: 88.70062255859375\n"
     ]
    },
    {
     "name": "stderr",
     "output_type": "stream",
     "text": [
      "Epoch: 46: 100%|██████████| 69/69 [00:10<00:00,  6.31it/s]\n"
     ]
    },
    {
     "name": "stdout",
     "output_type": "stream",
     "text": [
      "Loss: 0.06952159851789474, Accuracy: 97.4544906616211, AUC: 92.8599853515625, Validation Loss: 0.11399200558662415, Validation Accuracy: 95.88511657714844, Validation AUC: 87.72633361816406\n"
     ]
    },
    {
     "name": "stderr",
     "output_type": "stream",
     "text": [
      "Epoch: 47: 100%|██████████| 69/69 [00:11<00:00,  6.26it/s]\n"
     ]
    },
    {
     "name": "stdout",
     "output_type": "stream",
     "text": [
      "Loss: 0.06804069876670837, Accuracy: 97.51319885253906, AUC: 93.43726348876953, Validation Loss: 0.13508640229701996, Validation Accuracy: 95.16252136230469, Validation AUC: 87.94464111328125\n"
     ]
    },
    {
     "name": "stderr",
     "output_type": "stream",
     "text": [
      "Epoch: 48: 100%|██████████| 69/69 [00:11<00:00,  6.25it/s]\n"
     ]
    },
    {
     "name": "stdout",
     "output_type": "stream",
     "text": [
      "Loss: 0.06909879297018051, Accuracy: 97.4716567993164, AUC: 93.27274322509766, Validation Loss: 0.10924036055803299, Validation Accuracy: 96.19986724853516, Validation AUC: 87.81880950927734\n"
     ]
    },
    {
     "name": "stderr",
     "output_type": "stream",
     "text": [
      "Epoch: 49: 100%|██████████| 69/69 [00:11<00:00,  6.26it/s]\n"
     ]
    },
    {
     "name": "stdout",
     "output_type": "stream",
     "text": [
      "Loss: 0.0654389038681984, Accuracy: 97.61518096923828, AUC: 93.45406341552734, Validation Loss: 0.11264216899871826, Validation Accuracy: 96.14321899414062, Validation AUC: 87.16510772705078\n"
     ]
    }
   ],
   "source": [
    "num_classes = 93\n",
    "trainer = PTBXLTrainer(ensemble[0], model_name=\"full_supervised_inception_1\", num_labels=num_classes, model_base_dir=\"../models\", log_base_dir=\"../logs\")\n",
    "trainer.fit(data_module.train_dataset, data_module.validation_dataset)"
   ],
   "metadata": {
    "collapsed": false,
    "ExecuteTime": {
     "end_time": "2024-02-20T09:23:17.316536800Z",
     "start_time": "2024-02-20T09:12:20.925372500Z"
    }
   },
   "id": "5f7b9054a7da29",
   "execution_count": 19
  },
  {
   "cell_type": "code",
   "outputs": [
    {
     "name": "stderr",
     "output_type": "stream",
     "text": [
      "Epoch: 0: 100%|██████████| 69/69 [00:21<00:00,  3.20it/s]\n"
     ]
    },
    {
     "name": "stdout",
     "output_type": "stream",
     "text": [
      "Saving new best model with AUC: 0.7365515828132629\n",
      "Loss: 0.25416165590286255, Accuracy: 90.99275207519531, AUC: 64.2433090209961, Validation Loss: 0.22151218354701996, Validation Accuracy: 92.40464782714844, Validation AUC: 73.65515899658203\n"
     ]
    },
    {
     "name": "stderr",
     "output_type": "stream",
     "text": [
      "Epoch: 1: 100%|██████████| 69/69 [00:10<00:00,  6.63it/s]\n"
     ]
    },
    {
     "name": "stdout",
     "output_type": "stream",
     "text": [
      "Saving new best model with AUC: 0.7800142168998718\n",
      "Loss: 0.13595597445964813, Accuracy: 95.18246459960938, AUC: 79.03479766845703, Validation Loss: 0.1647363305091858, Validation Accuracy: 93.9384994506836, Validation AUC: 78.00141906738281\n"
     ]
    },
    {
     "name": "stderr",
     "output_type": "stream",
     "text": [
      "Epoch: 2: 100%|██████████| 69/69 [00:10<00:00,  6.69it/s]\n"
     ]
    },
    {
     "name": "stdout",
     "output_type": "stream",
     "text": [
      "Saving new best model with AUC: 0.8196472525596619\n",
      "Loss: 0.12274917960166931, Accuracy: 95.62688446044922, AUC: 80.89920043945312, Validation Loss: 0.13198477029800415, Validation Accuracy: 95.3541259765625, Validation AUC: 81.9647216796875\n"
     ]
    },
    {
     "name": "stderr",
     "output_type": "stream",
     "text": [
      "Epoch: 3: 100%|██████████| 69/69 [00:10<00:00,  6.66it/s]\n"
     ]
    },
    {
     "name": "stdout",
     "output_type": "stream",
     "text": [
      "Loss: 0.11415381729602814, Accuracy: 95.88523864746094, AUC: 83.38024139404297, Validation Loss: 0.13990150392055511, Validation Accuracy: 94.78669738769531, Validation AUC: 79.98888397216797\n"
     ]
    },
    {
     "name": "stderr",
     "output_type": "stream",
     "text": [
      "Epoch: 4: 100%|██████████| 69/69 [00:10<00:00,  6.66it/s]\n"
     ]
    },
    {
     "name": "stdout",
     "output_type": "stream",
     "text": [
      "Loss: 0.11089017242193222, Accuracy: 96.04727935791016, AUC: 84.01591491699219, Validation Loss: 0.14734435081481934, Validation Accuracy: 94.29905700683594, Validation AUC: 81.42554473876953\n"
     ]
    },
    {
     "name": "stderr",
     "output_type": "stream",
     "text": [
      "Epoch: 5: 100%|██████████| 69/69 [00:10<00:00,  6.67it/s]\n"
     ]
    },
    {
     "name": "stdout",
     "output_type": "stream",
     "text": [
      "Saving new best model with AUC: 0.8422210216522217\n",
      "Loss: 0.1083083301782608, Accuracy: 96.1190185546875, AUC: 84.73506927490234, Validation Loss: 0.13716132938861847, Validation Accuracy: 94.85368347167969, Validation AUC: 84.22209930419922\n"
     ]
    },
    {
     "name": "stderr",
     "output_type": "stream",
     "text": [
      "Epoch: 6: 100%|██████████| 69/69 [00:10<00:00,  6.61it/s]\n"
     ]
    },
    {
     "name": "stdout",
     "output_type": "stream",
     "text": [
      "Loss: 0.10411351174116135, Accuracy: 96.20569610595703, AUC: 84.60545349121094, Validation Loss: 0.14116479456424713, Validation Accuracy: 94.5231704711914, Validation AUC: 82.88616180419922\n"
     ]
    },
    {
     "name": "stderr",
     "output_type": "stream",
     "text": [
      "Epoch: 7: 100%|██████████| 69/69 [00:10<00:00,  6.62it/s]\n"
     ]
    },
    {
     "name": "stdout",
     "output_type": "stream",
     "text": [
      "Loss: 0.10047537833452225, Accuracy: 96.36490631103516, AUC: 85.38705444335938, Validation Loss: 0.14933264255523682, Validation Accuracy: 94.03602600097656, Validation AUC: 83.39408874511719\n"
     ]
    },
    {
     "name": "stderr",
     "output_type": "stream",
     "text": [
      "Epoch: 8: 100%|██████████| 69/69 [00:10<00:00,  6.61it/s]\n"
     ]
    },
    {
     "name": "stdout",
     "output_type": "stream",
     "text": [
      "Loss: 0.10088355839252472, Accuracy: 96.36823272705078, AUC: 86.24400329589844, Validation Loss: 0.1345520317554474, Validation Accuracy: 95.0142593383789, Validation AUC: 81.61412811279297\n"
     ]
    },
    {
     "name": "stderr",
     "output_type": "stream",
     "text": [
      "Epoch: 9: 100%|██████████| 69/69 [00:10<00:00,  6.70it/s]\n"
     ]
    },
    {
     "name": "stdout",
     "output_type": "stream",
     "text": [
      "Saving new best model with AUC: 0.8481272459030151\n",
      "Loss: 0.09765305370092392, Accuracy: 96.47145080566406, AUC: 86.2451171875, Validation Loss: 0.11165723204612732, Validation Accuracy: 95.89643859863281, Validation AUC: 84.8127212524414\n"
     ]
    },
    {
     "name": "stderr",
     "output_type": "stream",
     "text": [
      "Epoch: 10: 100%|██████████| 69/69 [00:10<00:00,  6.66it/s]\n"
     ]
    },
    {
     "name": "stdout",
     "output_type": "stream",
     "text": [
      "Loss: 0.09903592616319656, Accuracy: 96.44095611572266, AUC: 86.2042007446289, Validation Loss: 0.11176000535488129, Validation Accuracy: 96.013671875, Validation AUC: 83.55538940429688\n"
     ]
    },
    {
     "name": "stderr",
     "output_type": "stream",
     "text": [
      "Epoch: 11: 100%|██████████| 69/69 [00:10<00:00,  6.63it/s]\n"
     ]
    },
    {
     "name": "stdout",
     "output_type": "stream",
     "text": [
      "Saving new best model with AUC: 0.8506736159324646\n",
      "Loss: 0.09495168924331665, Accuracy: 96.51367950439453, AUC: 86.92096710205078, Validation Loss: 0.10882794857025146, Validation Accuracy: 96.04519653320312, Validation AUC: 85.0673599243164\n"
     ]
    },
    {
     "name": "stderr",
     "output_type": "stream",
     "text": [
      "Epoch: 12: 100%|██████████| 69/69 [00:10<00:00,  6.68it/s]\n"
     ]
    },
    {
     "name": "stdout",
     "output_type": "stream",
     "text": [
      "Loss: 0.09356457740068436, Accuracy: 96.60912322998047, AUC: 87.64522552490234, Validation Loss: 0.11236703395843506, Validation Accuracy: 95.8476791381836, Validation AUC: 84.9427261352539\n"
     ]
    },
    {
     "name": "stderr",
     "output_type": "stream",
     "text": [
      "Epoch: 13: 100%|██████████| 69/69 [00:10<00:00,  6.68it/s]\n"
     ]
    },
    {
     "name": "stdout",
     "output_type": "stream",
     "text": [
      "Loss: 0.09207922965288162, Accuracy: 96.63313293457031, AUC: 88.13636016845703, Validation Loss: 0.12399011105298996, Validation Accuracy: 95.2585678100586, Validation AUC: 84.60313415527344\n"
     ]
    },
    {
     "name": "stderr",
     "output_type": "stream",
     "text": [
      "Epoch: 14: 100%|██████████| 69/69 [00:10<00:00,  6.62it/s]\n"
     ]
    },
    {
     "name": "stdout",
     "output_type": "stream",
     "text": [
      "Saving new best model with AUC: 0.8615349531173706\n",
      "Loss: 0.09139589965343475, Accuracy: 96.66887664794922, AUC: 88.21443939208984, Validation Loss: 0.11415452510118484, Validation Accuracy: 95.88314056396484, Validation AUC: 86.15349578857422\n"
     ]
    },
    {
     "name": "stderr",
     "output_type": "stream",
     "text": [
      "Epoch: 15: 100%|██████████| 69/69 [00:10<00:00,  6.67it/s]\n"
     ]
    },
    {
     "name": "stdout",
     "output_type": "stream",
     "text": [
      "Loss: 0.09087037295103073, Accuracy: 96.69005584716797, AUC: 88.1705551147461, Validation Loss: 0.11878499388694763, Validation Accuracy: 95.61125183105469, Validation AUC: 86.02546691894531\n"
     ]
    },
    {
     "name": "stderr",
     "output_type": "stream",
     "text": [
      "Epoch: 16: 100%|██████████| 69/69 [00:10<00:00,  6.69it/s]\n"
     ]
    },
    {
     "name": "stdout",
     "output_type": "stream",
     "text": [
      "Loss: 0.08903185278177261, Accuracy: 96.76314544677734, AUC: 88.64750671386719, Validation Loss: 0.11161705106496811, Validation Accuracy: 96.00234985351562, Validation AUC: 85.2811279296875\n"
     ]
    },
    {
     "name": "stderr",
     "output_type": "stream",
     "text": [
      "Epoch: 17: 100%|██████████| 69/69 [00:10<00:00,  6.70it/s]\n"
     ]
    },
    {
     "name": "stdout",
     "output_type": "stream",
     "text": [
      "Saving new best model with AUC: 0.8649111390113831\n",
      "Loss: 0.0878603458404541, Accuracy: 96.8023452758789, AUC: 88.83586120605469, Validation Loss: 0.11278171092271805, Validation Accuracy: 95.91910552978516, Validation AUC: 86.4911117553711\n"
     ]
    },
    {
     "name": "stderr",
     "output_type": "stream",
     "text": [
      "Epoch: 18: 100%|██████████| 69/69 [00:10<00:00,  6.67it/s]\n"
     ]
    },
    {
     "name": "stdout",
     "output_type": "stream",
     "text": [
      "Loss: 0.08836232870817184, Accuracy: 96.8129653930664, AUC: 89.14592742919922, Validation Loss: 0.11161719262599945, Validation Accuracy: 95.94471740722656, Validation AUC: 85.90621185302734\n"
     ]
    },
    {
     "name": "stderr",
     "output_type": "stream",
     "text": [
      "Epoch: 19: 100%|██████████| 69/69 [00:10<00:00,  6.69it/s]\n"
     ]
    },
    {
     "name": "stdout",
     "output_type": "stream",
     "text": [
      "Saving new best model with AUC: 0.8714296817779541\n",
      "Loss: 0.08846268802881241, Accuracy: 96.78264617919922, AUC: 89.18379211425781, Validation Loss: 0.10872229933738708, Validation Accuracy: 96.00037384033203, Validation AUC: 87.1429672241211\n"
     ]
    },
    {
     "name": "stderr",
     "output_type": "stream",
     "text": [
      "Epoch: 20: 100%|██████████| 69/69 [00:10<00:00,  6.66it/s]\n"
     ]
    },
    {
     "name": "stdout",
     "output_type": "stream",
     "text": [
      "Loss: 0.08666780591011047, Accuracy: 96.86333465576172, AUC: 89.08661651611328, Validation Loss: 0.11604113131761551, Validation Accuracy: 95.8338851928711, Validation AUC: 85.79498291015625\n"
     ]
    },
    {
     "name": "stderr",
     "output_type": "stream",
     "text": [
      "Epoch: 21: 100%|██████████| 69/69 [00:10<00:00,  6.64it/s]\n"
     ]
    },
    {
     "name": "stdout",
     "output_type": "stream",
     "text": [
      "Loss: 0.0870041474699974, Accuracy: 96.8201904296875, AUC: 89.25831604003906, Validation Loss: 0.1069159060716629, Validation Accuracy: 96.10676574707031, Validation AUC: 86.49705505371094\n"
     ]
    },
    {
     "name": "stderr",
     "output_type": "stream",
     "text": [
      "Epoch: 22: 100%|██████████| 69/69 [00:10<00:00,  6.69it/s]\n"
     ]
    },
    {
     "name": "stdout",
     "output_type": "stream",
     "text": [
      "Loss: 0.08400721102952957, Accuracy: 96.96136474609375, AUC: 89.92637634277344, Validation Loss: 0.11761924624443054, Validation Accuracy: 95.62898254394531, Validation AUC: 86.08145141601562\n"
     ]
    },
    {
     "name": "stderr",
     "output_type": "stream",
     "text": [
      "Epoch: 23: 100%|██████████| 69/69 [00:10<00:00,  6.65it/s]\n"
     ]
    },
    {
     "name": "stdout",
     "output_type": "stream",
     "text": [
      "Loss: 0.08369726687669754, Accuracy: 96.93698120117188, AUC: 90.04104614257812, Validation Loss: 0.11070112138986588, Validation Accuracy: 95.96343231201172, Validation AUC: 86.90192413330078\n"
     ]
    },
    {
     "name": "stderr",
     "output_type": "stream",
     "text": [
      "Epoch: 24: 100%|██████████| 69/69 [00:10<00:00,  6.67it/s]\n"
     ]
    },
    {
     "name": "stdout",
     "output_type": "stream",
     "text": [
      "Loss: 0.08295153081417084, Accuracy: 97.0167465209961, AUC: 90.25994873046875, Validation Loss: 0.1305985003709793, Validation Accuracy: 95.14232635498047, Validation AUC: 86.35713195800781\n"
     ]
    },
    {
     "name": "stderr",
     "output_type": "stream",
     "text": [
      "Epoch: 25: 100%|██████████| 69/69 [00:10<00:00,  6.67it/s]\n"
     ]
    },
    {
     "name": "stdout",
     "output_type": "stream",
     "text": [
      "Loss: 0.08616562932729721, Accuracy: 96.85253143310547, AUC: 89.56397247314453, Validation Loss: 0.11400849372148514, Validation Accuracy: 95.82058715820312, Validation AUC: 86.93128967285156\n"
     ]
    },
    {
     "name": "stderr",
     "output_type": "stream",
     "text": [
      "Epoch: 26: 100%|██████████| 69/69 [00:10<00:00,  6.67it/s]\n"
     ]
    },
    {
     "name": "stdout",
     "output_type": "stream",
     "text": [
      "Saving new best model with AUC: 0.8717326521873474\n",
      "Loss: 0.08139245212078094, Accuracy: 97.01495361328125, AUC: 90.30052947998047, Validation Loss: 0.10950697958469391, Validation Accuracy: 95.99150848388672, Validation AUC: 87.17326354980469\n"
     ]
    },
    {
     "name": "stderr",
     "output_type": "stream",
     "text": [
      "Epoch: 27: 100%|██████████| 69/69 [00:10<00:00,  6.67it/s]\n"
     ]
    },
    {
     "name": "stdout",
     "output_type": "stream",
     "text": [
      "Loss: 0.08045531809329987, Accuracy: 97.11113739013672, AUC: 90.42925262451172, Validation Loss: 0.1147986650466919, Validation Accuracy: 95.81319427490234, Validation AUC: 87.1284408569336\n"
     ]
    },
    {
     "name": "stderr",
     "output_type": "stream",
     "text": [
      "Epoch: 28: 100%|██████████| 69/69 [00:10<00:00,  6.64it/s]\n"
     ]
    },
    {
     "name": "stdout",
     "output_type": "stream",
     "text": [
      "Loss: 0.08323772996664047, Accuracy: 96.94062805175781, AUC: 90.19586181640625, Validation Loss: 0.10712974518537521, Validation Accuracy: 96.06588745117188, Validation AUC: 86.15541076660156\n"
     ]
    },
    {
     "name": "stderr",
     "output_type": "stream",
     "text": [
      "Epoch: 29: 100%|██████████| 69/69 [00:10<00:00,  6.67it/s]\n"
     ]
    },
    {
     "name": "stdout",
     "output_type": "stream",
     "text": [
      "Saving new best model with AUC: 0.8763554692268372\n",
      "Loss: 0.07972023636102676, Accuracy: 97.06773376464844, AUC: 90.57268524169922, Validation Loss: 0.10684701800346375, Validation Accuracy: 96.05751037597656, Validation AUC: 87.63554382324219\n"
     ]
    },
    {
     "name": "stderr",
     "output_type": "stream",
     "text": [
      "Epoch: 30: 100%|██████████| 69/69 [00:10<00:00,  6.64it/s]\n"
     ]
    },
    {
     "name": "stdout",
     "output_type": "stream",
     "text": [
      "Loss: 0.07896271347999573, Accuracy: 97.08551025390625, AUC: 90.90543365478516, Validation Loss: 0.10993499308824539, Validation Accuracy: 95.97673034667969, Validation AUC: 86.4729995727539\n"
     ]
    },
    {
     "name": "stderr",
     "output_type": "stream",
     "text": [
      "Epoch: 31: 100%|██████████| 69/69 [00:10<00:00,  6.65it/s]\n"
     ]
    },
    {
     "name": "stdout",
     "output_type": "stream",
     "text": [
      "Loss: 0.08104180544614792, Accuracy: 97.07465362548828, AUC: 90.94855499267578, Validation Loss: 0.10797977447509766, Validation Accuracy: 96.01761627197266, Validation AUC: 86.48579406738281\n"
     ]
    },
    {
     "name": "stderr",
     "output_type": "stream",
     "text": [
      "Epoch: 32: 100%|██████████| 69/69 [00:10<00:00,  6.68it/s]\n"
     ]
    },
    {
     "name": "stdout",
     "output_type": "stream",
     "text": [
      "Loss: 0.07971194386482239, Accuracy: 97.08088684082031, AUC: 91.31489562988281, Validation Loss: 0.10705666989088058, Validation Accuracy: 96.11711120605469, Validation AUC: 87.62200164794922\n"
     ]
    },
    {
     "name": "stderr",
     "output_type": "stream",
     "text": [
      "Epoch: 33: 100%|██████████| 69/69 [00:10<00:00,  6.63it/s]\n"
     ]
    },
    {
     "name": "stdout",
     "output_type": "stream",
     "text": [
      "Saving new best model with AUC: 0.8845892548561096\n",
      "Loss: 0.07680702209472656, Accuracy: 97.20441436767578, AUC: 91.09601593017578, Validation Loss: 0.1409265100955963, Validation Accuracy: 94.6965560913086, Validation AUC: 88.45892333984375\n"
     ]
    },
    {
     "name": "stderr",
     "output_type": "stream",
     "text": [
      "Epoch: 34: 100%|██████████| 69/69 [00:10<00:00,  6.70it/s]\n"
     ]
    },
    {
     "name": "stdout",
     "output_type": "stream",
     "text": [
      "Loss: 0.07602992653846741, Accuracy: 97.24305725097656, AUC: 91.5136947631836, Validation Loss: 0.11488386988639832, Validation Accuracy: 95.8053207397461, Validation AUC: 86.82928466796875\n"
     ]
    },
    {
     "name": "stderr",
     "output_type": "stream",
     "text": [
      "Epoch: 35: 100%|██████████| 69/69 [00:10<00:00,  6.69it/s]\n"
     ]
    },
    {
     "name": "stdout",
     "output_type": "stream",
     "text": [
      "Loss: 0.07686759531497955, Accuracy: 97.20040130615234, AUC: 91.0697250366211, Validation Loss: 0.1084444597363472, Validation Accuracy: 96.05899047851562, Validation AUC: 88.00606536865234\n"
     ]
    },
    {
     "name": "stderr",
     "output_type": "stream",
     "text": [
      "Epoch: 36: 100%|██████████| 69/69 [00:10<00:00,  6.68it/s]\n"
     ]
    },
    {
     "name": "stdout",
     "output_type": "stream",
     "text": [
      "Loss: 0.07577899098396301, Accuracy: 97.22262573242188, AUC: 91.39535522460938, Validation Loss: 0.11294123530387878, Validation Accuracy: 95.91959381103516, Validation AUC: 86.30442810058594\n"
     ]
    },
    {
     "name": "stderr",
     "output_type": "stream",
     "text": [
      "Epoch: 37: 100%|██████████| 69/69 [00:10<00:00,  6.66it/s]\n"
     ]
    },
    {
     "name": "stdout",
     "output_type": "stream",
     "text": [
      "Loss: 0.07411296665668488, Accuracy: 97.32355499267578, AUC: 91.8253402709961, Validation Loss: 0.11844967305660248, Validation Accuracy: 95.87525939941406, Validation AUC: 86.21070098876953\n"
     ]
    },
    {
     "name": "stderr",
     "output_type": "stream",
     "text": [
      "Epoch: 38: 100%|██████████| 69/69 [00:10<00:00,  6.68it/s]\n"
     ]
    },
    {
     "name": "stdout",
     "output_type": "stream",
     "text": [
      "Loss: 0.07425236701965332, Accuracy: 97.30337524414062, AUC: 91.69667053222656, Validation Loss: 0.1114543154835701, Validation Accuracy: 96.02943420410156, Validation AUC: 87.09009552001953\n"
     ]
    },
    {
     "name": "stderr",
     "output_type": "stream",
     "text": [
      "Epoch: 39: 100%|██████████| 69/69 [00:10<00:00,  6.65it/s]\n"
     ]
    },
    {
     "name": "stdout",
     "output_type": "stream",
     "text": [
      "Saving new best model with AUC: 0.8884415030479431\n",
      "Loss: 0.07427612692117691, Accuracy: 97.3679428100586, AUC: 91.78433990478516, Validation Loss: 0.12372761219739914, Validation Accuracy: 95.30240631103516, Validation AUC: 88.84414672851562\n"
     ]
    },
    {
     "name": "stderr",
     "output_type": "stream",
     "text": [
      "Epoch: 40: 100%|██████████| 69/69 [00:10<00:00,  6.65it/s]\n"
     ]
    },
    {
     "name": "stdout",
     "output_type": "stream",
     "text": [
      "Loss: 0.07768650352954865, Accuracy: 97.18460083007812, AUC: 91.35829162597656, Validation Loss: 0.13892199099063873, Validation Accuracy: 94.86451721191406, Validation AUC: 87.02754974365234\n"
     ]
    },
    {
     "name": "stderr",
     "output_type": "stream",
     "text": [
      "Epoch: 41: 100%|██████████| 69/69 [00:10<00:00,  6.63it/s]\n"
     ]
    },
    {
     "name": "stdout",
     "output_type": "stream",
     "text": [
      "Loss: 0.07440786063671112, Accuracy: 97.29707336425781, AUC: 91.70549774169922, Validation Loss: 0.10730548948049545, Validation Accuracy: 96.18311309814453, Validation AUC: 87.71227264404297\n"
     ]
    },
    {
     "name": "stderr",
     "output_type": "stream",
     "text": [
      "Epoch: 42: 100%|██████████| 69/69 [00:10<00:00,  6.68it/s]\n"
     ]
    },
    {
     "name": "stdout",
     "output_type": "stream",
     "text": [
      "Saving new best model with AUC: 0.8891266584396362\n",
      "Loss: 0.07233700901269913, Accuracy: 97.3641128540039, AUC: 92.24397277832031, Validation Loss: 0.11368516087532043, Validation Accuracy: 95.8900375366211, Validation AUC: 88.91266632080078\n"
     ]
    },
    {
     "name": "stderr",
     "output_type": "stream",
     "text": [
      "Epoch: 43: 100%|██████████| 69/69 [00:10<00:00,  6.67it/s]\n"
     ]
    },
    {
     "name": "stdout",
     "output_type": "stream",
     "text": [
      "Loss: 0.07288993149995804, Accuracy: 97.35677337646484, AUC: 92.46226501464844, Validation Loss: 0.120426245033741, Validation Accuracy: 95.66592407226562, Validation AUC: 88.58060455322266\n"
     ]
    },
    {
     "name": "stderr",
     "output_type": "stream",
     "text": [
      "Epoch: 44: 100%|██████████| 69/69 [00:10<00:00,  6.63it/s]\n"
     ]
    },
    {
     "name": "stdout",
     "output_type": "stream",
     "text": [
      "Loss: 0.07176799327135086, Accuracy: 97.35738372802734, AUC: 92.22791290283203, Validation Loss: 0.10993924736976624, Validation Accuracy: 96.01022338867188, Validation AUC: 88.3249740600586\n"
     ]
    },
    {
     "name": "stderr",
     "output_type": "stream",
     "text": [
      "Epoch: 45: 100%|██████████| 69/69 [00:10<00:00,  6.68it/s]\n"
     ]
    },
    {
     "name": "stdout",
     "output_type": "stream",
     "text": [
      "Loss: 0.0695725530385971, Accuracy: 97.45294952392578, AUC: 92.59879302978516, Validation Loss: 0.12052702903747559, Validation Accuracy: 95.58316802978516, Validation AUC: 86.67388916015625\n"
     ]
    },
    {
     "name": "stderr",
     "output_type": "stream",
     "text": [
      "Epoch: 46: 100%|██████████| 69/69 [00:10<00:00,  6.66it/s]\n"
     ]
    },
    {
     "name": "stdout",
     "output_type": "stream",
     "text": [
      "Loss: 0.07409931719303131, Accuracy: 97.28849792480469, AUC: 92.30292510986328, Validation Loss: 0.1269933432340622, Validation Accuracy: 95.5472183227539, Validation AUC: 87.39067840576172\n"
     ]
    },
    {
     "name": "stderr",
     "output_type": "stream",
     "text": [
      "Epoch: 47: 100%|██████████| 69/69 [00:10<00:00,  6.65it/s]\n"
     ]
    },
    {
     "name": "stdout",
     "output_type": "stream",
     "text": [
      "Loss: 0.07025323808193207, Accuracy: 97.41560363769531, AUC: 92.71440124511719, Validation Loss: 0.11023534834384918, Validation Accuracy: 96.06588745117188, Validation AUC: 88.36750030517578\n"
     ]
    },
    {
     "name": "stderr",
     "output_type": "stream",
     "text": [
      "Epoch: 48: 100%|██████████| 69/69 [00:10<00:00,  6.66it/s]\n"
     ]
    },
    {
     "name": "stdout",
     "output_type": "stream",
     "text": [
      "Loss: 0.0683346688747406, Accuracy: 97.50338745117188, AUC: 92.8779525756836, Validation Loss: 0.11058307439088821, Validation Accuracy: 95.9993896484375, Validation AUC: 87.96160125732422\n"
     ]
    },
    {
     "name": "stderr",
     "output_type": "stream",
     "text": [
      "Epoch: 49: 100%|██████████| 69/69 [00:10<00:00,  6.65it/s]\n"
     ]
    },
    {
     "name": "stdout",
     "output_type": "stream",
     "text": [
      "Loss: 0.06766028702259064, Accuracy: 97.55079650878906, AUC: 93.12366485595703, Validation Loss: 0.11276347190141678, Validation Accuracy: 95.9314193725586, Validation AUC: 88.25331115722656\n"
     ]
    }
   ],
   "source": [
    "trainer = PTBXLTrainer(ensemble[1], model_name=\"full_supervised_inception_2\", num_labels=num_classes, model_base_dir=\"../models\", log_base_dir=\"../logs\")\n",
    "trainer.fit(data_module.train_dataset, data_module.validation_dataset)"
   ],
   "metadata": {
    "collapsed": false,
    "ExecuteTime": {
     "end_time": "2024-02-20T09:39:34.240797700Z",
     "start_time": "2024-02-20T09:29:41.052415500Z"
    }
   },
   "id": "94d9f34c3fe59711",
   "execution_count": 20
  },
  {
   "cell_type": "code",
   "outputs": [
    {
     "name": "stderr",
     "output_type": "stream",
     "text": [
      "Epoch: 0: 100%|██████████| 69/69 [00:19<00:00,  3.61it/s]\n"
     ]
    },
    {
     "name": "stdout",
     "output_type": "stream",
     "text": [
      "Saving new best model with AUC: 0.7597726583480835\n",
      "Loss: 0.2582937777042389, Accuracy: 91.0049819946289, AUC: 63.35000991821289, Validation Loss: 0.2113575041294098, Validation Accuracy: 93.1474380493164, Validation AUC: 75.97726440429688\n"
     ]
    },
    {
     "name": "stderr",
     "output_type": "stream",
     "text": [
      "Epoch: 1: 100%|██████████| 69/69 [00:10<00:00,  6.67it/s]\n"
     ]
    },
    {
     "name": "stdout",
     "output_type": "stream",
     "text": [
      "Saving new best model with AUC: 0.7976624965667725\n",
      "Loss: 0.1375710517168045, Accuracy: 95.19302368164062, AUC: 78.31536865234375, Validation Loss: 0.16289430856704712, Validation Accuracy: 94.15079498291016, Validation AUC: 79.76625061035156\n"
     ]
    },
    {
     "name": "stderr",
     "output_type": "stream",
     "text": [
      "Epoch: 2: 100%|██████████| 69/69 [00:10<00:00,  6.54it/s]\n"
     ]
    },
    {
     "name": "stdout",
     "output_type": "stream",
     "text": [
      "Saving new best model with AUC: 0.8122375011444092\n",
      "Loss: 0.12220526486635208, Accuracy: 95.65027618408203, AUC: 81.49431610107422, Validation Loss: 0.13539007306098938, Validation Accuracy: 95.2103042602539, Validation AUC: 81.22374725341797\n"
     ]
    },
    {
     "name": "stderr",
     "output_type": "stream",
     "text": [
      "Epoch: 3: 100%|██████████| 69/69 [00:10<00:00,  6.67it/s]\n"
     ]
    },
    {
     "name": "stdout",
     "output_type": "stream",
     "text": [
      "Saving new best model with AUC: 0.8177695274353027\n",
      "Loss: 0.11522474884986877, Accuracy: 95.88140869140625, AUC: 83.16646575927734, Validation Loss: 0.1497306227684021, Validation Accuracy: 94.29511260986328, Validation AUC: 81.7769546508789\n"
     ]
    },
    {
     "name": "stderr",
     "output_type": "stream",
     "text": [
      "Epoch: 4: 100%|██████████| 69/69 [00:10<00:00,  6.64it/s]\n"
     ]
    },
    {
     "name": "stdout",
     "output_type": "stream",
     "text": [
      "Saving new best model with AUC: 0.8195773959159851\n",
      "Loss: 0.11028144508600235, Accuracy: 96.01641845703125, AUC: 84.46415710449219, Validation Loss: 0.12236383557319641, Validation Accuracy: 95.55213928222656, Validation AUC: 81.9577407836914\n"
     ]
    },
    {
     "name": "stderr",
     "output_type": "stream",
     "text": [
      "Epoch: 5: 100%|██████████| 69/69 [00:10<00:00,  6.70it/s]\n"
     ]
    },
    {
     "name": "stdout",
     "output_type": "stream",
     "text": [
      "Saving new best model with AUC: 0.8458683490753174\n",
      "Loss: 0.10635396838188171, Accuracy: 96.15106201171875, AUC: 84.67072296142578, Validation Loss: 0.11825717985630035, Validation Accuracy: 95.61962127685547, Validation AUC: 84.58683776855469\n"
     ]
    },
    {
     "name": "stderr",
     "output_type": "stream",
     "text": [
      "Epoch: 6: 100%|██████████| 69/69 [00:10<00:00,  6.66it/s]\n"
     ]
    },
    {
     "name": "stdout",
     "output_type": "stream",
     "text": [
      "Saving new best model with AUC: 0.8485563397407532\n",
      "Loss: 0.1025065928697586, Accuracy: 96.27323150634766, AUC: 85.08658599853516, Validation Loss: 0.13327540457248688, Validation Accuracy: 94.85417938232422, Validation AUC: 84.85563659667969\n"
     ]
    },
    {
     "name": "stderr",
     "output_type": "stream",
     "text": [
      "Epoch: 7: 100%|██████████| 69/69 [00:10<00:00,  6.65it/s]\n"
     ]
    },
    {
     "name": "stdout",
     "output_type": "stream",
     "text": [
      "Loss: 0.10057364404201508, Accuracy: 96.36273956298828, AUC: 85.60880279541016, Validation Loss: 0.12042001634836197, Validation Accuracy: 95.4940185546875, Validation AUC: 84.19593811035156\n"
     ]
    },
    {
     "name": "stderr",
     "output_type": "stream",
     "text": [
      "Epoch: 8: 100%|██████████| 69/69 [00:10<00:00,  6.68it/s]\n"
     ]
    },
    {
     "name": "stdout",
     "output_type": "stream",
     "text": [
      "Loss: 0.09981817752122879, Accuracy: 96.4089126586914, AUC: 86.40953826904297, Validation Loss: 0.11411367356777191, Validation Accuracy: 95.79546356201172, Validation AUC: 83.91475677490234\n"
     ]
    },
    {
     "name": "stderr",
     "output_type": "stream",
     "text": [
      "Epoch: 9: 100%|██████████| 69/69 [00:10<00:00,  6.69it/s]\n"
     ]
    },
    {
     "name": "stdout",
     "output_type": "stream",
     "text": [
      "Loss: 0.09815187007188797, Accuracy: 96.415771484375, AUC: 85.98686981201172, Validation Loss: 0.11285987496376038, Validation Accuracy: 95.83191680908203, Validation AUC: 84.594970703125\n"
     ]
    },
    {
     "name": "stderr",
     "output_type": "stream",
     "text": [
      "Epoch: 10: 100%|██████████| 69/69 [00:10<00:00,  6.67it/s]\n"
     ]
    },
    {
     "name": "stdout",
     "output_type": "stream",
     "text": [
      "Loss: 0.09535276144742966, Accuracy: 96.5399169921875, AUC: 87.76380920410156, Validation Loss: 0.1202782392501831, Validation Accuracy: 95.53785705566406, Validation AUC: 83.36274719238281\n"
     ]
    },
    {
     "name": "stderr",
     "output_type": "stream",
     "text": [
      "Epoch: 11: 100%|██████████| 69/69 [00:10<00:00,  6.67it/s]\n"
     ]
    },
    {
     "name": "stdout",
     "output_type": "stream",
     "text": [
      "Saving new best model with AUC: 0.8516967296600342\n",
      "Loss: 0.09594597667455673, Accuracy: 96.49658203125, AUC: 87.61321258544922, Validation Loss: 0.11221054941415787, Validation Accuracy: 95.83684539794922, Validation AUC: 85.16967010498047\n"
     ]
    },
    {
     "name": "stderr",
     "output_type": "stream",
     "text": [
      "Epoch: 12: 100%|██████████| 69/69 [00:10<00:00,  6.63it/s]\n"
     ]
    },
    {
     "name": "stdout",
     "output_type": "stream",
     "text": [
      "Saving new best model with AUC: 0.8531345725059509\n",
      "Loss: 0.09190469235181808, Accuracy: 96.65757751464844, AUC: 87.79279327392578, Validation Loss: 0.11600793898105621, Validation Accuracy: 95.62405395507812, Validation AUC: 85.3134536743164\n"
     ]
    },
    {
     "name": "stderr",
     "output_type": "stream",
     "text": [
      "Epoch: 13: 100%|██████████| 69/69 [00:10<00:00,  6.68it/s]\n"
     ]
    },
    {
     "name": "stdout",
     "output_type": "stream",
     "text": [
      "Saving new best model with AUC: 0.8639655709266663\n",
      "Loss: 0.0920189693570137, Accuracy: 96.63288879394531, AUC: 87.67017364501953, Validation Loss: 0.11649192869663239, Validation Accuracy: 95.63784790039062, Validation AUC: 86.39656066894531\n"
     ]
    },
    {
     "name": "stderr",
     "output_type": "stream",
     "text": [
      "Epoch: 14: 100%|██████████| 69/69 [00:10<00:00,  6.67it/s]\n"
     ]
    },
    {
     "name": "stdout",
     "output_type": "stream",
     "text": [
      "Saving new best model with AUC: 0.8691094517707825\n",
      "Loss: 0.09128938615322113, Accuracy: 96.6531982421875, AUC: 88.74750518798828, Validation Loss: 0.11346983909606934, Validation Accuracy: 95.84373474121094, Validation AUC: 86.91094207763672\n"
     ]
    },
    {
     "name": "stderr",
     "output_type": "stream",
     "text": [
      "Epoch: 15: 100%|██████████| 69/69 [00:10<00:00,  6.67it/s]\n"
     ]
    },
    {
     "name": "stdout",
     "output_type": "stream",
     "text": [
      "Saving new best model with AUC: 0.8706701397895813\n",
      "Loss: 0.08854465931653976, Accuracy: 96.78937530517578, AUC: 88.87928009033203, Validation Loss: 0.1087542474269867, Validation Accuracy: 96.03731536865234, Validation AUC: 87.0670166015625\n"
     ]
    },
    {
     "name": "stderr",
     "output_type": "stream",
     "text": [
      "Epoch: 16: 100%|██████████| 69/69 [00:10<00:00,  6.65it/s]\n"
     ]
    },
    {
     "name": "stdout",
     "output_type": "stream",
     "text": [
      "Loss: 0.08925984054803848, Accuracy: 96.75579833984375, AUC: 88.60920715332031, Validation Loss: 0.11155436933040619, Validation Accuracy: 96.07820129394531, Validation AUC: 85.33193969726562\n"
     ]
    },
    {
     "name": "stderr",
     "output_type": "stream",
     "text": [
      "Epoch: 17: 100%|██████████| 69/69 [00:10<00:00,  6.70it/s]\n"
     ]
    },
    {
     "name": "stdout",
     "output_type": "stream",
     "text": [
      "Saving new best model with AUC: 0.8781956434249878\n",
      "Loss: 0.08848811686038971, Accuracy: 96.79573822021484, AUC: 88.58019256591797, Validation Loss: 0.12038552761077881, Validation Accuracy: 95.51667785644531, Validation AUC: 87.81956481933594\n"
     ]
    },
    {
     "name": "stderr",
     "output_type": "stream",
     "text": [
      "Epoch: 18: 100%|██████████| 69/69 [00:10<00:00,  6.68it/s]\n"
     ]
    },
    {
     "name": "stdout",
     "output_type": "stream",
     "text": [
      "Loss: 0.0873277336359024, Accuracy: 96.83580017089844, AUC: 89.09236907958984, Validation Loss: 0.12190168350934982, Validation Accuracy: 95.6092758178711, Validation AUC: 84.62092590332031\n"
     ]
    },
    {
     "name": "stderr",
     "output_type": "stream",
     "text": [
      "Epoch: 19: 100%|██████████| 69/69 [00:10<00:00,  6.66it/s]\n"
     ]
    },
    {
     "name": "stdout",
     "output_type": "stream",
     "text": [
      "Loss: 0.0866854190826416, Accuracy: 96.85549926757812, AUC: 89.43690490722656, Validation Loss: 0.12195715308189392, Validation Accuracy: 95.48515319824219, Validation AUC: 87.04061889648438\n"
     ]
    },
    {
     "name": "stderr",
     "output_type": "stream",
     "text": [
      "Epoch: 20: 100%|██████████| 69/69 [00:10<00:00,  6.67it/s]\n"
     ]
    },
    {
     "name": "stdout",
     "output_type": "stream",
     "text": [
      "Loss: 0.08577937632799149, Accuracy: 96.87889099121094, AUC: 89.55352783203125, Validation Loss: 0.11658304184675217, Validation Accuracy: 95.70828247070312, Validation AUC: 87.05614471435547\n"
     ]
    },
    {
     "name": "stderr",
     "output_type": "stream",
     "text": [
      "Epoch: 21: 100%|██████████| 69/69 [00:10<00:00,  6.67it/s]\n"
     ]
    },
    {
     "name": "stdout",
     "output_type": "stream",
     "text": [
      "Loss: 0.08542270213365555, Accuracy: 96.90327453613281, AUC: 90.37385559082031, Validation Loss: 0.11425406485795975, Validation Accuracy: 95.80236053466797, Validation AUC: 86.80252075195312\n"
     ]
    },
    {
     "name": "stderr",
     "output_type": "stream",
     "text": [
      "Epoch: 22: 100%|██████████| 69/69 [00:10<00:00,  6.61it/s]\n"
     ]
    },
    {
     "name": "stdout",
     "output_type": "stream",
     "text": [
      "Loss: 0.08289309591054916, Accuracy: 96.94488525390625, AUC: 90.1006851196289, Validation Loss: 0.11519128829240799, Validation Accuracy: 95.76493072509766, Validation AUC: 86.11652374267578\n"
     ]
    },
    {
     "name": "stderr",
     "output_type": "stream",
     "text": [
      "Epoch: 23: 100%|██████████| 69/69 [00:10<00:00,  6.68it/s]\n"
     ]
    },
    {
     "name": "stdout",
     "output_type": "stream",
     "text": [
      "Loss: 0.08032706379890442, Accuracy: 97.07044982910156, AUC: 90.1587142944336, Validation Loss: 0.11146966367959976, Validation Accuracy: 96.01268768310547, Validation AUC: 86.41900634765625\n"
     ]
    },
    {
     "name": "stderr",
     "output_type": "stream",
     "text": [
      "Epoch: 24: 100%|██████████| 69/69 [00:10<00:00,  6.68it/s]\n"
     ]
    },
    {
     "name": "stdout",
     "output_type": "stream",
     "text": [
      "Saving new best model with AUC: 0.87894207239151\n",
      "Loss: 0.08428240567445755, Accuracy: 96.9372329711914, AUC: 89.70144653320312, Validation Loss: 0.11507325619459152, Validation Accuracy: 95.77872467041016, Validation AUC: 87.89421081542969\n"
     ]
    },
    {
     "name": "stderr",
     "output_type": "stream",
     "text": [
      "Epoch: 25: 100%|██████████| 69/69 [00:10<00:00,  6.66it/s]\n"
     ]
    },
    {
     "name": "stdout",
     "output_type": "stream",
     "text": [
      "Loss: 0.08285074681043625, Accuracy: 96.96537780761719, AUC: 90.18112182617188, Validation Loss: 0.11735158413648605, Validation Accuracy: 95.75408935546875, Validation AUC: 87.21792602539062\n"
     ]
    },
    {
     "name": "stderr",
     "output_type": "stream",
     "text": [
      "Epoch: 26: 100%|██████████| 69/69 [00:10<00:00,  6.71it/s]\n"
     ]
    },
    {
     "name": "stdout",
     "output_type": "stream",
     "text": [
      "Loss: 0.08091188222169876, Accuracy: 97.03260803222656, AUC: 90.3823471069336, Validation Loss: 0.10666491091251373, Validation Accuracy: 96.13139343261719, Validation AUC: 86.29057312011719\n"
     ]
    },
    {
     "name": "stderr",
     "output_type": "stream",
     "text": [
      "Epoch: 27: 100%|██████████| 69/69 [00:10<00:00,  6.65it/s]\n"
     ]
    },
    {
     "name": "stdout",
     "output_type": "stream",
     "text": [
      "Loss: 0.07953144609928131, Accuracy: 97.1068115234375, AUC: 90.55232238769531, Validation Loss: 0.1612987220287323, Validation Accuracy: 94.24142456054688, Validation AUC: 87.53955078125\n"
     ]
    },
    {
     "name": "stderr",
     "output_type": "stream",
     "text": [
      "Epoch: 28: 100%|██████████| 69/69 [00:10<00:00,  6.69it/s]\n"
     ]
    },
    {
     "name": "stdout",
     "output_type": "stream",
     "text": [
      "Loss: 0.08107224106788635, Accuracy: 97.0599594116211, AUC: 90.74764251708984, Validation Loss: 0.13448341190814972, Validation Accuracy: 95.08272552490234, Validation AUC: 87.10039520263672\n"
     ]
    },
    {
     "name": "stderr",
     "output_type": "stream",
     "text": [
      "Epoch: 29: 100%|██████████| 69/69 [00:10<00:00,  6.48it/s]\n"
     ]
    },
    {
     "name": "stdout",
     "output_type": "stream",
     "text": [
      "Loss: 0.07826980203390121, Accuracy: 97.1553955078125, AUC: 90.8860092163086, Validation Loss: 0.11473771184682846, Validation Accuracy: 95.72306060791016, Validation AUC: 87.87201690673828\n"
     ]
    },
    {
     "name": "stderr",
     "output_type": "stream",
     "text": [
      "Epoch: 30: 100%|██████████| 69/69 [00:11<00:00,  6.16it/s]\n"
     ]
    },
    {
     "name": "stdout",
     "output_type": "stream",
     "text": [
      "Saving new best model with AUC: 0.8873005509376526\n",
      "Loss: 0.0772341713309288, Accuracy: 97.18317413330078, AUC: 91.39358520507812, Validation Loss: 0.11193843930959702, Validation Accuracy: 95.96343231201172, Validation AUC: 88.73005676269531\n"
     ]
    },
    {
     "name": "stderr",
     "output_type": "stream",
     "text": [
      "Epoch: 31: 100%|██████████| 69/69 [00:11<00:00,  6.08it/s]\n"
     ]
    },
    {
     "name": "stdout",
     "output_type": "stream",
     "text": [
      "Loss: 0.07683620601892471, Accuracy: 97.24633026123047, AUC: 91.37361907958984, Validation Loss: 0.1745489239692688, Validation Accuracy: 93.43411254882812, Validation AUC: 87.29873657226562\n"
     ]
    },
    {
     "name": "stderr",
     "output_type": "stream",
     "text": [
      "Epoch: 32: 100%|██████████| 69/69 [00:11<00:00,  6.08it/s]\n"
     ]
    },
    {
     "name": "stdout",
     "output_type": "stream",
     "text": [
      "Loss: 0.08338547497987747, Accuracy: 96.95964050292969, AUC: 90.92822265625, Validation Loss: 0.126800075173378, Validation Accuracy: 95.35758209228516, Validation AUC: 88.19861602783203\n"
     ]
    },
    {
     "name": "stderr",
     "output_type": "stream",
     "text": [
      "Epoch: 33: 100%|██████████| 69/69 [00:11<00:00,  6.13it/s]\n"
     ]
    },
    {
     "name": "stdout",
     "output_type": "stream",
     "text": [
      "Saving new best model with AUC: 0.8891416788101196\n",
      "Loss: 0.07809580862522125, Accuracy: 97.12890625, AUC: 91.0962142944336, Validation Loss: 0.10805204510688782, Validation Accuracy: 96.04618835449219, Validation AUC: 88.91416931152344\n"
     ]
    },
    {
     "name": "stderr",
     "output_type": "stream",
     "text": [
      "Epoch: 34: 100%|██████████| 69/69 [00:11<00:00,  6.10it/s]\n"
     ]
    },
    {
     "name": "stdout",
     "output_type": "stream",
     "text": [
      "Loss: 0.0758504644036293, Accuracy: 97.22682189941406, AUC: 91.5326919555664, Validation Loss: 0.10725125670433044, Validation Accuracy: 96.12992095947266, Validation AUC: 87.99859619140625\n"
     ]
    },
    {
     "name": "stderr",
     "output_type": "stream",
     "text": [
      "Epoch: 35: 100%|██████████| 69/69 [00:11<00:00,  5.96it/s]\n"
     ]
    },
    {
     "name": "stdout",
     "output_type": "stream",
     "text": [
      "Loss: 0.07464518398046494, Accuracy: 97.29102325439453, AUC: 91.5239486694336, Validation Loss: 0.1111348569393158, Validation Accuracy: 95.97968292236328, Validation AUC: 88.71919250488281\n"
     ]
    },
    {
     "name": "stderr",
     "output_type": "stream",
     "text": [
      "Epoch: 36: 100%|██████████| 69/69 [00:11<00:00,  6.20it/s]\n"
     ]
    },
    {
     "name": "stdout",
     "output_type": "stream",
     "text": [
      "Loss: 0.07274919003248215, Accuracy: 97.33929443359375, AUC: 92.09773254394531, Validation Loss: 0.1101568415760994, Validation Accuracy: 96.06292724609375, Validation AUC: 88.64854431152344\n"
     ]
    },
    {
     "name": "stderr",
     "output_type": "stream",
     "text": [
      "Epoch: 37: 100%|██████████| 69/69 [00:11<00:00,  6.23it/s]\n"
     ]
    },
    {
     "name": "stdout",
     "output_type": "stream",
     "text": [
      "Loss: 0.07434988021850586, Accuracy: 97.2866439819336, AUC: 92.05667114257812, Validation Loss: 0.1282317191362381, Validation Accuracy: 95.29354858398438, Validation AUC: 88.3410873413086\n"
     ]
    },
    {
     "name": "stderr",
     "output_type": "stream",
     "text": [
      "Epoch: 38: 100%|██████████| 69/69 [00:11<00:00,  6.26it/s]\n"
     ]
    },
    {
     "name": "stdout",
     "output_type": "stream",
     "text": [
      "Loss: 0.07196154445409775, Accuracy: 97.35757446289062, AUC: 92.12328338623047, Validation Loss: 0.11300238966941833, Validation Accuracy: 95.985595703125, Validation AUC: 88.23401641845703\n"
     ]
    },
    {
     "name": "stderr",
     "output_type": "stream",
     "text": [
      "Epoch: 39: 100%|██████████| 69/69 [00:11<00:00,  6.26it/s]\n"
     ]
    },
    {
     "name": "stdout",
     "output_type": "stream",
     "text": [
      "Loss: 0.07284710556268692, Accuracy: 97.36177062988281, AUC: 92.53343963623047, Validation Loss: 0.10942614823579788, Validation Accuracy: 96.0250015258789, Validation AUC: 88.73068237304688\n"
     ]
    },
    {
     "name": "stderr",
     "output_type": "stream",
     "text": [
      "Epoch: 40: 100%|██████████| 69/69 [00:10<00:00,  6.28it/s]\n"
     ]
    },
    {
     "name": "stdout",
     "output_type": "stream",
     "text": [
      "Loss: 0.07318125665187836, Accuracy: 97.32015991210938, AUC: 92.21337127685547, Validation Loss: 0.11349529772996902, Validation Accuracy: 95.96540069580078, Validation AUC: 88.81730651855469\n"
     ]
    },
    {
     "name": "stderr",
     "output_type": "stream",
     "text": [
      "Epoch: 41: 100%|██████████| 69/69 [00:11<00:00,  6.13it/s]\n"
     ]
    },
    {
     "name": "stdout",
     "output_type": "stream",
     "text": [
      "Loss: 0.06989393383264542, Accuracy: 97.46190643310547, AUC: 92.91918182373047, Validation Loss: 0.11228174716234207, Validation Accuracy: 96.1141586303711, Validation AUC: 88.0777816772461\n"
     ]
    },
    {
     "name": "stderr",
     "output_type": "stream",
     "text": [
      "Epoch: 42: 100%|██████████| 69/69 [00:10<00:00,  6.31it/s]\n"
     ]
    },
    {
     "name": "stdout",
     "output_type": "stream",
     "text": [
      "Loss: 0.0713118314743042, Accuracy: 97.43233489990234, AUC: 92.36026763916016, Validation Loss: 0.11425468325614929, Validation Accuracy: 95.95407104492188, Validation AUC: 86.66706085205078\n"
     ]
    },
    {
     "name": "stderr",
     "output_type": "stream",
     "text": [
      "Epoch: 43: 100%|██████████| 69/69 [00:10<00:00,  6.32it/s]\n"
     ]
    },
    {
     "name": "stdout",
     "output_type": "stream",
     "text": [
      "Loss: 0.07786203175783157, Accuracy: 97.15965270996094, AUC: 91.63712310791016, Validation Loss: 0.13587221503257751, Validation Accuracy: 95.11326599121094, Validation AUC: 88.00890350341797\n"
     ]
    },
    {
     "name": "stderr",
     "output_type": "stream",
     "text": [
      "Epoch: 44: 100%|██████████| 69/69 [00:10<00:00,  6.31it/s]\n"
     ]
    },
    {
     "name": "stdout",
     "output_type": "stream",
     "text": [
      "Loss: 0.07123779505491257, Accuracy: 97.44931030273438, AUC: 92.60285186767578, Validation Loss: 0.11859031766653061, Validation Accuracy: 95.68660736083984, Validation AUC: 88.69104766845703\n"
     ]
    },
    {
     "name": "stderr",
     "output_type": "stream",
     "text": [
      "Epoch: 45: 100%|██████████| 69/69 [00:10<00:00,  6.29it/s]\n"
     ]
    },
    {
     "name": "stdout",
     "output_type": "stream",
     "text": [
      "Loss: 0.07113904505968094, Accuracy: 97.45294952392578, AUC: 92.64921569824219, Validation Loss: 0.1372513324022293, Validation Accuracy: 95.18321228027344, Validation AUC: 88.36965942382812\n"
     ]
    },
    {
     "name": "stderr",
     "output_type": "stream",
     "text": [
      "Epoch: 46: 100%|██████████| 69/69 [00:11<00:00,  6.25it/s]\n"
     ]
    },
    {
     "name": "stdout",
     "output_type": "stream",
     "text": [
      "Loss: 0.0775592029094696, Accuracy: 97.12150573730469, AUC: 91.99039459228516, Validation Loss: 0.11453224718570709, Validation Accuracy: 95.93092346191406, Validation AUC: 87.71853637695312\n"
     ]
    },
    {
     "name": "stderr",
     "output_type": "stream",
     "text": [
      "Epoch: 47: 100%|██████████| 69/69 [00:11<00:00,  6.21it/s]\n"
     ]
    },
    {
     "name": "stdout",
     "output_type": "stream",
     "text": [
      "Loss: 0.06941673904657364, Accuracy: 97.48487091064453, AUC: 93.07058715820312, Validation Loss: 0.12111222743988037, Validation Accuracy: 95.58415985107422, Validation AUC: 88.28558349609375\n"
     ]
    },
    {
     "name": "stderr",
     "output_type": "stream",
     "text": [
      "Epoch: 48: 100%|██████████| 69/69 [00:10<00:00,  6.28it/s]\n"
     ]
    },
    {
     "name": "stdout",
     "output_type": "stream",
     "text": [
      "Loss: 0.06938845664262772, Accuracy: 97.46566772460938, AUC: 92.944580078125, Validation Loss: 0.12908776104450226, Validation Accuracy: 95.41915130615234, Validation AUC: 88.49449920654297\n"
     ]
    },
    {
     "name": "stderr",
     "output_type": "stream",
     "text": [
      "Epoch: 49: 100%|██████████| 69/69 [00:11<00:00,  6.24it/s]\n"
     ]
    },
    {
     "name": "stdout",
     "output_type": "stream",
     "text": [
      "Loss: 0.0672377273440361, Accuracy: 97.5546875, AUC: 93.30960845947266, Validation Loss: 0.11634033173322678, Validation Accuracy: 95.85112762451172, Validation AUC: 87.79619598388672\n"
     ]
    }
   ],
   "source": [
    "trainer = PTBXLTrainer(ensemble[2], model_name=\"full_supervised_inception_3\", num_labels=num_classes, model_base_dir=\"../models\", log_base_dir=\"../logs\")\n",
    "trainer.fit(data_module.train_dataset, data_module.validation_dataset)"
   ],
   "metadata": {
    "collapsed": false,
    "ExecuteTime": {
     "end_time": "2024-02-20T09:49:42.208784800Z",
     "start_time": "2024-02-20T09:39:34.240797700Z"
    }
   },
   "id": "40671615a61c0cac",
   "execution_count": 21
  },
  {
   "cell_type": "code",
   "outputs": [
    {
     "name": "stderr",
     "output_type": "stream",
     "text": [
      "Epoch: 0: 100%|██████████| 69/69 [00:24<00:00,  2.83it/s]\n"
     ]
    },
    {
     "name": "stdout",
     "output_type": "stream",
     "text": [
      "Saving new best model with AUC: 0.7038715481758118\n",
      "Loss: 0.25709274411201477, Accuracy: 90.87163543701172, AUC: 63.514347076416016, Validation Loss: 0.2409396469593048, Validation Accuracy: 90.76441192626953, Validation AUC: 70.38715362548828\n"
     ]
    },
    {
     "name": "stderr",
     "output_type": "stream",
     "text": [
      "Epoch: 1: 100%|██████████| 69/69 [00:11<00:00,  6.08it/s]\n"
     ]
    },
    {
     "name": "stdout",
     "output_type": "stream",
     "text": [
      "Saving new best model with AUC: 0.7981967926025391\n",
      "Loss: 0.13688287138938904, Accuracy: 95.18801879882812, AUC: 78.22856140136719, Validation Loss: 0.15244872868061066, Validation Accuracy: 94.65715026855469, Validation AUC: 79.8196792602539\n"
     ]
    },
    {
     "name": "stderr",
     "output_type": "stream",
     "text": [
      "Epoch: 2: 100%|██████████| 69/69 [00:10<00:00,  6.35it/s]\n"
     ]
    },
    {
     "name": "stdout",
     "output_type": "stream",
     "text": [
      "Saving new best model with AUC: 0.82957524061203\n",
      "Loss: 0.12255067378282547, Accuracy: 95.64305877685547, AUC: 81.8127212524414, Validation Loss: 0.1342308223247528, Validation Accuracy: 95.19404602050781, Validation AUC: 82.95752716064453\n"
     ]
    },
    {
     "name": "stderr",
     "output_type": "stream",
     "text": [
      "Epoch: 3: 100%|██████████| 69/69 [00:10<00:00,  6.28it/s]\n"
     ]
    },
    {
     "name": "stdout",
     "output_type": "stream",
     "text": [
      "Loss: 0.11703326553106308, Accuracy: 95.86869049072266, AUC: 83.81845092773438, Validation Loss: 0.1302054524421692, Validation Accuracy: 95.20931243896484, Validation AUC: 81.99329376220703\n"
     ]
    },
    {
     "name": "stderr",
     "output_type": "stream",
     "text": [
      "Epoch: 4: 100%|██████████| 69/69 [00:10<00:00,  6.33it/s]\n"
     ]
    },
    {
     "name": "stdout",
     "output_type": "stream",
     "text": [
      "Loss: 0.11281243711709976, Accuracy: 95.96524047851562, AUC: 83.76942443847656, Validation Loss: 0.17382003366947174, Validation Accuracy: 93.56907653808594, Validation AUC: 81.4312973022461\n"
     ]
    },
    {
     "name": "stderr",
     "output_type": "stream",
     "text": [
      "Epoch: 5: 100%|██████████| 69/69 [00:10<00:00,  6.29it/s]\n"
     ]
    },
    {
     "name": "stdout",
     "output_type": "stream",
     "text": [
      "Saving new best model with AUC: 0.8299979567527771\n",
      "Loss: 0.10774971544742584, Accuracy: 96.14124298095703, AUC: 84.628662109375, Validation Loss: 0.1448366940021515, Validation Accuracy: 94.47441101074219, Validation AUC: 82.99979400634766\n"
     ]
    },
    {
     "name": "stderr",
     "output_type": "stream",
     "text": [
      "Epoch: 6: 100%|██████████| 69/69 [00:10<00:00,  6.31it/s]\n"
     ]
    },
    {
     "name": "stdout",
     "output_type": "stream",
     "text": [
      "Saving new best model with AUC: 0.8479869365692139\n",
      "Loss: 0.10487041622400284, Accuracy: 96.18976593017578, AUC: 85.44354248046875, Validation Loss: 0.11313560605049133, Validation Accuracy: 95.81763458251953, Validation AUC: 84.79869079589844\n"
     ]
    },
    {
     "name": "stderr",
     "output_type": "stream",
     "text": [
      "Epoch: 7: 100%|██████████| 69/69 [00:10<00:00,  6.30it/s]\n"
     ]
    },
    {
     "name": "stdout",
     "output_type": "stream",
     "text": [
      "Loss: 0.10182709991931915, Accuracy: 96.29859924316406, AUC: 85.99968719482422, Validation Loss: 0.13324110209941864, Validation Accuracy: 95.08765411376953, Validation AUC: 83.11285400390625\n"
     ]
    },
    {
     "name": "stderr",
     "output_type": "stream",
     "text": [
      "Epoch: 8: 100%|██████████| 69/69 [00:11<00:00,  6.27it/s]\n"
     ]
    },
    {
     "name": "stdout",
     "output_type": "stream",
     "text": [
      "Loss: 0.10011579096317291, Accuracy: 96.36441040039062, AUC: 86.2766342163086, Validation Loss: 0.12449206411838531, Validation Accuracy: 95.29896545410156, Validation AUC: 83.3357925415039\n"
     ]
    },
    {
     "name": "stderr",
     "output_type": "stream",
     "text": [
      "Epoch: 9: 100%|██████████| 69/69 [00:10<00:00,  6.29it/s]\n"
     ]
    },
    {
     "name": "stdout",
     "output_type": "stream",
     "text": [
      "Saving new best model with AUC: 0.8485298752784729\n",
      "Loss: 0.09734982997179031, Accuracy: 96.47805786132812, AUC: 87.15355682373047, Validation Loss: 0.1111009493470192, Validation Accuracy: 95.89201354980469, Validation AUC: 84.85298919677734\n"
     ]
    },
    {
     "name": "stderr",
     "output_type": "stream",
     "text": [
      "Epoch: 10: 100%|██████████| 69/69 [00:10<00:00,  6.32it/s]\n"
     ]
    },
    {
     "name": "stdout",
     "output_type": "stream",
     "text": [
      "Loss: 0.09690020978450775, Accuracy: 96.49528503417969, AUC: 87.13451385498047, Validation Loss: 0.1329779326915741, Validation Accuracy: 94.90343475341797, Validation AUC: 83.53703308105469\n"
     ]
    },
    {
     "name": "stderr",
     "output_type": "stream",
     "text": [
      "Epoch: 11: 100%|██████████| 69/69 [00:11<00:00,  6.18it/s]\n"
     ]
    },
    {
     "name": "stdout",
     "output_type": "stream",
     "text": [
      "Loss: 0.09457366168498993, Accuracy: 96.54479217529297, AUC: 87.48625183105469, Validation Loss: 0.1275278925895691, Validation Accuracy: 95.21424102783203, Validation AUC: 84.63369750976562\n"
     ]
    },
    {
     "name": "stderr",
     "output_type": "stream",
     "text": [
      "Epoch: 12: 100%|██████████| 69/69 [00:11<00:00,  6.24it/s]\n"
     ]
    },
    {
     "name": "stdout",
     "output_type": "stream",
     "text": [
      "Loss: 0.09259214252233505, Accuracy: 96.6640625, AUC: 87.72391510009766, Validation Loss: 0.11037766933441162, Validation Accuracy: 95.9708251953125, Validation AUC: 84.23487854003906\n"
     ]
    },
    {
     "name": "stderr",
     "output_type": "stream",
     "text": [
      "Epoch: 13: 100%|██████████| 69/69 [00:11<00:00,  6.27it/s]\n"
     ]
    },
    {
     "name": "stdout",
     "output_type": "stream",
     "text": [
      "Saving new best model with AUC: 0.8626397252082825\n",
      "Loss: 0.09409581869840622, Accuracy: 96.5882568359375, AUC: 87.86674499511719, Validation Loss: 0.11479691416025162, Validation Accuracy: 95.80482482910156, Validation AUC: 86.26396942138672\n"
     ]
    },
    {
     "name": "stderr",
     "output_type": "stream",
     "text": [
      "Epoch: 14: 100%|██████████| 69/69 [00:10<00:00,  6.34it/s]\n"
     ]
    },
    {
     "name": "stdout",
     "output_type": "stream",
     "text": [
      "Saving new best model with AUC: 0.8658246994018555\n",
      "Loss: 0.09280410408973694, Accuracy: 96.62664794921875, AUC: 88.2225112915039, Validation Loss: 0.1057390347123146, Validation Accuracy: 96.09642791748047, Validation AUC: 86.58247375488281\n"
     ]
    },
    {
     "name": "stderr",
     "output_type": "stream",
     "text": [
      "Epoch: 15: 100%|██████████| 69/69 [00:10<00:00,  6.32it/s]\n"
     ]
    },
    {
     "name": "stdout",
     "output_type": "stream",
     "text": [
      "Loss: 0.09079718589782715, Accuracy: 96.70967864990234, AUC: 88.7879409790039, Validation Loss: 0.11680907756090164, Validation Accuracy: 95.59056091308594, Validation AUC: 84.65174865722656\n"
     ]
    },
    {
     "name": "stderr",
     "output_type": "stream",
     "text": [
      "Epoch: 16: 100%|██████████| 69/69 [00:10<00:00,  6.29it/s]\n"
     ]
    },
    {
     "name": "stdout",
     "output_type": "stream",
     "text": [
      "Loss: 0.08909335732460022, Accuracy: 96.75202941894531, AUC: 88.6814193725586, Validation Loss: 0.11383175849914551, Validation Accuracy: 95.78512573242188, Validation AUC: 85.81394958496094\n"
     ]
    },
    {
     "name": "stderr",
     "output_type": "stream",
     "text": [
      "Epoch: 17: 100%|██████████| 69/69 [00:11<00:00,  6.26it/s]\n"
     ]
    },
    {
     "name": "stdout",
     "output_type": "stream",
     "text": [
      "Loss: 0.08667044341564178, Accuracy: 96.84185028076172, AUC: 89.09580993652344, Validation Loss: 0.1131540834903717, Validation Accuracy: 95.8614730834961, Validation AUC: 86.0843734741211\n"
     ]
    },
    {
     "name": "stderr",
     "output_type": "stream",
     "text": [
      "Epoch: 18: 100%|██████████| 69/69 [00:10<00:00,  6.29it/s]\n"
     ]
    },
    {
     "name": "stdout",
     "output_type": "stream",
     "text": [
      "Saving new best model with AUC: 0.867408037185669\n",
      "Loss: 0.08728654682636261, Accuracy: 96.80851745605469, AUC: 89.04765319824219, Validation Loss: 0.1176256611943245, Validation Accuracy: 95.68858337402344, Validation AUC: 86.74080657958984\n"
     ]
    },
    {
     "name": "stderr",
     "output_type": "stream",
     "text": [
      "Epoch: 19: 100%|██████████| 69/69 [00:11<00:00,  6.23it/s]\n"
     ]
    },
    {
     "name": "stdout",
     "output_type": "stream",
     "text": [
      "Saving new best model with AUC: 0.8751363158226013\n",
      "Loss: 0.08647412806749344, Accuracy: 96.8832778930664, AUC: 89.73173522949219, Validation Loss: 0.11634303629398346, Validation Accuracy: 95.76788330078125, Validation AUC: 87.51363372802734\n"
     ]
    },
    {
     "name": "stderr",
     "output_type": "stream",
     "text": [
      "Epoch: 20: 100%|██████████| 69/69 [00:10<00:00,  6.33it/s]\n"
     ]
    },
    {
     "name": "stdout",
     "output_type": "stream",
     "text": [
      "Loss: 0.08618266135454178, Accuracy: 96.8726577758789, AUC: 89.68515014648438, Validation Loss: 0.11397434771060944, Validation Accuracy: 95.79793548583984, Validation AUC: 87.08628845214844\n"
     ]
    },
    {
     "name": "stderr",
     "output_type": "stream",
     "text": [
      "Epoch: 21: 100%|██████████| 69/69 [00:10<00:00,  6.27it/s]\n"
     ]
    },
    {
     "name": "stdout",
     "output_type": "stream",
     "text": [
      "Loss: 0.08444556593894958, Accuracy: 96.90950775146484, AUC: 90.14092254638672, Validation Loss: 0.10932900011539459, Validation Accuracy: 96.00530242919922, Validation AUC: 86.6214370727539\n"
     ]
    },
    {
     "name": "stderr",
     "output_type": "stream",
     "text": [
      "Epoch: 22: 100%|██████████| 69/69 [00:10<00:00,  6.32it/s]\n"
     ]
    },
    {
     "name": "stdout",
     "output_type": "stream",
     "text": [
      "Loss: 0.08351851999759674, Accuracy: 96.95470428466797, AUC: 89.83463287353516, Validation Loss: 0.11345715075731277, Validation Accuracy: 95.95604705810547, Validation AUC: 86.44351959228516\n"
     ]
    },
    {
     "name": "stderr",
     "output_type": "stream",
     "text": [
      "Epoch: 23: 100%|██████████| 69/69 [00:11<00:00,  6.16it/s]\n"
     ]
    },
    {
     "name": "stdout",
     "output_type": "stream",
     "text": [
      "Loss: 0.08370506763458252, Accuracy: 96.96241760253906, AUC: 89.804443359375, Validation Loss: 0.1100015714764595, Validation Accuracy: 95.99298858642578, Validation AUC: 86.4207534790039\n"
     ]
    },
    {
     "name": "stderr",
     "output_type": "stream",
     "text": [
      "Epoch: 24: 100%|██████████| 69/69 [00:11<00:00,  6.23it/s]\n"
     ]
    },
    {
     "name": "stdout",
     "output_type": "stream",
     "text": [
      "Loss: 0.08433721959590912, Accuracy: 96.91297149658203, AUC: 89.91211700439453, Validation Loss: 0.12130774557590485, Validation Accuracy: 95.45904541015625, Validation AUC: 87.0703353881836\n"
     ]
    },
    {
     "name": "stderr",
     "output_type": "stream",
     "text": [
      "Epoch: 25: 100%|██████████| 69/69 [00:10<00:00,  6.28it/s]\n"
     ]
    },
    {
     "name": "stdout",
     "output_type": "stream",
     "text": [
      "Loss: 0.08197562396526337, Accuracy: 97.01612854003906, AUC: 90.33491516113281, Validation Loss: 0.1193421259522438, Validation Accuracy: 95.6038589477539, Validation AUC: 86.3239974975586\n"
     ]
    },
    {
     "name": "stderr",
     "output_type": "stream",
     "text": [
      "Epoch: 26: 100%|██████████| 69/69 [00:10<00:00,  6.30it/s]\n"
     ]
    },
    {
     "name": "stdout",
     "output_type": "stream",
     "text": [
      "Loss: 0.08171047270298004, Accuracy: 97.0280990600586, AUC: 90.5496597290039, Validation Loss: 0.11870096623897552, Validation Accuracy: 95.51126098632812, Validation AUC: 87.02507781982422\n"
     ]
    },
    {
     "name": "stderr",
     "output_type": "stream",
     "text": [
      "Epoch: 27: 100%|██████████| 69/69 [00:11<00:00,  6.27it/s]\n"
     ]
    },
    {
     "name": "stdout",
     "output_type": "stream",
     "text": [
      "Loss: 0.08336788415908813, Accuracy: 96.96754455566406, AUC: 90.38738250732422, Validation Loss: 0.11140526831150055, Validation Accuracy: 95.9604721069336, Validation AUC: 86.5452651977539\n"
     ]
    },
    {
     "name": "stderr",
     "output_type": "stream",
     "text": [
      "Epoch: 28: 100%|██████████| 69/69 [00:10<00:00,  6.28it/s]\n"
     ]
    },
    {
     "name": "stdout",
     "output_type": "stream",
     "text": [
      "Loss: 0.08065900951623917, Accuracy: 97.05928039550781, AUC: 90.65309143066406, Validation Loss: 0.11426709592342377, Validation Accuracy: 95.82550811767578, Validation AUC: 86.10748291015625\n"
     ]
    },
    {
     "name": "stderr",
     "output_type": "stream",
     "text": [
      "Epoch: 29: 100%|██████████| 69/69 [00:11<00:00,  6.26it/s]\n"
     ]
    },
    {
     "name": "stdout",
     "output_type": "stream",
     "text": [
      "Loss: 0.07799983024597168, Accuracy: 97.1441650390625, AUC: 90.78627014160156, Validation Loss: 0.12991322576999664, Validation Accuracy: 95.18123626708984, Validation AUC: 86.28851318359375\n"
     ]
    },
    {
     "name": "stderr",
     "output_type": "stream",
     "text": [
      "Epoch: 30: 100%|██████████| 69/69 [00:10<00:00,  6.28it/s]\n"
     ]
    },
    {
     "name": "stdout",
     "output_type": "stream",
     "text": [
      "Loss: 0.07772364467382431, Accuracy: 97.16082763671875, AUC: 90.94707489013672, Validation Loss: 0.1084485873579979, Validation Accuracy: 96.09986877441406, Validation AUC: 87.09136199951172\n"
     ]
    },
    {
     "name": "stderr",
     "output_type": "stream",
     "text": [
      "Epoch: 31: 100%|██████████| 69/69 [00:11<00:00,  6.27it/s]\n"
     ]
    },
    {
     "name": "stdout",
     "output_type": "stream",
     "text": [
      "Loss: 0.07587293535470963, Accuracy: 97.23207092285156, AUC: 91.17697143554688, Validation Loss: 0.10873707383871078, Validation Accuracy: 96.07376098632812, Validation AUC: 86.93538665771484\n"
     ]
    },
    {
     "name": "stderr",
     "output_type": "stream",
     "text": [
      "Epoch: 32: 100%|██████████| 69/69 [00:10<00:00,  6.33it/s]\n"
     ]
    },
    {
     "name": "stdout",
     "output_type": "stream",
     "text": [
      "Loss: 0.07735945284366608, Accuracy: 97.20885467529297, AUC: 91.31230926513672, Validation Loss: 0.12223216891288757, Validation Accuracy: 95.6600112915039, Validation AUC: 86.84672546386719\n"
     ]
    },
    {
     "name": "stderr",
     "output_type": "stream",
     "text": [
      "Epoch: 33: 100%|██████████| 69/69 [00:11<00:00,  6.25it/s]\n"
     ]
    },
    {
     "name": "stdout",
     "output_type": "stream",
     "text": [
      "Saving new best model with AUC: 0.8764510750770569\n",
      "Loss: 0.07923266291618347, Accuracy: 97.09100341796875, AUC: 91.30574035644531, Validation Loss: 0.11434805393218994, Validation Accuracy: 95.8900375366211, Validation AUC: 87.64511108398438\n"
     ]
    },
    {
     "name": "stderr",
     "output_type": "stream",
     "text": [
      "Epoch: 34: 100%|██████████| 69/69 [00:11<00:00,  6.16it/s]\n"
     ]
    },
    {
     "name": "stdout",
     "output_type": "stream",
     "text": [
      "Saving new best model with AUC: 0.8817782402038574\n",
      "Loss: 0.07925007492303848, Accuracy: 97.12798309326172, AUC: 90.94763946533203, Validation Loss: 0.11164630949497223, Validation Accuracy: 96.0304183959961, Validation AUC: 88.17782592773438\n"
     ]
    },
    {
     "name": "stderr",
     "output_type": "stream",
     "text": [
      "Epoch: 35: 100%|██████████| 69/69 [00:11<00:00,  6.13it/s]\n"
     ]
    },
    {
     "name": "stdout",
     "output_type": "stream",
     "text": [
      "Saving new best model with AUC: 0.882051944732666\n",
      "Loss: 0.07443326711654663, Accuracy: 97.29491424560547, AUC: 91.75342559814453, Validation Loss: 0.11589933931827545, Validation Accuracy: 95.82698822021484, Validation AUC: 88.20519256591797\n"
     ]
    },
    {
     "name": "stderr",
     "output_type": "stream",
     "text": [
      "Epoch: 36: 100%|██████████| 69/69 [00:11<00:00,  6.19it/s]\n"
     ]
    },
    {
     "name": "stdout",
     "output_type": "stream",
     "text": [
      "Loss: 0.07455086708068848, Accuracy: 97.27688598632812, AUC: 91.58517456054688, Validation Loss: 0.11413877457380295, Validation Accuracy: 95.79251098632812, Validation AUC: 87.93250274658203\n"
     ]
    },
    {
     "name": "stderr",
     "output_type": "stream",
     "text": [
      "Epoch: 37: 100%|██████████| 69/69 [00:11<00:00,  6.19it/s]\n"
     ]
    },
    {
     "name": "stdout",
     "output_type": "stream",
     "text": [
      "Loss: 0.07371950149536133, Accuracy: 97.3139877319336, AUC: 92.03353881835938, Validation Loss: 0.12070254236459732, Validation Accuracy: 95.54820251464844, Validation AUC: 87.47870635986328\n"
     ]
    },
    {
     "name": "stderr",
     "output_type": "stream",
     "text": [
      "Epoch: 38: 100%|██████████| 69/69 [00:10<00:00,  6.48it/s]\n"
     ]
    },
    {
     "name": "stdout",
     "output_type": "stream",
     "text": [
      "Saving new best model with AUC: 0.8914845585823059\n",
      "Loss: 0.07474593818187714, Accuracy: 97.30751037597656, AUC: 91.79689025878906, Validation Loss: 0.11508020013570786, Validation Accuracy: 95.83634948730469, Validation AUC: 89.14845275878906\n"
     ]
    },
    {
     "name": "stderr",
     "output_type": "stream",
     "text": [
      "Epoch: 39: 100%|██████████| 69/69 [00:10<00:00,  6.53it/s]\n"
     ]
    },
    {
     "name": "stdout",
     "output_type": "stream",
     "text": [
      "Loss: 0.0740063264966011, Accuracy: 97.29491424560547, AUC: 92.0029525756836, Validation Loss: 0.12545683979988098, Validation Accuracy: 95.5807113647461, Validation AUC: 86.50196838378906\n"
     ]
    },
    {
     "name": "stderr",
     "output_type": "stream",
     "text": [
      "Epoch: 40: 100%|██████████| 69/69 [00:10<00:00,  6.59it/s]\n"
     ]
    },
    {
     "name": "stdout",
     "output_type": "stream",
     "text": [
      "Loss: 0.07412467896938324, Accuracy: 97.30879974365234, AUC: 92.12574005126953, Validation Loss: 0.11239250749349594, Validation Accuracy: 96.01515197753906, Validation AUC: 88.02074432373047\n"
     ]
    },
    {
     "name": "stderr",
     "output_type": "stream",
     "text": [
      "Epoch: 41: 100%|██████████| 69/69 [00:10<00:00,  6.57it/s]\n"
     ]
    },
    {
     "name": "stdout",
     "output_type": "stream",
     "text": [
      "Loss: 0.07319028675556183, Accuracy: 97.33306121826172, AUC: 92.34034729003906, Validation Loss: 0.11444604396820068, Validation Accuracy: 95.88166809082031, Validation AUC: 88.39708709716797\n"
     ]
    },
    {
     "name": "stderr",
     "output_type": "stream",
     "text": [
      "Epoch: 42: 100%|██████████| 69/69 [00:10<00:00,  6.56it/s]\n"
     ]
    },
    {
     "name": "stdout",
     "output_type": "stream",
     "text": [
      "Loss: 0.07411454617977142, Accuracy: 97.32633209228516, AUC: 92.50464630126953, Validation Loss: 0.1109723299741745, Validation Accuracy: 96.06391906738281, Validation AUC: 87.53195190429688\n"
     ]
    },
    {
     "name": "stderr",
     "output_type": "stream",
     "text": [
      "Epoch: 43: 100%|██████████| 69/69 [00:10<00:00,  6.55it/s]\n"
     ]
    },
    {
     "name": "stdout",
     "output_type": "stream",
     "text": [
      "Loss: 0.06937842071056366, Accuracy: 97.46350860595703, AUC: 92.56584930419922, Validation Loss: 0.12325119972229004, Validation Accuracy: 95.66789245605469, Validation AUC: 87.81585693359375\n"
     ]
    },
    {
     "name": "stderr",
     "output_type": "stream",
     "text": [
      "Epoch: 44: 100%|██████████| 69/69 [00:10<00:00,  6.57it/s]\n"
     ]
    },
    {
     "name": "stdout",
     "output_type": "stream",
     "text": [
      "Loss: 0.06907336413860321, Accuracy: 97.4794921875, AUC: 92.69794464111328, Validation Loss: 0.11746794730424881, Validation Accuracy: 95.65607452392578, Validation AUC: 87.72724151611328\n"
     ]
    },
    {
     "name": "stderr",
     "output_type": "stream",
     "text": [
      "Epoch: 45: 100%|██████████| 69/69 [00:10<00:00,  6.61it/s]\n"
     ]
    },
    {
     "name": "stdout",
     "output_type": "stream",
     "text": [
      "Loss: 0.06933145970106125, Accuracy: 97.49974822998047, AUC: 92.72386169433594, Validation Loss: 0.12296095490455627, Validation Accuracy: 95.58464813232422, Validation AUC: 87.28733825683594\n"
     ]
    },
    {
     "name": "stderr",
     "output_type": "stream",
     "text": [
      "Epoch: 46: 100%|██████████| 69/69 [00:10<00:00,  6.59it/s]\n"
     ]
    },
    {
     "name": "stdout",
     "output_type": "stream",
     "text": [
      "Loss: 0.06852930039167404, Accuracy: 97.50338745117188, AUC: 92.70636749267578, Validation Loss: 0.11549711227416992, Validation Accuracy: 95.93880462646484, Validation AUC: 88.01036071777344\n"
     ]
    },
    {
     "name": "stderr",
     "output_type": "stream",
     "text": [
      "Epoch: 47: 100%|██████████| 69/69 [00:10<00:00,  6.57it/s]\n"
     ]
    },
    {
     "name": "stdout",
     "output_type": "stream",
     "text": [
      "Loss: 0.06572378426790237, Accuracy: 97.61642456054688, AUC: 93.39289855957031, Validation Loss: 0.12422023713588715, Validation Accuracy: 95.62996673583984, Validation AUC: 86.8600845336914\n"
     ]
    },
    {
     "name": "stderr",
     "output_type": "stream",
     "text": [
      "Epoch: 48: 100%|██████████| 69/69 [00:10<00:00,  6.62it/s]\n"
     ]
    },
    {
     "name": "stdout",
     "output_type": "stream",
     "text": [
      "Loss: 0.06703103333711624, Accuracy: 97.59178924560547, AUC: 92.98523712158203, Validation Loss: 0.1252318024635315, Validation Accuracy: 95.51223754882812, Validation AUC: 87.59748840332031\n"
     ]
    },
    {
     "name": "stderr",
     "output_type": "stream",
     "text": [
      "Epoch: 49: 100%|██████████| 69/69 [00:10<00:00,  6.63it/s]\n"
     ]
    },
    {
     "name": "stdout",
     "output_type": "stream",
     "text": [
      "Loss: 0.0669998824596405, Accuracy: 97.58993530273438, AUC: 93.41567993164062, Validation Loss: 0.1391758918762207, Validation Accuracy: 95.06253051757812, Validation AUC: 88.17906188964844\n"
     ]
    }
   ],
   "source": [
    "trainer = PTBXLTrainer(ensemble[3], model_name=\"full_supervised_inception_4\", num_labels=num_classes, model_base_dir=\"../models\", log_base_dir=\"../logs\")\n",
    "trainer.fit(data_module.train_dataset, data_module.validation_dataset)"
   ],
   "metadata": {
    "collapsed": false,
    "ExecuteTime": {
     "end_time": "2024-02-20T10:00:10.318070500Z",
     "start_time": "2024-02-20T09:49:42.206570300Z"
    }
   },
   "id": "5e317befa1132026",
   "execution_count": 22
  },
  {
   "cell_type": "code",
   "outputs": [
    {
     "name": "stderr",
     "output_type": "stream",
     "text": [
      "Epoch: 0: 100%|██████████| 69/69 [00:19<00:00,  3.56it/s]\n"
     ]
    },
    {
     "name": "stdout",
     "output_type": "stream",
     "text": [
      "Saving new best model with AUC: 0.7206538915634155\n",
      "Loss: 0.26993635296821594, Accuracy: 90.29560089111328, AUC: 62.05104064941406, Validation Loss: 0.23138123750686646, Validation Accuracy: 91.38553619384766, Validation AUC: 72.06539154052734\n"
     ]
    },
    {
     "name": "stderr",
     "output_type": "stream",
     "text": [
      "Epoch: 1: 100%|██████████| 69/69 [00:10<00:00,  6.59it/s]\n"
     ]
    },
    {
     "name": "stdout",
     "output_type": "stream",
     "text": [
      "Saving new best model with AUC: 0.7993183732032776\n",
      "Loss: 0.1380147933959961, Accuracy: 95.16690826416016, AUC: 78.28594207763672, Validation Loss: 0.15268833935260773, Validation Accuracy: 94.59902954101562, Validation AUC: 79.93183898925781\n"
     ]
    },
    {
     "name": "stderr",
     "output_type": "stream",
     "text": [
      "Epoch: 2: 100%|██████████| 69/69 [00:10<00:00,  6.54it/s]\n"
     ]
    },
    {
     "name": "stdout",
     "output_type": "stream",
     "text": [
      "Saving new best model with AUC: 0.8212615251541138\n",
      "Loss: 0.12223076820373535, Accuracy: 95.66107940673828, AUC: 81.87051391601562, Validation Loss: 0.13511662185192108, Validation Accuracy: 95.23295593261719, Validation AUC: 82.12615203857422\n"
     ]
    },
    {
     "name": "stderr",
     "output_type": "stream",
     "text": [
      "Epoch: 3: 100%|██████████| 69/69 [00:10<00:00,  6.61it/s]\n"
     ]
    },
    {
     "name": "stdout",
     "output_type": "stream",
     "text": [
      "Saving new best model with AUC: 0.83369380235672\n",
      "Loss: 0.11602006107568741, Accuracy: 95.8398666381836, AUC: 83.15750122070312, Validation Loss: 0.12812352180480957, Validation Accuracy: 95.37333679199219, Validation AUC: 83.36937713623047\n"
     ]
    },
    {
     "name": "stderr",
     "output_type": "stream",
     "text": [
      "Epoch: 4: 100%|██████████| 69/69 [00:10<00:00,  6.60it/s]\n"
     ]
    },
    {
     "name": "stdout",
     "output_type": "stream",
     "text": [
      "Loss: 0.11088099330663681, Accuracy: 96.04629516601562, AUC: 84.06790161132812, Validation Loss: 0.17063042521476746, Validation Accuracy: 93.22181701660156, Validation AUC: 82.93489837646484\n"
     ]
    },
    {
     "name": "stderr",
     "output_type": "stream",
     "text": [
      "Epoch: 5: 100%|██████████| 69/69 [00:10<00:00,  6.55it/s]\n"
     ]
    },
    {
     "name": "stdout",
     "output_type": "stream",
     "text": [
      "Saving new best model with AUC: 0.8400749564170837\n",
      "Loss: 0.10854637622833252, Accuracy: 96.13063049316406, AUC: 85.0005111694336, Validation Loss: 0.13525786995887756, Validation Accuracy: 95.0561294555664, Validation AUC: 84.00749206542969\n"
     ]
    },
    {
     "name": "stderr",
     "output_type": "stream",
     "text": [
      "Epoch: 6: 100%|██████████| 69/69 [00:10<00:00,  6.62it/s]\n"
     ]
    },
    {
     "name": "stdout",
     "output_type": "stream",
     "text": [
      "Saving new best model with AUC: 0.8427306413650513\n",
      "Loss: 0.10686134546995163, Accuracy: 96.16309356689453, AUC: 84.70384979248047, Validation Loss: 0.12345930933952332, Validation Accuracy: 95.52406311035156, Validation AUC: 84.27306365966797\n"
     ]
    },
    {
     "name": "stderr",
     "output_type": "stream",
     "text": [
      "Epoch: 7: 100%|██████████| 69/69 [00:10<00:00,  6.55it/s]\n"
     ]
    },
    {
     "name": "stdout",
     "output_type": "stream",
     "text": [
      "Saving new best model with AUC: 0.8523150086402893\n",
      "Loss: 0.10219736397266388, Accuracy: 96.30891418457031, AUC: 85.52877044677734, Validation Loss: 0.1251956820487976, Validation Accuracy: 95.2437973022461, Validation AUC: 85.23149871826172\n"
     ]
    },
    {
     "name": "stderr",
     "output_type": "stream",
     "text": [
      "Epoch: 8: 100%|██████████| 69/69 [00:10<00:00,  6.55it/s]\n"
     ]
    },
    {
     "name": "stdout",
     "output_type": "stream",
     "text": [
      "Loss: 0.0990476906299591, Accuracy: 96.42559051513672, AUC: 86.27094268798828, Validation Loss: 0.11192625015974045, Validation Accuracy: 95.87821960449219, Validation AUC: 84.65955352783203\n"
     ]
    },
    {
     "name": "stderr",
     "output_type": "stream",
     "text": [
      "Epoch: 9: 100%|██████████| 69/69 [00:10<00:00,  6.56it/s]\n"
     ]
    },
    {
     "name": "stdout",
     "output_type": "stream",
     "text": [
      "Loss: 0.09760186076164246, Accuracy: 96.47040557861328, AUC: 86.7897720336914, Validation Loss: 0.11764562129974365, Validation Accuracy: 95.64917755126953, Validation AUC: 84.8354721069336\n"
     ]
    },
    {
     "name": "stderr",
     "output_type": "stream",
     "text": [
      "Epoch: 10: 100%|██████████| 69/69 [00:10<00:00,  6.56it/s]\n"
     ]
    },
    {
     "name": "stdout",
     "output_type": "stream",
     "text": [
      "Saving new best model with AUC: 0.8530874848365784\n",
      "Loss: 0.09643881022930145, Accuracy: 96.540283203125, AUC: 87.09437561035156, Validation Loss: 0.11110404878854752, Validation Accuracy: 95.92452239990234, Validation AUC: 85.30874633789062\n"
     ]
    },
    {
     "name": "stderr",
     "output_type": "stream",
     "text": [
      "Epoch: 11: 100%|██████████| 69/69 [00:10<00:00,  6.59it/s]\n"
     ]
    },
    {
     "name": "stdout",
     "output_type": "stream",
     "text": [
      "Loss: 0.096225306391716, Accuracy: 96.47163391113281, AUC: 87.35340118408203, Validation Loss: 0.1206989660859108, Validation Accuracy: 95.64424896240234, Validation AUC: 83.70855712890625\n"
     ]
    },
    {
     "name": "stderr",
     "output_type": "stream",
     "text": [
      "Epoch: 12: 100%|██████████| 69/69 [00:10<00:00,  6.56it/s]\n"
     ]
    },
    {
     "name": "stdout",
     "output_type": "stream",
     "text": [
      "Loss: 0.0942194014787674, Accuracy: 96.6102294921875, AUC: 88.4222412109375, Validation Loss: 0.1188260167837143, Validation Accuracy: 95.6314468383789, Validation AUC: 84.09751892089844\n"
     ]
    },
    {
     "name": "stderr",
     "output_type": "stream",
     "text": [
      "Epoch: 13: 100%|██████████| 69/69 [00:10<00:00,  6.52it/s]\n"
     ]
    },
    {
     "name": "stdout",
     "output_type": "stream",
     "text": [
      "Loss: 0.0934419333934784, Accuracy: 96.6077651977539, AUC: 87.5556869506836, Validation Loss: 0.11038070172071457, Validation Accuracy: 95.86639404296875, Validation AUC: 84.89248657226562\n"
     ]
    },
    {
     "name": "stderr",
     "output_type": "stream",
     "text": [
      "Epoch: 14: 100%|██████████| 69/69 [00:10<00:00,  6.54it/s]\n"
     ]
    },
    {
     "name": "stdout",
     "output_type": "stream",
     "text": [
      "Saving new best model with AUC: 0.8572364449501038\n",
      "Loss: 0.09203982353210449, Accuracy: 96.69073486328125, AUC: 88.40785217285156, Validation Loss: 0.11426874250173569, Validation Accuracy: 95.74867248535156, Validation AUC: 85.72364807128906\n"
     ]
    },
    {
     "name": "stderr",
     "output_type": "stream",
     "text": [
      "Epoch: 15: 100%|██████████| 69/69 [00:10<00:00,  6.55it/s]\n"
     ]
    },
    {
     "name": "stdout",
     "output_type": "stream",
     "text": [
      "Loss: 0.09036906808614731, Accuracy: 96.72622680664062, AUC: 88.42259979248047, Validation Loss: 0.11604516953229904, Validation Accuracy: 95.70828247070312, Validation AUC: 85.00102233886719\n"
     ]
    },
    {
     "name": "stderr",
     "output_type": "stream",
     "text": [
      "Epoch: 16: 100%|██████████| 69/69 [00:10<00:00,  6.57it/s]\n"
     ]
    },
    {
     "name": "stdout",
     "output_type": "stream",
     "text": [
      "Loss: 0.09139127284288406, Accuracy: 96.6821517944336, AUC: 88.43330383300781, Validation Loss: 0.12133149057626724, Validation Accuracy: 95.47185516357422, Validation AUC: 85.2550048828125\n"
     ]
    },
    {
     "name": "stderr",
     "output_type": "stream",
     "text": [
      "Epoch: 17: 100%|██████████| 69/69 [00:10<00:00,  6.54it/s]\n"
     ]
    },
    {
     "name": "stdout",
     "output_type": "stream",
     "text": [
      "Saving new best model with AUC: 0.8633612394332886\n",
      "Loss: 0.08889098465442657, Accuracy: 96.8066635131836, AUC: 89.00109100341797, Validation Loss: 0.133506640791893, Validation Accuracy: 95.07632446289062, Validation AUC: 86.33612060546875\n"
     ]
    },
    {
     "name": "stderr",
     "output_type": "stream",
     "text": [
      "Epoch: 18: 100%|██████████| 69/69 [00:10<00:00,  6.54it/s]\n"
     ]
    },
    {
     "name": "stdout",
     "output_type": "stream",
     "text": [
      "Loss: 0.0886935144662857, Accuracy: 96.77345275878906, AUC: 88.86267852783203, Validation Loss: 0.11557804048061371, Validation Accuracy: 95.68218231201172, Validation AUC: 84.8679428100586\n"
     ]
    },
    {
     "name": "stderr",
     "output_type": "stream",
     "text": [
      "Epoch: 19: 100%|██████████| 69/69 [00:10<00:00,  6.58it/s]\n"
     ]
    },
    {
     "name": "stdout",
     "output_type": "stream",
     "text": [
      "Loss: 0.08804523199796677, Accuracy: 96.81339263916016, AUC: 89.01844024658203, Validation Loss: 0.12720054388046265, Validation Accuracy: 95.31669616699219, Validation AUC: 84.35380554199219\n"
     ]
    },
    {
     "name": "stderr",
     "output_type": "stream",
     "text": [
      "Epoch: 20: 100%|██████████| 69/69 [00:10<00:00,  6.60it/s]\n"
     ]
    },
    {
     "name": "stdout",
     "output_type": "stream",
     "text": [
      "Saving new best model with AUC: 0.8744528293609619\n",
      "Loss: 0.08754289895296097, Accuracy: 96.83055877685547, AUC: 89.12149047851562, Validation Loss: 0.11486764997243881, Validation Accuracy: 95.76985168457031, Validation AUC: 87.44528198242188\n"
     ]
    },
    {
     "name": "stderr",
     "output_type": "stream",
     "text": [
      "Epoch: 21: 100%|██████████| 69/69 [00:10<00:00,  6.62it/s]\n"
     ]
    },
    {
     "name": "stdout",
     "output_type": "stream",
     "text": [
      "Loss: 0.08460410684347153, Accuracy: 96.90605163574219, AUC: 89.37484741210938, Validation Loss: 0.14582917094230652, Validation Accuracy: 94.30940246582031, Validation AUC: 85.95726776123047\n"
     ]
    },
    {
     "name": "stderr",
     "output_type": "stream",
     "text": [
      "Epoch: 22: 100%|██████████| 69/69 [00:10<00:00,  6.60it/s]\n"
     ]
    },
    {
     "name": "stdout",
     "output_type": "stream",
     "text": [
      "Loss: 0.08286986500024796, Accuracy: 96.9519271850586, AUC: 89.83526611328125, Validation Loss: 0.12190233170986176, Validation Accuracy: 95.53785705566406, Validation AUC: 86.62483978271484\n"
     ]
    },
    {
     "name": "stderr",
     "output_type": "stream",
     "text": [
      "Epoch: 23: 100%|██████████| 69/69 [00:10<00:00,  6.56it/s]\n"
     ]
    },
    {
     "name": "stdout",
     "output_type": "stream",
     "text": [
      "Loss: 0.08248615264892578, Accuracy: 96.99229431152344, AUC: 90.13128662109375, Validation Loss: 0.10602176189422607, Validation Accuracy: 96.21070098876953, Validation AUC: 86.17717742919922\n"
     ]
    },
    {
     "name": "stderr",
     "output_type": "stream",
     "text": [
      "Epoch: 24: 100%|██████████| 69/69 [00:10<00:00,  6.46it/s]\n"
     ]
    },
    {
     "name": "stdout",
     "output_type": "stream",
     "text": [
      "Loss: 0.0810396671295166, Accuracy: 97.04087829589844, AUC: 90.18323516845703, Validation Loss: 0.11072593927383423, Validation Accuracy: 95.94815826416016, Validation AUC: 85.34536743164062\n"
     ]
    },
    {
     "name": "stderr",
     "output_type": "stream",
     "text": [
      "Epoch: 25: 100%|██████████| 69/69 [00:10<00:00,  6.57it/s]\n"
     ]
    },
    {
     "name": "stdout",
     "output_type": "stream",
     "text": [
      "Saving new best model with AUC: 0.8757773041725159\n",
      "Loss: 0.08274336904287338, Accuracy: 97.00384521484375, AUC: 90.03902435302734, Validation Loss: 0.11307951807975769, Validation Accuracy: 95.88068389892578, Validation AUC: 87.57772827148438\n"
     ]
    },
    {
     "name": "stderr",
     "output_type": "stream",
     "text": [
      "Epoch: 26: 100%|██████████| 69/69 [00:10<00:00,  6.64it/s]\n"
     ]
    },
    {
     "name": "stdout",
     "output_type": "stream",
     "text": [
      "Loss: 0.08228414505720139, Accuracy: 97.05451965332031, AUC: 90.3030776977539, Validation Loss: 0.11516128480434418, Validation Accuracy: 95.93782043457031, Validation AUC: 86.5333480834961\n"
     ]
    },
    {
     "name": "stderr",
     "output_type": "stream",
     "text": [
      "Epoch: 27: 100%|██████████| 69/69 [00:10<00:00,  6.65it/s]\n"
     ]
    },
    {
     "name": "stdout",
     "output_type": "stream",
     "text": [
      "Loss: 0.08405017107725143, Accuracy: 96.89530944824219, AUC: 90.22208404541016, Validation Loss: 0.11378732323646545, Validation Accuracy: 95.80630493164062, Validation AUC: 86.88035583496094\n"
     ]
    },
    {
     "name": "stderr",
     "output_type": "stream",
     "text": [
      "Epoch: 28: 100%|██████████| 69/69 [00:10<00:00,  6.64it/s]\n"
     ]
    },
    {
     "name": "stdout",
     "output_type": "stream",
     "text": [
      "Loss: 0.07966358959674835, Accuracy: 97.1042251586914, AUC: 90.47535705566406, Validation Loss: 0.10397911816835403, Validation Accuracy: 96.2801513671875, Validation AUC: 87.12001037597656\n"
     ]
    },
    {
     "name": "stderr",
     "output_type": "stream",
     "text": [
      "Epoch: 29: 100%|██████████| 69/69 [00:10<00:00,  6.58it/s]\n"
     ]
    },
    {
     "name": "stdout",
     "output_type": "stream",
     "text": [
      "Loss: 0.08008325845003128, Accuracy: 97.0772476196289, AUC: 90.517822265625, Validation Loss: 0.10949058085680008, Validation Accuracy: 96.10676574707031, Validation AUC: 86.38968658447266\n"
     ]
    },
    {
     "name": "stderr",
     "output_type": "stream",
     "text": [
      "Epoch: 30: 100%|██████████| 69/69 [00:10<00:00,  6.47it/s]\n"
     ]
    },
    {
     "name": "stdout",
     "output_type": "stream",
     "text": [
      "Saving new best model with AUC: 0.8800362944602966\n",
      "Loss: 0.0813172236084938, Accuracy: 97.04544830322266, AUC: 90.44811248779297, Validation Loss: 0.12629316747188568, Validation Accuracy: 95.34624481201172, Validation AUC: 88.00363159179688\n"
     ]
    },
    {
     "name": "stderr",
     "output_type": "stream",
     "text": [
      "Epoch: 31: 100%|██████████| 69/69 [00:10<00:00,  6.61it/s]\n"
     ]
    },
    {
     "name": "stdout",
     "output_type": "stream",
     "text": [
      "Loss: 0.07760729640722275, Accuracy: 97.16755676269531, AUC: 90.98484802246094, Validation Loss: 0.13459625840187073, Validation Accuracy: 95.3142318725586, Validation AUC: 86.77328491210938\n"
     ]
    },
    {
     "name": "stderr",
     "output_type": "stream",
     "text": [
      "Epoch: 32: 100%|██████████| 69/69 [00:10<00:00,  6.63it/s]\n"
     ]
    },
    {
     "name": "stdout",
     "output_type": "stream",
     "text": [
      "Loss: 0.0768473669886589, Accuracy: 97.20262145996094, AUC: 90.98079681396484, Validation Loss: 0.11898742616176605, Validation Accuracy: 95.72354888916016, Validation AUC: 87.46612548828125\n"
     ]
    },
    {
     "name": "stderr",
     "output_type": "stream",
     "text": [
      "Epoch: 33: 100%|██████████| 69/69 [00:10<00:00,  6.64it/s]\n"
     ]
    },
    {
     "name": "stdout",
     "output_type": "stream",
     "text": [
      "Saving new best model with AUC: 0.8803482055664062\n",
      "Loss: 0.07989990711212158, Accuracy: 97.13249206542969, AUC: 91.16180419921875, Validation Loss: 0.11467095464468002, Validation Accuracy: 95.81123352050781, Validation AUC: 88.03482055664062\n"
     ]
    },
    {
     "name": "stderr",
     "output_type": "stream",
     "text": [
      "Epoch: 34: 100%|██████████| 69/69 [00:10<00:00,  6.60it/s]\n"
     ]
    },
    {
     "name": "stdout",
     "output_type": "stream",
     "text": [
      "Loss: 0.07579249888658524, Accuracy: 97.25330352783203, AUC: 91.56524658203125, Validation Loss: 0.11205269396305084, Validation Accuracy: 95.9969253540039, Validation AUC: 87.91786193847656\n"
     ]
    },
    {
     "name": "stderr",
     "output_type": "stream",
     "text": [
      "Epoch: 35: 100%|██████████| 69/69 [00:10<00:00,  6.58it/s]\n"
     ]
    },
    {
     "name": "stdout",
     "output_type": "stream",
     "text": [
      "Loss: 0.07643381506204605, Accuracy: 97.21861267089844, AUC: 91.2471923828125, Validation Loss: 0.11649351567029953, Validation Accuracy: 95.8279800415039, Validation AUC: 87.069580078125\n"
     ]
    },
    {
     "name": "stderr",
     "output_type": "stream",
     "text": [
      "Epoch: 36: 100%|██████████| 69/69 [00:10<00:00,  6.57it/s]\n"
     ]
    },
    {
     "name": "stdout",
     "output_type": "stream",
     "text": [
      "Loss: 0.0747620165348053, Accuracy: 97.27515411376953, AUC: 91.36522674560547, Validation Loss: 0.11831095814704895, Validation Accuracy: 95.69991302490234, Validation AUC: 87.20629119873047\n"
     ]
    },
    {
     "name": "stderr",
     "output_type": "stream",
     "text": [
      "Epoch: 37: 100%|██████████| 69/69 [00:10<00:00,  6.57it/s]\n"
     ]
    },
    {
     "name": "stdout",
     "output_type": "stream",
     "text": [
      "Loss: 0.07352747023105621, Accuracy: 97.33577728271484, AUC: 91.88636779785156, Validation Loss: 0.1177639588713646, Validation Accuracy: 95.8865966796875, Validation AUC: 86.62110900878906\n"
     ]
    },
    {
     "name": "stderr",
     "output_type": "stream",
     "text": [
      "Epoch: 38: 100%|██████████| 69/69 [00:10<00:00,  6.58it/s]\n"
     ]
    },
    {
     "name": "stdout",
     "output_type": "stream",
     "text": [
      "Loss: 0.07395213842391968, Accuracy: 97.33528137207031, AUC: 92.06517028808594, Validation Loss: 0.12803217768669128, Validation Accuracy: 95.47628784179688, Validation AUC: 87.3054428100586\n"
     ]
    },
    {
     "name": "stderr",
     "output_type": "stream",
     "text": [
      "Epoch: 39: 100%|██████████| 69/69 [00:10<00:00,  6.62it/s]\n"
     ]
    },
    {
     "name": "stdout",
     "output_type": "stream",
     "text": [
      "Loss: 0.07404085248708725, Accuracy: 97.26158142089844, AUC: 91.83910369873047, Validation Loss: 0.11633927375078201, Validation Accuracy: 95.90432739257812, Validation AUC: 86.72654724121094\n"
     ]
    },
    {
     "name": "stderr",
     "output_type": "stream",
     "text": [
      "Epoch: 40: 100%|██████████| 69/69 [00:10<00:00,  6.63it/s]\n"
     ]
    },
    {
     "name": "stdout",
     "output_type": "stream",
     "text": [
      "Loss: 0.07197633385658264, Accuracy: 97.38368225097656, AUC: 91.82525634765625, Validation Loss: 0.13636910915374756, Validation Accuracy: 95.04972839355469, Validation AUC: 87.64579010009766\n"
     ]
    },
    {
     "name": "stderr",
     "output_type": "stream",
     "text": [
      "Epoch: 41: 100%|██████████| 69/69 [00:10<00:00,  6.59it/s]\n"
     ]
    },
    {
     "name": "stdout",
     "output_type": "stream",
     "text": [
      "Saving new best model with AUC: 0.8844488263130188\n",
      "Loss: 0.07156462967395782, Accuracy: 97.39720153808594, AUC: 92.35152435302734, Validation Loss: 0.13285931944847107, Validation Accuracy: 95.34870910644531, Validation AUC: 88.44488525390625\n"
     ]
    },
    {
     "name": "stderr",
     "output_type": "stream",
     "text": [
      "Epoch: 42: 100%|██████████| 69/69 [00:10<00:00,  6.56it/s]\n"
     ]
    },
    {
     "name": "stdout",
     "output_type": "stream",
     "text": [
      "Loss: 0.0759880319237709, Accuracy: 97.21947479248047, AUC: 91.88145446777344, Validation Loss: 0.11282631754875183, Validation Accuracy: 95.97771453857422, Validation AUC: 87.56718444824219\n"
     ]
    },
    {
     "name": "stderr",
     "output_type": "stream",
     "text": [
      "Epoch: 43: 100%|██████████| 69/69 [00:10<00:00,  6.62it/s]\n"
     ]
    },
    {
     "name": "stdout",
     "output_type": "stream",
     "text": [
      "Saving new best model with AUC: 0.8869439959526062\n",
      "Loss: 0.0748235434293747, Accuracy: 97.24960327148438, AUC: 91.8768310546875, Validation Loss: 0.11747005581855774, Validation Accuracy: 95.76837158203125, Validation AUC: 88.69439697265625\n"
     ]
    },
    {
     "name": "stderr",
     "output_type": "stream",
     "text": [
      "Epoch: 44: 100%|██████████| 69/69 [00:10<00:00,  6.58it/s]\n"
     ]
    },
    {
     "name": "stdout",
     "output_type": "stream",
     "text": [
      "Loss: 0.07382301986217499, Accuracy: 97.29886627197266, AUC: 92.21300506591797, Validation Loss: 0.11086657643318176, Validation Accuracy: 95.9545669555664, Validation AUC: 87.73094177246094\n"
     ]
    },
    {
     "name": "stderr",
     "output_type": "stream",
     "text": [
      "Epoch: 45: 100%|██████████| 69/69 [00:10<00:00,  6.44it/s]\n"
     ]
    },
    {
     "name": "stdout",
     "output_type": "stream",
     "text": [
      "Loss: 0.069339320063591, Accuracy: 97.48628997802734, AUC: 92.98851776123047, Validation Loss: 0.1303541660308838, Validation Accuracy: 95.28418731689453, Validation AUC: 87.90662384033203\n"
     ]
    },
    {
     "name": "stderr",
     "output_type": "stream",
     "text": [
      "Epoch: 46: 100%|██████████| 69/69 [00:10<00:00,  6.62it/s]\n"
     ]
    },
    {
     "name": "stdout",
     "output_type": "stream",
     "text": [
      "Loss: 0.06984063237905502, Accuracy: 97.48967742919922, AUC: 92.74453735351562, Validation Loss: 0.1429266333580017, Validation Accuracy: 94.82758331298828, Validation AUC: 88.66659545898438\n"
     ]
    },
    {
     "name": "stderr",
     "output_type": "stream",
     "text": [
      "Epoch: 47: 100%|██████████| 69/69 [00:10<00:00,  6.64it/s]\n"
     ]
    },
    {
     "name": "stdout",
     "output_type": "stream",
     "text": [
      "Loss: 0.07229997217655182, Accuracy: 97.38713836669922, AUC: 92.23124694824219, Validation Loss: 0.12014611810445786, Validation Accuracy: 95.78462982177734, Validation AUC: 87.97293090820312\n"
     ]
    },
    {
     "name": "stderr",
     "output_type": "stream",
     "text": [
      "Epoch: 48: 100%|██████████| 69/69 [00:10<00:00,  6.64it/s]\n"
     ]
    },
    {
     "name": "stdout",
     "output_type": "stream",
     "text": [
      "Saving new best model with AUC: 0.8923133015632629\n",
      "Loss: 0.07048401981592178, Accuracy: 97.43647003173828, AUC: 92.61746215820312, Validation Loss: 0.12172838300466537, Validation Accuracy: 95.56199645996094, Validation AUC: 89.23133087158203\n"
     ]
    },
    {
     "name": "stderr",
     "output_type": "stream",
     "text": [
      "Epoch: 49: 100%|██████████| 69/69 [00:10<00:00,  6.59it/s]\n"
     ]
    },
    {
     "name": "stdout",
     "output_type": "stream",
     "text": [
      "Loss: 0.07016405463218689, Accuracy: 97.45677947998047, AUC: 92.7608413696289, Validation Loss: 0.12268590927124023, Validation Accuracy: 95.69449615478516, Validation AUC: 87.4765396118164\n"
     ]
    }
   ],
   "source": [
    "trainer = PTBXLTrainer(ensemble[4], model_name=\"full_supervised_inception_5\", num_labels=num_classes, model_base_dir=\"../models\", log_base_dir=\"../logs\")\n",
    "trainer.fit(data_module.train_dataset, data_module.validation_dataset)"
   ],
   "metadata": {
    "collapsed": false,
    "ExecuteTime": {
     "end_time": "2024-02-20T10:10:04.699715100Z",
     "start_time": "2024-02-20T10:00:10.363688500Z"
    }
   },
   "id": "6064438fa13219bb",
   "execution_count": 23
  },
  {
   "cell_type": "markdown",
   "source": [
    "## Testing\n",
    "\n",
    "Test the Inception network."
   ],
   "metadata": {
    "collapsed": false
   },
   "id": "bb0121309007e95"
  },
  {
   "cell_type": "code",
   "outputs": [],
   "source": [
    "import tensorflow as tf\n",
    "from tensorflow import keras"
   ],
   "metadata": {
    "collapsed": false,
    "ExecuteTime": {
     "end_time": "2024-02-20T10:31:22.677704300Z",
     "start_time": "2024-02-20T10:31:22.644574400Z"
    }
   },
   "id": "4f9eee63992849c9",
   "execution_count": 24
  },
  {
   "cell_type": "code",
   "outputs": [],
   "source": [
    "loss_object = keras.losses.BinaryCrossentropy()\n",
    "test_loss = keras.metrics.Mean(name=\"test_loss\")\n",
    "test_accuracy = keras.metrics.BinaryAccuracy(name=\"test_accuracy\")\n",
    "test_auc = keras.metrics.AUC(multi_label=True, name=\"test_auc\", num_labels=num_classes)\n",
    "\n",
    "@tf.function\n",
    "def test_step_ensemble(time_series_batch, label_batch, models_to_test):\n",
    "    ensemble_predictions = []\n",
    "    for model_to_test in models_to_test:\n",
    "        sliding_window_predictions = []\n",
    "        for sliding_window in time_series_batch:\n",
    "            sliding_window_predictions.append(model_to_test(sliding_window, training=False))\n",
    "    \n",
    "        ensemble_predictions.append(tf.reduce_max(sliding_window_predictions, axis=0))\n",
    "    predictions = tf.reduce_mean(ensemble_predictions, axis=0)\n",
    "    t_loss = loss_object(label_batch, predictions)\n",
    "\n",
    "    test_loss(t_loss)\n",
    "    test_accuracy(label_batch, predictions)\n",
    "    test_auc(label_batch, predictions)"
   ],
   "metadata": {
    "collapsed": false,
    "ExecuteTime": {
     "end_time": "2024-02-20T10:34:01.357369700Z",
     "start_time": "2024-02-20T10:34:01.302113Z"
    }
   },
   "id": "d1cfe0f120675814",
   "execution_count": 27
  },
  {
   "cell_type": "code",
   "outputs": [
    {
     "name": "stdout",
     "output_type": "stream",
     "text": [
      "Test data stats for model ensemble: Loss: 0.10352502763271332, Accuracy: 96.25025177001953, AUC: 90.32911682128906\n"
     ]
    }
   ],
   "source": [
    "model_names = [f\"full_supervised_inception_{x}\" for x in range(1, 6)]\n",
    "\n",
    "models = [keras.models.load_model(f\"../models/{model_name}/best_model.keras\") for model_name in model_names]\n",
    "\n",
    "test_loss.reset_states()\n",
    "test_accuracy.reset_states()\n",
    "test_auc.reset_states()\n",
    "\n",
    "for test_series, test_labels in data_module.test_dataset.batch(128):\n",
    "    test_step_ensemble(test_series, test_labels, models)\n",
    "\n",
    "print(\n",
    "    f'Test data stats for model ensemble: '\n",
    "    f'Loss: {test_loss.result()}, '\n",
    "    f'Accuracy: {test_accuracy.result() * 100}, '\n",
    "    f'AUC: {test_auc.result() * 100}'\n",
    ")"
   ],
   "metadata": {
    "collapsed": false,
    "ExecuteTime": {
     "end_time": "2024-02-20T10:34:35.000605900Z",
     "start_time": "2024-02-20T10:34:02.488809900Z"
    }
   },
   "id": "9ee8921842fc53c",
   "execution_count": 28
  },
  {
   "cell_type": "markdown",
   "source": [
    "## H-Inception network\n",
    "Compare it to the H-Inception network, which has some handcrafted filters.\n",
    "\n",
    "### Build the models"
   ],
   "metadata": {
    "collapsed": false
   },
   "id": "a87f3cf228c90203"
  },
  {
   "cell_type": "code",
   "outputs": [],
   "source": [
    "h_builder = InceptionNetworkBuilder(use_handcrafted_filters=True)\n",
    "config = InceptionNetworkConfig(use_handcrafted_filters=True)\n",
    "h_ensemble = [builder.build_model(config) for _ in range(5)]"
   ],
   "metadata": {
    "collapsed": false,
    "ExecuteTime": {
     "end_time": "2024-02-20T10:46:31.533902600Z",
     "start_time": "2024-02-20T10:46:29.521580200Z"
    }
   },
   "id": "340e65850cd46f30",
   "execution_count": 29
  },
  {
   "cell_type": "markdown",
   "source": [
    "### Train all H-Inception models"
   ],
   "metadata": {
    "collapsed": false
   },
   "id": "a38ab70df1b0e15b"
  },
  {
   "cell_type": "code",
   "outputs": [
    {
     "name": "stderr",
     "output_type": "stream",
     "text": [
      "Epoch: 0: 100%|██████████| 69/69 [00:19<00:00,  3.52it/s]\n"
     ]
    },
    {
     "name": "stdout",
     "output_type": "stream",
     "text": [
      "Saving new best model with AUC: 0.7638120055198669\n",
      "Loss: 0.2595270872116089, Accuracy: 90.56297302246094, AUC: 62.76792907714844, Validation Loss: 0.21065664291381836, Validation Accuracy: 93.89859771728516, Validation AUC: 76.3812026977539\n"
     ]
    },
    {
     "name": "stderr",
     "output_type": "stream",
     "text": [
      "Epoch: 1: 100%|██████████| 69/69 [00:10<00:00,  6.56it/s]\n"
     ]
    },
    {
     "name": "stdout",
     "output_type": "stream",
     "text": [
      "Saving new best model with AUC: 0.8027253746986389\n",
      "Loss: 0.14013902842998505, Accuracy: 95.06128692626953, AUC: 79.09342956542969, Validation Loss: 0.1705813705921173, Validation Accuracy: 94.00696563720703, Validation AUC: 80.27253723144531\n"
     ]
    },
    {
     "name": "stderr",
     "output_type": "stream",
     "text": [
      "Epoch: 2: 100%|██████████| 69/69 [00:10<00:00,  6.64it/s]\n"
     ]
    },
    {
     "name": "stdout",
     "output_type": "stream",
     "text": [
      "Loss: 0.12499427795410156, Accuracy: 95.56039428710938, AUC: 81.93827056884766, Validation Loss: 0.16988743841648102, Validation Accuracy: 93.39766693115234, Validation AUC: 80.2672119140625\n"
     ]
    },
    {
     "name": "stderr",
     "output_type": "stream",
     "text": [
      "Epoch: 3: 100%|██████████| 69/69 [00:10<00:00,  6.64it/s]\n"
     ]
    },
    {
     "name": "stdout",
     "output_type": "stream",
     "text": [
      "Saving new best model with AUC: 0.8323712944984436\n",
      "Loss: 0.11632318049669266, Accuracy: 95.8170166015625, AUC: 84.06514739990234, Validation Loss: 0.13302302360534668, Validation Accuracy: 95.11966705322266, Validation AUC: 83.23712921142578\n"
     ]
    },
    {
     "name": "stderr",
     "output_type": "stream",
     "text": [
      "Epoch: 4: 100%|██████████| 69/69 [00:10<00:00,  6.58it/s]\n"
     ]
    },
    {
     "name": "stdout",
     "output_type": "stream",
     "text": [
      "Saving new best model with AUC: 0.8343834280967712\n",
      "Loss: 0.11122705787420273, Accuracy: 96.00944519042969, AUC: 85.08430480957031, Validation Loss: 0.1417851597070694, Validation Accuracy: 94.67882537841797, Validation AUC: 83.43833923339844\n"
     ]
    },
    {
     "name": "stderr",
     "output_type": "stream",
     "text": [
      "Epoch: 5: 100%|██████████| 69/69 [00:10<00:00,  6.53it/s]\n"
     ]
    },
    {
     "name": "stdout",
     "output_type": "stream",
     "text": [
      "Saving new best model with AUC: 0.8483850359916687\n",
      "Loss: 0.10778018832206726, Accuracy: 96.10939025878906, AUC: 85.51720428466797, Validation Loss: 0.11677975207567215, Validation Accuracy: 95.70581817626953, Validation AUC: 84.8385009765625\n"
     ]
    },
    {
     "name": "stderr",
     "output_type": "stream",
     "text": [
      "Epoch: 6: 100%|██████████| 69/69 [00:10<00:00,  6.55it/s]\n"
     ]
    },
    {
     "name": "stdout",
     "output_type": "stream",
     "text": [
      "Loss: 0.10420576483011246, Accuracy: 96.19735717773438, AUC: 85.75460052490234, Validation Loss: 0.11788037419319153, Validation Accuracy: 95.5954818725586, Validation AUC: 83.90078735351562\n"
     ]
    },
    {
     "name": "stderr",
     "output_type": "stream",
     "text": [
      "Epoch: 7: 100%|██████████| 69/69 [00:10<00:00,  6.58it/s]\n"
     ]
    },
    {
     "name": "stdout",
     "output_type": "stream",
     "text": [
      "Loss: 0.10107466578483582, Accuracy: 96.34236907958984, AUC: 86.3235855102539, Validation Loss: 0.12306766957044601, Validation Accuracy: 95.39747619628906, Validation AUC: 83.45867156982422\n"
     ]
    },
    {
     "name": "stderr",
     "output_type": "stream",
     "text": [
      "Epoch: 8: 100%|██████████| 69/69 [00:10<00:00,  6.61it/s]\n"
     ]
    },
    {
     "name": "stdout",
     "output_type": "stream",
     "text": [
      "Saving new best model with AUC: 0.8513902425765991\n",
      "Loss: 0.1015373170375824, Accuracy: 96.37496185302734, AUC: 86.8285140991211, Validation Loss: 0.11508243530988693, Validation Accuracy: 95.81270599365234, Validation AUC: 85.13902282714844\n"
     ]
    },
    {
     "name": "stderr",
     "output_type": "stream",
     "text": [
      "Epoch: 9: 100%|██████████| 69/69 [00:10<00:00,  6.62it/s]\n"
     ]
    },
    {
     "name": "stdout",
     "output_type": "stream",
     "text": [
      "Loss: 0.09792790561914444, Accuracy: 96.43546295166016, AUC: 86.79448699951172, Validation Loss: 0.12335307151079178, Validation Accuracy: 95.4403305053711, Validation AUC: 83.76953887939453\n"
     ]
    },
    {
     "name": "stderr",
     "output_type": "stream",
     "text": [
      "Epoch: 10: 100%|██████████| 69/69 [00:10<00:00,  6.57it/s]\n"
     ]
    },
    {
     "name": "stdout",
     "output_type": "stream",
     "text": [
      "Saving new best model with AUC: 0.8586276769638062\n",
      "Loss: 0.0973161906003952, Accuracy: 96.45799255371094, AUC: 87.22311401367188, Validation Loss: 0.1198720782995224, Validation Accuracy: 95.54425811767578, Validation AUC: 85.8627700805664\n"
     ]
    },
    {
     "name": "stderr",
     "output_type": "stream",
     "text": [
      "Epoch: 11: 100%|██████████| 69/69 [00:10<00:00,  6.64it/s]\n"
     ]
    },
    {
     "name": "stdout",
     "output_type": "stream",
     "text": [
      "Loss: 0.0959848016500473, Accuracy: 96.49312591552734, AUC: 87.54861450195312, Validation Loss: 0.12929373979568481, Validation Accuracy: 95.13346099853516, Validation AUC: 84.41033172607422\n"
     ]
    },
    {
     "name": "stderr",
     "output_type": "stream",
     "text": [
      "Epoch: 12: 100%|██████████| 69/69 [00:10<00:00,  6.59it/s]\n"
     ]
    },
    {
     "name": "stdout",
     "output_type": "stream",
     "text": [
      "Saving new best model with AUC: 0.8605180382728577\n",
      "Loss: 0.093953937292099, Accuracy: 96.56837463378906, AUC: 88.19512939453125, Validation Loss: 0.1264997273683548, Validation Accuracy: 95.33344268798828, Validation AUC: 86.05180358886719\n"
     ]
    },
    {
     "name": "stderr",
     "output_type": "stream",
     "text": [
      "Epoch: 13: 100%|██████████| 69/69 [00:10<00:00,  6.60it/s]\n"
     ]
    },
    {
     "name": "stdout",
     "output_type": "stream",
     "text": [
      "Loss: 0.0926387757062912, Accuracy: 96.61727142333984, AUC: 88.19855499267578, Validation Loss: 0.11088354885578156, Validation Accuracy: 95.8590087890625, Validation AUC: 85.43836975097656\n"
     ]
    },
    {
     "name": "stderr",
     "output_type": "stream",
     "text": [
      "Epoch: 14: 100%|██████████| 69/69 [00:10<00:00,  6.61it/s]\n"
     ]
    },
    {
     "name": "stdout",
     "output_type": "stream",
     "text": [
      "Saving new best model with AUC: 0.8679567575454712\n",
      "Loss: 0.0926261767745018, Accuracy: 96.65443420410156, AUC: 88.52924346923828, Validation Loss: 0.11833512783050537, Validation Accuracy: 95.55657196044922, Validation AUC: 86.7956771850586\n"
     ]
    },
    {
     "name": "stderr",
     "output_type": "stream",
     "text": [
      "Epoch: 15: 100%|██████████| 69/69 [00:10<00:00,  6.64it/s]\n"
     ]
    },
    {
     "name": "stdout",
     "output_type": "stream",
     "text": [
      "Loss: 0.08957590907812119, Accuracy: 96.75641632080078, AUC: 88.75118255615234, Validation Loss: 0.11975283175706863, Validation Accuracy: 95.5526351928711, Validation AUC: 84.63725280761719\n"
     ]
    },
    {
     "name": "stderr",
     "output_type": "stream",
     "text": [
      "Epoch: 16: 100%|██████████| 69/69 [00:10<00:00,  6.64it/s]\n"
     ]
    },
    {
     "name": "stdout",
     "output_type": "stream",
     "text": [
      "Loss: 0.08913126587867737, Accuracy: 96.74758911132812, AUC: 88.95316314697266, Validation Loss: 0.12103942781686783, Validation Accuracy: 95.54228973388672, Validation AUC: 84.6697006225586\n"
     ]
    },
    {
     "name": "stderr",
     "output_type": "stream",
     "text": [
      "Epoch: 17: 100%|██████████| 69/69 [00:10<00:00,  6.67it/s]\n"
     ]
    },
    {
     "name": "stdout",
     "output_type": "stream",
     "text": [
      "Loss: 0.08689886331558228, Accuracy: 96.82740783691406, AUC: 89.0424575805664, Validation Loss: 0.1073366329073906, Validation Accuracy: 96.0722885131836, Validation AUC: 85.58138275146484\n"
     ]
    },
    {
     "name": "stderr",
     "output_type": "stream",
     "text": [
      "Epoch: 18: 100%|██████████| 69/69 [00:10<00:00,  6.63it/s]\n"
     ]
    },
    {
     "name": "stdout",
     "output_type": "stream",
     "text": [
      "Loss: 0.08772582560777664, Accuracy: 96.82154083251953, AUC: 89.4022445678711, Validation Loss: 0.12271676957607269, Validation Accuracy: 95.4915542602539, Validation AUC: 86.4951400756836\n"
     ]
    },
    {
     "name": "stderr",
     "output_type": "stream",
     "text": [
      "Epoch: 19: 100%|██████████| 69/69 [00:10<00:00,  6.60it/s]\n"
     ]
    },
    {
     "name": "stdout",
     "output_type": "stream",
     "text": [
      "Loss: 0.08747934550046921, Accuracy: 96.8292007446289, AUC: 89.2108154296875, Validation Loss: 0.1122661828994751, Validation Accuracy: 95.88610076904297, Validation AUC: 86.72723388671875\n"
     ]
    },
    {
     "name": "stderr",
     "output_type": "stream",
     "text": [
      "Epoch: 20: 100%|██████████| 69/69 [00:10<00:00,  6.66it/s]\n"
     ]
    },
    {
     "name": "stdout",
     "output_type": "stream",
     "text": [
      "Loss: 0.08575596660375595, Accuracy: 96.88080596923828, AUC: 89.58912658691406, Validation Loss: 0.13069410622119904, Validation Accuracy: 95.1265640258789, Validation AUC: 85.38278198242188\n"
     ]
    },
    {
     "name": "stderr",
     "output_type": "stream",
     "text": [
      "Epoch: 21: 100%|██████████| 69/69 [00:10<00:00,  6.62it/s]\n"
     ]
    },
    {
     "name": "stdout",
     "output_type": "stream",
     "text": [
      "Saving new best model with AUC: 0.8789384365081787\n",
      "Loss: 0.08601666986942291, Accuracy: 96.85932159423828, AUC: 89.65486907958984, Validation Loss: 0.10920083522796631, Validation Accuracy: 95.94717407226562, Validation AUC: 87.89384460449219\n"
     ]
    },
    {
     "name": "stderr",
     "output_type": "stream",
     "text": [
      "Epoch: 22: 100%|██████████| 69/69 [00:10<00:00,  6.60it/s]\n"
     ]
    },
    {
     "name": "stdout",
     "output_type": "stream",
     "text": [
      "Loss: 0.08526682108640671, Accuracy: 96.91790771484375, AUC: 90.22713470458984, Validation Loss: 0.12434641271829605, Validation Accuracy: 95.20882415771484, Validation AUC: 86.29914855957031\n"
     ]
    },
    {
     "name": "stderr",
     "output_type": "stream",
     "text": [
      "Epoch: 23: 100%|██████████| 69/69 [00:10<00:00,  6.50it/s]\n"
     ]
    },
    {
     "name": "stdout",
     "output_type": "stream",
     "text": [
      "Loss: 0.08386629074811935, Accuracy: 96.9290771484375, AUC: 89.95147705078125, Validation Loss: 0.12404482811689377, Validation Accuracy: 95.39057922363281, Validation AUC: 85.52930450439453\n"
     ]
    },
    {
     "name": "stderr",
     "output_type": "stream",
     "text": [
      "Epoch: 24: 100%|██████████| 69/69 [00:10<00:00,  6.43it/s]\n"
     ]
    },
    {
     "name": "stdout",
     "output_type": "stream",
     "text": [
      "Saving new best model with AUC: 0.8834651708602905\n",
      "Loss: 0.08466564863920212, Accuracy: 96.89334106445312, AUC: 89.94813537597656, Validation Loss: 0.11080478876829147, Validation Accuracy: 95.87477111816406, Validation AUC: 88.34651947021484\n"
     ]
    },
    {
     "name": "stderr",
     "output_type": "stream",
     "text": [
      "Epoch: 25: 100%|██████████| 69/69 [00:10<00:00,  6.34it/s]\n"
     ]
    },
    {
     "name": "stdout",
     "output_type": "stream",
     "text": [
      "Loss: 0.08196066319942474, Accuracy: 97.02723693847656, AUC: 90.29676055908203, Validation Loss: 0.11703891307115555, Validation Accuracy: 95.6600112915039, Validation AUC: 86.85858154296875\n"
     ]
    },
    {
     "name": "stderr",
     "output_type": "stream",
     "text": [
      "Epoch: 26: 100%|██████████| 69/69 [00:11<00:00,  6.15it/s]\n"
     ]
    },
    {
     "name": "stdout",
     "output_type": "stream",
     "text": [
      "Loss: 0.0807919055223465, Accuracy: 97.03958892822266, AUC: 90.6525650024414, Validation Loss: 0.1057748943567276, Validation Accuracy: 96.1983871459961, Validation AUC: 87.12968444824219\n"
     ]
    },
    {
     "name": "stderr",
     "output_type": "stream",
     "text": [
      "Epoch: 27: 100%|██████████| 69/69 [00:11<00:00,  6.13it/s]\n"
     ]
    },
    {
     "name": "stdout",
     "output_type": "stream",
     "text": [
      "Loss: 0.07951771467924118, Accuracy: 97.1036605834961, AUC: 90.85501098632812, Validation Loss: 0.10909470915794373, Validation Accuracy: 96.08706665039062, Validation AUC: 87.24081420898438\n"
     ]
    },
    {
     "name": "stderr",
     "output_type": "stream",
     "text": [
      "Epoch: 28: 100%|██████████| 69/69 [00:11<00:00,  6.24it/s]\n"
     ]
    },
    {
     "name": "stdout",
     "output_type": "stream",
     "text": [
      "Loss: 0.08169738948345184, Accuracy: 97.02316284179688, AUC: 90.8547592163086, Validation Loss: 0.10711714625358582, Validation Accuracy: 96.12647247314453, Validation AUC: 86.82120513916016\n"
     ]
    },
    {
     "name": "stderr",
     "output_type": "stream",
     "text": [
      "Epoch: 29: 100%|██████████| 69/69 [00:11<00:00,  6.16it/s]\n"
     ]
    },
    {
     "name": "stdout",
     "output_type": "stream",
     "text": [
      "Loss: 0.07869460433721542, Accuracy: 97.12193298339844, AUC: 90.87110900878906, Validation Loss: 0.10633711516857147, Validation Accuracy: 96.18804168701172, Validation AUC: 87.31096649169922\n"
     ]
    },
    {
     "name": "stderr",
     "output_type": "stream",
     "text": [
      "Epoch: 30: 100%|██████████| 69/69 [00:10<00:00,  6.29it/s]\n"
     ]
    },
    {
     "name": "stdout",
     "output_type": "stream",
     "text": [
      "Loss: 0.07652927935123444, Accuracy: 97.23027801513672, AUC: 91.34174346923828, Validation Loss: 0.11636512726545334, Validation Accuracy: 95.78807830810547, Validation AUC: 86.96451568603516\n"
     ]
    },
    {
     "name": "stderr",
     "output_type": "stream",
     "text": [
      "Epoch: 31: 100%|██████████| 69/69 [00:10<00:00,  6.30it/s]\n"
     ]
    },
    {
     "name": "stdout",
     "output_type": "stream",
     "text": [
      "Loss: 0.07768788188695908, Accuracy: 97.12551879882812, AUC: 91.46216583251953, Validation Loss: 0.10890507698059082, Validation Accuracy: 96.03189849853516, Validation AUC: 87.59881591796875\n"
     ]
    },
    {
     "name": "stderr",
     "output_type": "stream",
     "text": [
      "Epoch: 32: 100%|██████████| 69/69 [00:10<00:00,  6.28it/s]\n"
     ]
    },
    {
     "name": "stdout",
     "output_type": "stream",
     "text": [
      "Saving new best model with AUC: 0.8903012871742249\n",
      "Loss: 0.07525591552257538, Accuracy: 97.2847900390625, AUC: 91.6397476196289, Validation Loss: 0.11613486707210541, Validation Accuracy: 95.78512573242188, Validation AUC: 89.0301284790039\n"
     ]
    },
    {
     "name": "stderr",
     "output_type": "stream",
     "text": [
      "Epoch: 33: 100%|██████████| 69/69 [00:10<00:00,  6.29it/s]\n"
     ]
    },
    {
     "name": "stdout",
     "output_type": "stream",
     "text": [
      "Loss: 0.07610679417848587, Accuracy: 97.21367645263672, AUC: 91.49593353271484, Validation Loss: 0.12591201066970825, Validation Accuracy: 95.32654571533203, Validation AUC: 88.67422485351562\n"
     ]
    },
    {
     "name": "stderr",
     "output_type": "stream",
     "text": [
      "Epoch: 34: 100%|██████████| 69/69 [00:11<00:00,  6.24it/s]\n"
     ]
    },
    {
     "name": "stdout",
     "output_type": "stream",
     "text": [
      "Loss: 0.07571408152580261, Accuracy: 97.25422668457031, AUC: 91.68766784667969, Validation Loss: 0.11507393419742584, Validation Accuracy: 95.82600402832031, Validation AUC: 88.11675262451172\n"
     ]
    },
    {
     "name": "stderr",
     "output_type": "stream",
     "text": [
      "Epoch: 35: 100%|██████████| 69/69 [00:11<00:00,  6.25it/s]\n"
     ]
    },
    {
     "name": "stdout",
     "output_type": "stream",
     "text": [
      "Loss: 0.07801061868667603, Accuracy: 97.11885070800781, AUC: 91.06411743164062, Validation Loss: 0.11181926727294922, Validation Accuracy: 95.89939880371094, Validation AUC: 87.71990203857422\n"
     ]
    },
    {
     "name": "stderr",
     "output_type": "stream",
     "text": [
      "Epoch: 36: 100%|██████████| 69/69 [00:10<00:00,  6.29it/s]\n"
     ]
    },
    {
     "name": "stdout",
     "output_type": "stream",
     "text": [
      "Loss: 0.07431887835264206, Accuracy: 97.27250671386719, AUC: 91.6570816040039, Validation Loss: 0.1316850185394287, Validation Accuracy: 95.12409973144531, Validation AUC: 88.4075698852539\n"
     ]
    },
    {
     "name": "stderr",
     "output_type": "stream",
     "text": [
      "Epoch: 37: 100%|██████████| 69/69 [00:10<00:00,  6.35it/s]\n"
     ]
    },
    {
     "name": "stdout",
     "output_type": "stream",
     "text": [
      "Loss: 0.07328226417303085, Accuracy: 97.35639953613281, AUC: 91.63410186767578, Validation Loss: 0.11650040745735168, Validation Accuracy: 95.84127807617188, Validation AUC: 87.82601928710938\n"
     ]
    },
    {
     "name": "stderr",
     "output_type": "stream",
     "text": [
      "Epoch: 38: 100%|██████████| 69/69 [00:11<00:00,  6.25it/s]\n"
     ]
    },
    {
     "name": "stdout",
     "output_type": "stream",
     "text": [
      "Loss: 0.07947494089603424, Accuracy: 97.07791900634766, AUC: 91.24537658691406, Validation Loss: 0.12614375352859497, Validation Accuracy: 95.50386810302734, Validation AUC: 87.80670166015625\n"
     ]
    },
    {
     "name": "stderr",
     "output_type": "stream",
     "text": [
      "Epoch: 39: 100%|██████████| 69/69 [00:10<00:00,  6.30it/s]\n"
     ]
    },
    {
     "name": "stdout",
     "output_type": "stream",
     "text": [
      "Loss: 0.07288968563079834, Accuracy: 97.40264129638672, AUC: 92.04438781738281, Validation Loss: 0.12733523547649384, Validation Accuracy: 95.22655487060547, Validation AUC: 88.1024398803711\n"
     ]
    },
    {
     "name": "stderr",
     "output_type": "stream",
     "text": [
      "Epoch: 40: 100%|██████████| 69/69 [00:10<00:00,  6.33it/s]\n"
     ]
    },
    {
     "name": "stdout",
     "output_type": "stream",
     "text": [
      "Loss: 0.07707120478153229, Accuracy: 97.16798400878906, AUC: 91.73729705810547, Validation Loss: 0.11347480863332748, Validation Accuracy: 95.78561401367188, Validation AUC: 88.37150573730469\n"
     ]
    },
    {
     "name": "stderr",
     "output_type": "stream",
     "text": [
      "Epoch: 41: 100%|██████████| 69/69 [00:11<00:00,  6.20it/s]\n"
     ]
    },
    {
     "name": "stdout",
     "output_type": "stream",
     "text": [
      "Loss: 0.07445185631513596, Accuracy: 97.33572387695312, AUC: 92.123779296875, Validation Loss: 0.1116047278046608, Validation Accuracy: 95.9708251953125, Validation AUC: 88.4867172241211\n"
     ]
    },
    {
     "name": "stderr",
     "output_type": "stream",
     "text": [
      "Epoch: 42: 100%|██████████| 69/69 [00:11<00:00,  6.21it/s]\n"
     ]
    },
    {
     "name": "stdout",
     "output_type": "stream",
     "text": [
      "Loss: 0.07456014305353165, Accuracy: 97.27842712402344, AUC: 91.98481750488281, Validation Loss: 0.13298535346984863, Validation Accuracy: 95.01869201660156, Validation AUC: 88.31488800048828\n"
     ]
    },
    {
     "name": "stderr",
     "output_type": "stream",
     "text": [
      "Epoch: 43: 100%|██████████| 69/69 [00:11<00:00,  6.15it/s]\n"
     ]
    },
    {
     "name": "stdout",
     "output_type": "stream",
     "text": [
      "Loss: 0.07198013365268707, Accuracy: 97.36177062988281, AUC: 92.48650360107422, Validation Loss: 0.10596998035907745, Validation Accuracy: 96.20922088623047, Validation AUC: 87.79582214355469\n"
     ]
    },
    {
     "name": "stderr",
     "output_type": "stream",
     "text": [
      "Epoch: 44: 100%|██████████| 69/69 [00:11<00:00,  6.23it/s]\n"
     ]
    },
    {
     "name": "stdout",
     "output_type": "stream",
     "text": [
      "Loss: 0.06837880611419678, Accuracy: 97.51097869873047, AUC: 92.9591293334961, Validation Loss: 0.11316215991973877, Validation Accuracy: 95.97229766845703, Validation AUC: 88.27838897705078\n"
     ]
    },
    {
     "name": "stderr",
     "output_type": "stream",
     "text": [
      "Epoch: 45: 100%|██████████| 69/69 [00:10<00:00,  6.30it/s]\n"
     ]
    },
    {
     "name": "stdout",
     "output_type": "stream",
     "text": [
      "Loss: 0.06830711662769318, Accuracy: 97.56375885009766, AUC: 92.98445129394531, Validation Loss: 0.11887846887111664, Validation Accuracy: 95.6201171875, Validation AUC: 88.11414337158203\n"
     ]
    },
    {
     "name": "stderr",
     "output_type": "stream",
     "text": [
      "Epoch: 46: 100%|██████████| 69/69 [00:11<00:00,  6.24it/s]\n"
     ]
    },
    {
     "name": "stdout",
     "output_type": "stream",
     "text": [
      "Loss: 0.07260875403881073, Accuracy: 97.3197250366211, AUC: 92.24056243896484, Validation Loss: 0.13004130125045776, Validation Accuracy: 95.41471862792969, Validation AUC: 87.8963851928711\n"
     ]
    },
    {
     "name": "stderr",
     "output_type": "stream",
     "text": [
      "Epoch: 47: 100%|██████████| 69/69 [00:10<00:00,  6.29it/s]\n"
     ]
    },
    {
     "name": "stdout",
     "output_type": "stream",
     "text": [
      "Loss: 0.06739802658557892, Accuracy: 97.58666229248047, AUC: 93.23690795898438, Validation Loss: 0.1293642222881317, Validation Accuracy: 95.2979736328125, Validation AUC: 88.00232696533203\n"
     ]
    },
    {
     "name": "stderr",
     "output_type": "stream",
     "text": [
      "Epoch: 48: 100%|██████████| 69/69 [00:10<00:00,  6.30it/s]\n"
     ]
    },
    {
     "name": "stdout",
     "output_type": "stream",
     "text": [
      "Loss: 0.06757283210754395, Accuracy: 97.53641510009766, AUC: 93.08094024658203, Validation Loss: 0.11215177178382874, Validation Accuracy: 96.02253723144531, Validation AUC: 87.30057525634766\n"
     ]
    },
    {
     "name": "stderr",
     "output_type": "stream",
     "text": [
      "Epoch: 49: 100%|██████████| 69/69 [00:10<00:00,  6.30it/s]\n"
     ]
    },
    {
     "name": "stdout",
     "output_type": "stream",
     "text": [
      "Loss: 0.06875602155923843, Accuracy: 97.50159454345703, AUC: 93.12028503417969, Validation Loss: 0.12590432167053223, Validation Accuracy: 95.51815032958984, Validation AUC: 87.16107940673828\n"
     ]
    },
    {
     "name": "stderr",
     "output_type": "stream",
     "text": [
      "Epoch: 0: 100%|██████████| 69/69 [00:25<00:00,  2.67it/s]\n"
     ]
    },
    {
     "name": "stdout",
     "output_type": "stream",
     "text": [
      "Saving new best model with AUC: 0.7258158326148987\n",
      "Loss: 0.2548094391822815, Accuracy: 91.0473861694336, AUC: 61.95545196533203, Validation Loss: 0.2300429344177246, Validation Accuracy: 93.32230377197266, Validation AUC: 72.58158111572266\n"
     ]
    },
    {
     "name": "stderr",
     "output_type": "stream",
     "text": [
      "Epoch: 1: 100%|██████████| 69/69 [00:11<00:00,  6.21it/s]\n"
     ]
    },
    {
     "name": "stdout",
     "output_type": "stream",
     "text": [
      "Saving new best model with AUC: 0.8016144037246704\n",
      "Loss: 0.1390823870897293, Accuracy: 95.10314178466797, AUC: 78.29207611083984, Validation Loss: 0.16284020245075226, Validation Accuracy: 94.13749694824219, Validation AUC: 80.16143798828125\n"
     ]
    },
    {
     "name": "stderr",
     "output_type": "stream",
     "text": [
      "Epoch: 2: 100%|██████████| 69/69 [00:10<00:00,  6.36it/s]\n"
     ]
    },
    {
     "name": "stdout",
     "output_type": "stream",
     "text": [
      "Loss: 0.12369733303785324, Accuracy: 95.57292175292969, AUC: 81.5273666381836, Validation Loss: 0.1362028419971466, Validation Accuracy: 95.31028747558594, Validation AUC: 80.05481719970703\n"
     ]
    },
    {
     "name": "stderr",
     "output_type": "stream",
     "text": [
      "Epoch: 3: 100%|██████████| 69/69 [00:11<00:00,  6.27it/s]\n"
     ]
    },
    {
     "name": "stdout",
     "output_type": "stream",
     "text": [
      "Saving new best model with AUC: 0.8175861239433289\n",
      "Loss: 0.11572273820638657, Accuracy: 95.86282348632812, AUC: 82.42134857177734, Validation Loss: 0.16303934156894684, Validation Accuracy: 93.55626678466797, Validation AUC: 81.75861358642578\n"
     ]
    },
    {
     "name": "stderr",
     "output_type": "stream",
     "text": [
      "Epoch: 4: 100%|██████████| 69/69 [00:10<00:00,  6.32it/s]\n"
     ]
    },
    {
     "name": "stdout",
     "output_type": "stream",
     "text": [
      "Saving new best model with AUC: 0.8237801790237427\n",
      "Loss: 0.11135684698820114, Accuracy: 95.98918914794922, AUC: 83.28775024414062, Validation Loss: 0.12228202819824219, Validation Accuracy: 95.592529296875, Validation AUC: 82.37802124023438\n"
     ]
    },
    {
     "name": "stderr",
     "output_type": "stream",
     "text": [
      "Epoch: 5: 100%|██████████| 69/69 [00:10<00:00,  6.29it/s]\n"
     ]
    },
    {
     "name": "stdout",
     "output_type": "stream",
     "text": [
      "Saving new best model with AUC: 0.8415545225143433\n",
      "Loss: 0.10638689994812012, Accuracy: 96.14723205566406, AUC: 85.37138366699219, Validation Loss: 0.12645894289016724, Validation Accuracy: 95.28221130371094, Validation AUC: 84.15544891357422\n"
     ]
    },
    {
     "name": "stderr",
     "output_type": "stream",
     "text": [
      "Epoch: 6: 100%|██████████| 69/69 [00:11<00:00,  6.14it/s]\n"
     ]
    },
    {
     "name": "stdout",
     "output_type": "stream",
     "text": [
      "Loss: 0.10417371988296509, Accuracy: 96.25440216064453, AUC: 85.7237777709961, Validation Loss: 0.12183083593845367, Validation Accuracy: 95.4403305053711, Validation AUC: 83.43343353271484\n"
     ]
    },
    {
     "name": "stderr",
     "output_type": "stream",
     "text": [
      "Epoch: 7: 100%|██████████| 69/69 [00:11<00:00,  6.24it/s]\n"
     ]
    },
    {
     "name": "stdout",
     "output_type": "stream",
     "text": [
      "Saving new best model with AUC: 0.8435184955596924\n",
      "Loss: 0.10223732143640518, Accuracy: 96.29471588134766, AUC: 86.03382873535156, Validation Loss: 0.11457620561122894, Validation Accuracy: 95.86540985107422, Validation AUC: 84.35185241699219\n"
     ]
    },
    {
     "name": "stderr",
     "output_type": "stream",
     "text": [
      "Epoch: 8: 100%|██████████| 69/69 [00:11<00:00,  6.18it/s]\n"
     ]
    },
    {
     "name": "stdout",
     "output_type": "stream",
     "text": [
      "Saving new best model with AUC: 0.8496325016021729\n",
      "Loss: 0.09889450669288635, Accuracy: 96.42515563964844, AUC: 86.4096908569336, Validation Loss: 0.12440145015716553, Validation Accuracy: 95.3846664428711, Validation AUC: 84.96324920654297\n"
     ]
    },
    {
     "name": "stderr",
     "output_type": "stream",
     "text": [
      "Epoch: 9: 100%|██████████| 69/69 [00:11<00:00,  6.22it/s]\n"
     ]
    },
    {
     "name": "stdout",
     "output_type": "stream",
     "text": [
      "Loss: 0.09595011174678802, Accuracy: 96.49590301513672, AUC: 87.6291275024414, Validation Loss: 0.12580949068069458, Validation Accuracy: 95.20882415771484, Validation AUC: 84.93707275390625\n"
     ]
    },
    {
     "name": "stderr",
     "output_type": "stream",
     "text": [
      "Epoch: 10: 100%|██████████| 69/69 [00:11<00:00,  6.24it/s]\n"
     ]
    },
    {
     "name": "stdout",
     "output_type": "stream",
     "text": [
      "Saving new best model with AUC: 0.8664601445198059\n",
      "Loss: 0.09454865008592606, Accuracy: 96.5631332397461, AUC: 87.67868041992188, Validation Loss: 0.11504440754652023, Validation Accuracy: 95.78561401367188, Validation AUC: 86.64601135253906\n"
     ]
    },
    {
     "name": "stderr",
     "output_type": "stream",
     "text": [
      "Epoch: 11: 100%|██████████| 69/69 [00:11<00:00,  6.25it/s]\n"
     ]
    },
    {
     "name": "stdout",
     "output_type": "stream",
     "text": [
      "Saving new best model with AUC: 0.8690139651298523\n",
      "Loss: 0.09627649188041687, Accuracy: 96.4889907836914, AUC: 87.36711883544922, Validation Loss: 0.11785636842250824, Validation Accuracy: 95.67725372314453, Validation AUC: 86.90139770507812\n"
     ]
    },
    {
     "name": "stderr",
     "output_type": "stream",
     "text": [
      "Epoch: 12: 100%|██████████| 69/69 [00:11<00:00,  6.20it/s]\n"
     ]
    },
    {
     "name": "stdout",
     "output_type": "stream",
     "text": [
      "Loss: 0.09343858063220978, Accuracy: 96.61627960205078, AUC: 87.92593383789062, Validation Loss: 0.1171535775065422, Validation Accuracy: 95.67725372314453, Validation AUC: 86.86781311035156\n"
     ]
    },
    {
     "name": "stderr",
     "output_type": "stream",
     "text": [
      "Epoch: 13: 100%|██████████| 69/69 [00:11<00:00,  6.25it/s]\n"
     ]
    },
    {
     "name": "stdout",
     "output_type": "stream",
     "text": [
      "Loss: 0.09235674887895584, Accuracy: 96.63127899169922, AUC: 88.24894714355469, Validation Loss: 0.11707694083452225, Validation Accuracy: 95.75261688232422, Validation AUC: 85.21150207519531\n"
     ]
    },
    {
     "name": "stderr",
     "output_type": "stream",
     "text": [
      "Epoch: 14: 100%|██████████| 69/69 [00:10<00:00,  6.29it/s]\n"
     ]
    },
    {
     "name": "stdout",
     "output_type": "stream",
     "text": [
      "Loss: 0.09042510390281677, Accuracy: 96.67961883544922, AUC: 88.68782806396484, Validation Loss: 0.11738143861293793, Validation Accuracy: 95.55164337158203, Validation AUC: 86.39031982421875\n"
     ]
    },
    {
     "name": "stderr",
     "output_type": "stream",
     "text": [
      "Epoch: 15: 100%|██████████| 69/69 [00:11<00:00,  6.25it/s]\n"
     ]
    },
    {
     "name": "stdout",
     "output_type": "stream",
     "text": [
      "Loss: 0.09033691138029099, Accuracy: 96.70820617675781, AUC: 88.64852142333984, Validation Loss: 0.11294104158878326, Validation Accuracy: 95.80679321289062, Validation AUC: 86.54366302490234\n"
     ]
    },
    {
     "name": "stderr",
     "output_type": "stream",
     "text": [
      "Epoch: 16: 100%|██████████| 69/69 [00:10<00:00,  6.30it/s]\n"
     ]
    },
    {
     "name": "stdout",
     "output_type": "stream",
     "text": [
      "Saving new best model with AUC: 0.8730539083480835\n",
      "Loss: 0.08994518220424652, Accuracy: 96.70320129394531, AUC: 88.79289245605469, Validation Loss: 0.10927943885326385, Validation Accuracy: 96.00677490234375, Validation AUC: 87.30538940429688\n"
     ]
    },
    {
     "name": "stderr",
     "output_type": "stream",
     "text": [
      "Epoch: 17: 100%|██████████| 69/69 [00:10<00:00,  6.33it/s]\n"
     ]
    },
    {
     "name": "stdout",
     "output_type": "stream",
     "text": [
      "Saving new best model with AUC: 0.8732702732086182\n",
      "Loss: 0.0881083682179451, Accuracy: 96.82364654541016, AUC: 89.32372283935547, Validation Loss: 0.1141534373164177, Validation Accuracy: 95.79793548583984, Validation AUC: 87.3270263671875\n"
     ]
    },
    {
     "name": "stderr",
     "output_type": "stream",
     "text": [
      "Epoch: 18: 100%|██████████| 69/69 [00:10<00:00,  6.34it/s]\n"
     ]
    },
    {
     "name": "stdout",
     "output_type": "stream",
     "text": [
      "Saving new best model with AUC: 0.8756504654884338\n",
      "Loss: 0.08596788346767426, Accuracy: 96.85858154296875, AUC: 89.3514633178711, Validation Loss: 0.11309642344713211, Validation Accuracy: 95.85999298095703, Validation AUC: 87.56504821777344\n"
     ]
    },
    {
     "name": "stderr",
     "output_type": "stream",
     "text": [
      "Epoch: 19: 100%|██████████| 69/69 [00:10<00:00,  6.30it/s]\n"
     ]
    },
    {
     "name": "stdout",
     "output_type": "stream",
     "text": [
      "Saving new best model with AUC: 0.8824772834777832\n",
      "Loss: 0.08603315055370331, Accuracy: 96.85648345947266, AUC: 89.39608001708984, Validation Loss: 0.11254788935184479, Validation Accuracy: 95.8565444946289, Validation AUC: 88.24772644042969\n"
     ]
    },
    {
     "name": "stderr",
     "output_type": "stream",
     "text": [
      "Epoch: 20: 100%|██████████| 69/69 [00:11<00:00,  6.27it/s]\n"
     ]
    },
    {
     "name": "stdout",
     "output_type": "stream",
     "text": [
      "Loss: 0.08606727421283722, Accuracy: 96.85395050048828, AUC: 89.3777847290039, Validation Loss: 0.10878828912973404, Validation Accuracy: 96.02204895019531, Validation AUC: 87.44168090820312\n"
     ]
    },
    {
     "name": "stderr",
     "output_type": "stream",
     "text": [
      "Epoch: 21: 100%|██████████| 69/69 [00:11<00:00,  6.20it/s]\n"
     ]
    },
    {
     "name": "stdout",
     "output_type": "stream",
     "text": [
      "Loss: 0.08675465732812881, Accuracy: 96.84833526611328, AUC: 89.36490631103516, Validation Loss: 0.11474296450614929, Validation Accuracy: 95.86837005615234, Validation AUC: 87.30416107177734\n"
     ]
    },
    {
     "name": "stderr",
     "output_type": "stream",
     "text": [
      "Epoch: 22: 100%|██████████| 69/69 [00:11<00:00,  6.25it/s]\n"
     ]
    },
    {
     "name": "stdout",
     "output_type": "stream",
     "text": [
      "Loss: 0.08706246316432953, Accuracy: 96.83926391601562, AUC: 89.61821746826172, Validation Loss: 0.10866358876228333, Validation Accuracy: 96.05455017089844, Validation AUC: 87.03482055664062\n"
     ]
    },
    {
     "name": "stderr",
     "output_type": "stream",
     "text": [
      "Epoch: 23: 100%|██████████| 69/69 [00:11<00:00,  6.25it/s]\n"
     ]
    },
    {
     "name": "stdout",
     "output_type": "stream",
     "text": [
      "Loss: 0.0851311907172203, Accuracy: 96.88111877441406, AUC: 89.83634185791016, Validation Loss: 0.12114686518907547, Validation Accuracy: 95.59302520751953, Validation AUC: 87.58953094482422\n"
     ]
    },
    {
     "name": "stderr",
     "output_type": "stream",
     "text": [
      "Epoch: 24: 100%|██████████| 69/69 [00:10<00:00,  6.32it/s]\n"
     ]
    },
    {
     "name": "stdout",
     "output_type": "stream",
     "text": [
      "Loss: 0.08344728499650955, Accuracy: 96.94235229492188, AUC: 90.18385314941406, Validation Loss: 0.104476198554039, Validation Accuracy: 96.19888305664062, Validation AUC: 87.56999206542969\n"
     ]
    },
    {
     "name": "stderr",
     "output_type": "stream",
     "text": [
      "Epoch: 25: 100%|██████████| 69/69 [00:11<00:00,  6.17it/s]\n"
     ]
    },
    {
     "name": "stdout",
     "output_type": "stream",
     "text": [
      "Loss: 0.08108657598495483, Accuracy: 97.06575775146484, AUC: 90.23564147949219, Validation Loss: 0.10567837208509445, Validation Accuracy: 96.15996551513672, Validation AUC: 86.86788940429688\n"
     ]
    },
    {
     "name": "stderr",
     "output_type": "stream",
     "text": [
      "Epoch: 26: 100%|██████████| 69/69 [00:11<00:00,  6.26it/s]\n"
     ]
    },
    {
     "name": "stdout",
     "output_type": "stream",
     "text": [
      "Saving new best model with AUC: 0.8936687111854553\n",
      "Loss: 0.08312468230724335, Accuracy: 96.94926452636719, AUC: 90.05694580078125, Validation Loss: 0.10958210378885269, Validation Accuracy: 95.98855590820312, Validation AUC: 89.36687469482422\n"
     ]
    },
    {
     "name": "stderr",
     "output_type": "stream",
     "text": [
      "Epoch: 27: 100%|██████████| 69/69 [00:10<00:00,  6.33it/s]\n"
     ]
    },
    {
     "name": "stdout",
     "output_type": "stream",
     "text": [
      "Loss: 0.08042845875024796, Accuracy: 97.06397247314453, AUC: 90.38084411621094, Validation Loss: 0.11684902757406235, Validation Accuracy: 95.62700653076172, Validation AUC: 87.47454071044922\n"
     ]
    },
    {
     "name": "stderr",
     "output_type": "stream",
     "text": [
      "Epoch: 28: 100%|██████████| 69/69 [00:11<00:00,  6.27it/s]\n"
     ]
    },
    {
     "name": "stdout",
     "output_type": "stream",
     "text": [
      "Loss: 0.07900083810091019, Accuracy: 97.1462631225586, AUC: 90.70146942138672, Validation Loss: 0.10706030577421188, Validation Accuracy: 96.09790802001953, Validation AUC: 87.50267791748047\n"
     ]
    },
    {
     "name": "stderr",
     "output_type": "stream",
     "text": [
      "Epoch: 29: 100%|██████████| 69/69 [00:11<00:00,  6.25it/s]\n"
     ]
    },
    {
     "name": "stdout",
     "output_type": "stream",
     "text": [
      "Loss: 0.07997387647628784, Accuracy: 97.07366180419922, AUC: 90.64825439453125, Validation Loss: 0.10515929013490677, Validation Accuracy: 96.17671203613281, Validation AUC: 86.84915161132812\n"
     ]
    },
    {
     "name": "stderr",
     "output_type": "stream",
     "text": [
      "Epoch: 30: 100%|██████████| 69/69 [00:11<00:00,  6.24it/s]\n"
     ]
    },
    {
     "name": "stdout",
     "output_type": "stream",
     "text": [
      "Loss: 0.08114751428365707, Accuracy: 97.04816436767578, AUC: 90.17035675048828, Validation Loss: 0.1077757179737091, Validation Accuracy: 96.0274658203125, Validation AUC: 88.75017547607422\n"
     ]
    },
    {
     "name": "stderr",
     "output_type": "stream",
     "text": [
      "Epoch: 31: 100%|██████████| 69/69 [00:10<00:00,  6.54it/s]\n"
     ]
    },
    {
     "name": "stdout",
     "output_type": "stream",
     "text": [
      "Loss: 0.07853732258081436, Accuracy: 97.1732406616211, AUC: 90.92794799804688, Validation Loss: 0.10865338891744614, Validation Accuracy: 96.08016967773438, Validation AUC: 87.47648620605469\n"
     ]
    },
    {
     "name": "stderr",
     "output_type": "stream",
     "text": [
      "Epoch: 32: 100%|██████████| 69/69 [00:10<00:00,  6.52it/s]\n"
     ]
    },
    {
     "name": "stdout",
     "output_type": "stream",
     "text": [
      "Loss: 0.07956253737211227, Accuracy: 97.08971405029297, AUC: 90.84237670898438, Validation Loss: 0.11199748516082764, Validation Accuracy: 95.81270599365234, Validation AUC: 88.52555847167969\n"
     ]
    },
    {
     "name": "stderr",
     "output_type": "stream",
     "text": [
      "Epoch: 33: 100%|██████████| 69/69 [00:10<00:00,  6.53it/s]\n"
     ]
    },
    {
     "name": "stdout",
     "output_type": "stream",
     "text": [
      "Loss: 0.07743287086486816, Accuracy: 97.21268463134766, AUC: 91.02925872802734, Validation Loss: 0.11019502580165863, Validation Accuracy: 96.03288269042969, Validation AUC: 85.98748016357422\n"
     ]
    },
    {
     "name": "stderr",
     "output_type": "stream",
     "text": [
      "Epoch: 34: 100%|██████████| 69/69 [00:10<00:00,  6.64it/s]\n"
     ]
    },
    {
     "name": "stdout",
     "output_type": "stream",
     "text": [
      "Loss: 0.07584026455879211, Accuracy: 97.24120330810547, AUC: 91.29137420654297, Validation Loss: 0.11351006478071213, Validation Accuracy: 95.80827331542969, Validation AUC: 87.49703216552734\n"
     ]
    },
    {
     "name": "stderr",
     "output_type": "stream",
     "text": [
      "Epoch: 35: 100%|██████████| 69/69 [00:10<00:00,  6.63it/s]\n"
     ]
    },
    {
     "name": "stdout",
     "output_type": "stream",
     "text": [
      "Loss: 0.07604413479566574, Accuracy: 97.22947692871094, AUC: 91.36193084716797, Validation Loss: 0.11157342791557312, Validation Accuracy: 95.89299774169922, Validation AUC: 88.130126953125\n"
     ]
    },
    {
     "name": "stderr",
     "output_type": "stream",
     "text": [
      "Epoch: 36: 100%|██████████| 69/69 [00:10<00:00,  6.62it/s]\n"
     ]
    },
    {
     "name": "stdout",
     "output_type": "stream",
     "text": [
      "Loss: 0.07590710371732712, Accuracy: 97.22867584228516, AUC: 91.30751037597656, Validation Loss: 0.11308026313781738, Validation Accuracy: 95.89545440673828, Validation AUC: 88.94692993164062\n"
     ]
    },
    {
     "name": "stderr",
     "output_type": "stream",
     "text": [
      "Epoch: 37: 100%|██████████| 69/69 [00:10<00:00,  6.62it/s]\n"
     ]
    },
    {
     "name": "stdout",
     "output_type": "stream",
     "text": [
      "Loss: 0.07866783440113068, Accuracy: 97.15583038330078, AUC: 91.28895568847656, Validation Loss: 0.12033437192440033, Validation Accuracy: 95.67232513427734, Validation AUC: 87.87255859375\n"
     ]
    },
    {
     "name": "stderr",
     "output_type": "stream",
     "text": [
      "Epoch: 38: 100%|██████████| 69/69 [00:10<00:00,  6.61it/s]\n"
     ]
    },
    {
     "name": "stdout",
     "output_type": "stream",
     "text": [
      "Loss: 0.07470939308404922, Accuracy: 97.26422882080078, AUC: 91.49551391601562, Validation Loss: 0.10616325587034225, Validation Accuracy: 96.10774993896484, Validation AUC: 87.18453979492188\n"
     ]
    },
    {
     "name": "stderr",
     "output_type": "stream",
     "text": [
      "Epoch: 39: 100%|██████████| 69/69 [00:10<00:00,  6.63it/s]\n"
     ]
    },
    {
     "name": "stdout",
     "output_type": "stream",
     "text": [
      "Loss: 0.0734630823135376, Accuracy: 97.30071258544922, AUC: 92.02685546875, Validation Loss: 0.10938940942287445, Validation Accuracy: 95.99249267578125, Validation AUC: 88.53520202636719\n"
     ]
    },
    {
     "name": "stderr",
     "output_type": "stream",
     "text": [
      "Epoch: 40: 100%|██████████| 69/69 [00:10<00:00,  6.62it/s]\n"
     ]
    },
    {
     "name": "stdout",
     "output_type": "stream",
     "text": [
      "Loss: 0.07429274171590805, Accuracy: 97.28213500976562, AUC: 91.77128601074219, Validation Loss: 0.13322336971759796, Validation Accuracy: 95.23246765136719, Validation AUC: 87.76484680175781\n"
     ]
    },
    {
     "name": "stderr",
     "output_type": "stream",
     "text": [
      "Epoch: 41: 100%|██████████| 69/69 [00:10<00:00,  6.65it/s]\n"
     ]
    },
    {
     "name": "stdout",
     "output_type": "stream",
     "text": [
      "Loss: 0.07360478490591049, Accuracy: 97.34819030761719, AUC: 91.96324157714844, Validation Loss: 0.1214972585439682, Validation Accuracy: 95.54524230957031, Validation AUC: 87.86128997802734\n"
     ]
    },
    {
     "name": "stderr",
     "output_type": "stream",
     "text": [
      "Epoch: 42: 100%|██████████| 69/69 [00:10<00:00,  6.61it/s]\n"
     ]
    },
    {
     "name": "stdout",
     "output_type": "stream",
     "text": [
      "Loss: 0.07473444938659668, Accuracy: 97.26818084716797, AUC: 91.49279022216797, Validation Loss: 0.12219541519880295, Validation Accuracy: 95.45362854003906, Validation AUC: 88.43156433105469\n"
     ]
    },
    {
     "name": "stderr",
     "output_type": "stream",
     "text": [
      "Epoch: 43: 100%|██████████| 69/69 [00:10<00:00,  6.65it/s]\n"
     ]
    },
    {
     "name": "stdout",
     "output_type": "stream",
     "text": [
      "Loss: 0.07141578942537308, Accuracy: 97.39312744140625, AUC: 92.02323913574219, Validation Loss: 0.11496244370937347, Validation Accuracy: 95.86540985107422, Validation AUC: 88.154541015625\n"
     ]
    },
    {
     "name": "stderr",
     "output_type": "stream",
     "text": [
      "Epoch: 44: 100%|██████████| 69/69 [00:10<00:00,  6.61it/s]\n"
     ]
    },
    {
     "name": "stdout",
     "output_type": "stream",
     "text": [
      "Loss: 0.07159112393856049, Accuracy: 97.38423919677734, AUC: 91.83600616455078, Validation Loss: 0.12081699818372726, Validation Accuracy: 95.6230697631836, Validation AUC: 88.59632110595703\n"
     ]
    },
    {
     "name": "stderr",
     "output_type": "stream",
     "text": [
      "Epoch: 45: 100%|██████████| 69/69 [00:10<00:00,  6.59it/s]\n"
     ]
    },
    {
     "name": "stdout",
     "output_type": "stream",
     "text": [
      "Loss: 0.06906802207231522, Accuracy: 97.50029754638672, AUC: 92.49625396728516, Validation Loss: 0.12258003652095795, Validation Accuracy: 95.55903625488281, Validation AUC: 87.41197204589844\n"
     ]
    },
    {
     "name": "stderr",
     "output_type": "stream",
     "text": [
      "Epoch: 46: 100%|██████████| 69/69 [00:10<00:00,  6.64it/s]\n"
     ]
    },
    {
     "name": "stdout",
     "output_type": "stream",
     "text": [
      "Loss: 0.07116236537694931, Accuracy: 97.3870849609375, AUC: 92.44457244873047, Validation Loss: 0.1147376149892807, Validation Accuracy: 95.82305145263672, Validation AUC: 88.09327697753906\n"
     ]
    },
    {
     "name": "stderr",
     "output_type": "stream",
     "text": [
      "Epoch: 47: 100%|██████████| 69/69 [00:10<00:00,  6.63it/s]\n"
     ]
    },
    {
     "name": "stdout",
     "output_type": "stream",
     "text": [
      "Loss: 0.07335219532251358, Accuracy: 97.34886932373047, AUC: 92.54930877685547, Validation Loss: 0.13849784433841705, Validation Accuracy: 94.88865661621094, Validation AUC: 88.40626525878906\n"
     ]
    },
    {
     "name": "stderr",
     "output_type": "stream",
     "text": [
      "Epoch: 48: 100%|██████████| 69/69 [00:10<00:00,  6.67it/s]\n"
     ]
    },
    {
     "name": "stdout",
     "output_type": "stream",
     "text": [
      "Loss: 0.06959328800439835, Accuracy: 97.43541717529297, AUC: 92.64957427978516, Validation Loss: 0.11703631281852722, Validation Accuracy: 95.77576446533203, Validation AUC: 88.42742156982422\n"
     ]
    },
    {
     "name": "stderr",
     "output_type": "stream",
     "text": [
      "Epoch: 49: 100%|██████████| 69/69 [00:10<00:00,  6.66it/s]\n"
     ]
    },
    {
     "name": "stdout",
     "output_type": "stream",
     "text": [
      "Loss: 0.06754991412162781, Accuracy: 97.54752349853516, AUC: 92.92326354980469, Validation Loss: 0.11822661757469177, Validation Accuracy: 95.79989624023438, Validation AUC: 87.3236083984375\n"
     ]
    },
    {
     "name": "stderr",
     "output_type": "stream",
     "text": [
      "Epoch: 0: 100%|██████████| 69/69 [00:20<00:00,  3.44it/s]\n"
     ]
    },
    {
     "name": "stdout",
     "output_type": "stream",
     "text": [
      "Saving new best model with AUC: 0.7200785875320435\n",
      "Loss: 0.2732824385166168, Accuracy: 89.86032104492188, AUC: 62.65931701660156, Validation Loss: 0.2272799015045166, Validation Accuracy: 92.87702178955078, Validation AUC: 72.00785827636719\n"
     ]
    },
    {
     "name": "stderr",
     "output_type": "stream",
     "text": [
      "Epoch: 1: 100%|██████████| 69/69 [00:10<00:00,  6.57it/s]\n"
     ]
    },
    {
     "name": "stdout",
     "output_type": "stream",
     "text": [
      "Saving new best model with AUC: 0.801375687122345\n",
      "Loss: 0.14069056510925293, Accuracy: 95.0581283569336, AUC: 79.18995666503906, Validation Loss: 0.15651683509349823, Validation Accuracy: 94.82954406738281, Validation AUC: 80.13756561279297\n"
     ]
    },
    {
     "name": "stderr",
     "output_type": "stream",
     "text": [
      "Epoch: 2: 100%|██████████| 69/69 [00:10<00:00,  6.65it/s]\n"
     ]
    },
    {
     "name": "stdout",
     "output_type": "stream",
     "text": [
      "Loss: 0.12452301383018494, Accuracy: 95.57527160644531, AUC: 82.34730529785156, Validation Loss: 0.17624904215335846, Validation Accuracy: 93.27698516845703, Validation AUC: 80.04187774658203\n"
     ]
    },
    {
     "name": "stderr",
     "output_type": "stream",
     "text": [
      "Epoch: 3: 100%|██████████| 69/69 [00:10<00:00,  6.68it/s]\n"
     ]
    },
    {
     "name": "stdout",
     "output_type": "stream",
     "text": [
      "Saving new best model with AUC: 0.8227609395980835\n",
      "Loss: 0.11656937748193741, Accuracy: 95.81893920898438, AUC: 83.41879272460938, Validation Loss: 0.1403025984764099, Validation Accuracy: 94.59854125976562, Validation AUC: 82.27609252929688\n"
     ]
    },
    {
     "name": "stderr",
     "output_type": "stream",
     "text": [
      "Epoch: 4: 100%|██████████| 69/69 [00:10<00:00,  6.64it/s]\n"
     ]
    },
    {
     "name": "stdout",
     "output_type": "stream",
     "text": [
      "Saving new best model with AUC: 0.8253339529037476\n",
      "Loss: 0.11158247292041779, Accuracy: 95.99771118164062, AUC: 84.48464965820312, Validation Loss: 0.1324273943901062, Validation Accuracy: 95.33491516113281, Validation AUC: 82.53339385986328\n"
     ]
    },
    {
     "name": "stderr",
     "output_type": "stream",
     "text": [
      "Epoch: 5: 100%|██████████| 69/69 [00:10<00:00,  6.67it/s]\n"
     ]
    },
    {
     "name": "stdout",
     "output_type": "stream",
     "text": [
      "Loss: 0.10719113051891327, Accuracy: 96.11408233642578, AUC: 85.488525390625, Validation Loss: 0.122861847281456, Validation Accuracy: 95.55903625488281, Validation AUC: 82.0114517211914\n"
     ]
    },
    {
     "name": "stderr",
     "output_type": "stream",
     "text": [
      "Epoch: 6: 100%|██████████| 69/69 [00:10<00:00,  6.64it/s]\n"
     ]
    },
    {
     "name": "stdout",
     "output_type": "stream",
     "text": [
      "Saving new best model with AUC: 0.8307245969772339\n",
      "Loss: 0.10423070192337036, Accuracy: 96.2159423828125, AUC: 86.1325454711914, Validation Loss: 0.13524599373340607, Validation Accuracy: 94.90047454833984, Validation AUC: 83.07245635986328\n"
     ]
    },
    {
     "name": "stderr",
     "output_type": "stream",
     "text": [
      "Epoch: 7: 100%|██████████| 69/69 [00:10<00:00,  6.65it/s]\n"
     ]
    },
    {
     "name": "stdout",
     "output_type": "stream",
     "text": [
      "Loss: 0.10245710611343384, Accuracy: 96.28193664550781, AUC: 85.97557830810547, Validation Loss: 0.11709363013505936, Validation Accuracy: 95.74079895019531, Validation AUC: 83.00615692138672\n"
     ]
    },
    {
     "name": "stderr",
     "output_type": "stream",
     "text": [
      "Epoch: 8: 100%|██████████| 69/69 [00:10<00:00,  6.65it/s]\n"
     ]
    },
    {
     "name": "stdout",
     "output_type": "stream",
     "text": [
      "Saving new best model with AUC: 0.843971848487854\n",
      "Loss: 0.09985678642988205, Accuracy: 96.37854766845703, AUC: 86.46869659423828, Validation Loss: 0.11408782005310059, Validation Accuracy: 95.78068542480469, Validation AUC: 84.39718627929688\n"
     ]
    },
    {
     "name": "stderr",
     "output_type": "stream",
     "text": [
      "Epoch: 9: 100%|██████████| 69/69 [00:10<00:00,  6.67it/s]\n"
     ]
    },
    {
     "name": "stdout",
     "output_type": "stream",
     "text": [
      "Loss: 0.09783786535263062, Accuracy: 96.4300308227539, AUC: 87.15814208984375, Validation Loss: 0.11446433514356613, Validation Accuracy: 95.81369018554688, Validation AUC: 84.23716735839844\n"
     ]
    },
    {
     "name": "stderr",
     "output_type": "stream",
     "text": [
      "Epoch: 10: 100%|██████████| 69/69 [00:10<00:00,  6.66it/s]\n"
     ]
    },
    {
     "name": "stdout",
     "output_type": "stream",
     "text": [
      "Saving new best model with AUC: 0.8580963611602783\n",
      "Loss: 0.09552426636219025, Accuracy: 96.53861999511719, AUC: 87.96256256103516, Validation Loss: 0.10992996394634247, Validation Accuracy: 95.93338012695312, Validation AUC: 85.80963897705078\n"
     ]
    },
    {
     "name": "stderr",
     "output_type": "stream",
     "text": [
      "Epoch: 11: 100%|██████████| 69/69 [00:10<00:00,  6.66it/s]\n"
     ]
    },
    {
     "name": "stdout",
     "output_type": "stream",
     "text": [
      "Saving new best model with AUC: 0.8629804849624634\n",
      "Loss: 0.09595060348510742, Accuracy: 96.50664520263672, AUC: 87.7536849975586, Validation Loss: 0.11914370954036713, Validation Accuracy: 95.60779571533203, Validation AUC: 86.29804992675781\n"
     ]
    },
    {
     "name": "stderr",
     "output_type": "stream",
     "text": [
      "Epoch: 12: 100%|██████████| 69/69 [00:10<00:00,  6.66it/s]\n"
     ]
    },
    {
     "name": "stdout",
     "output_type": "stream",
     "text": [
      "Loss: 0.09595878422260284, Accuracy: 96.52725982666016, AUC: 87.57286834716797, Validation Loss: 0.1216495931148529, Validation Accuracy: 95.42801666259766, Validation AUC: 85.11048889160156\n"
     ]
    },
    {
     "name": "stderr",
     "output_type": "stream",
     "text": [
      "Epoch: 13: 100%|██████████| 69/69 [00:10<00:00,  6.65it/s]\n"
     ]
    },
    {
     "name": "stdout",
     "output_type": "stream",
     "text": [
      "Loss: 0.09312190860509872, Accuracy: 96.62782287597656, AUC: 88.49515533447266, Validation Loss: 0.118979811668396, Validation Accuracy: 95.5954818725586, Validation AUC: 85.8008041381836\n"
     ]
    },
    {
     "name": "stderr",
     "output_type": "stream",
     "text": [
      "Epoch: 14: 100%|██████████| 69/69 [00:10<00:00,  6.66it/s]\n"
     ]
    },
    {
     "name": "stdout",
     "output_type": "stream",
     "text": [
      "Loss: 0.09297729283571243, Accuracy: 96.61893463134766, AUC: 88.80452728271484, Validation Loss: 0.10770118236541748, Validation Accuracy: 96.1225357055664, Validation AUC: 85.8791732788086\n"
     ]
    },
    {
     "name": "stderr",
     "output_type": "stream",
     "text": [
      "Epoch: 15: 100%|██████████| 69/69 [00:10<00:00,  6.66it/s]\n"
     ]
    },
    {
     "name": "stdout",
     "output_type": "stream",
     "text": [
      "Saving new best model with AUC: 0.8654155731201172\n",
      "Loss: 0.09044068306684494, Accuracy: 96.69227600097656, AUC: 88.87329864501953, Validation Loss: 0.1389039158821106, Validation Accuracy: 94.70246124267578, Validation AUC: 86.54155731201172\n"
     ]
    },
    {
     "name": "stderr",
     "output_type": "stream",
     "text": [
      "Epoch: 16: 100%|██████████| 69/69 [00:10<00:00,  6.65it/s]\n"
     ]
    },
    {
     "name": "stdout",
     "output_type": "stream",
     "text": [
      "Saving new best model with AUC: 0.8677189946174622\n",
      "Loss: 0.0894484743475914, Accuracy: 96.7613525390625, AUC: 89.31298828125, Validation Loss: 0.10931828618049622, Validation Accuracy: 95.985595703125, Validation AUC: 86.77189636230469\n"
     ]
    },
    {
     "name": "stderr",
     "output_type": "stream",
     "text": [
      "Epoch: 17: 100%|██████████| 69/69 [00:10<00:00,  6.65it/s]\n"
     ]
    },
    {
     "name": "stdout",
     "output_type": "stream",
     "text": [
      "Loss: 0.08758734166622162, Accuracy: 96.81289672851562, AUC: 89.59143829345703, Validation Loss: 0.11804933100938797, Validation Accuracy: 95.63784790039062, Validation AUC: 85.94741821289062\n"
     ]
    },
    {
     "name": "stderr",
     "output_type": "stream",
     "text": [
      "Epoch: 18: 100%|██████████| 69/69 [00:10<00:00,  6.65it/s]\n"
     ]
    },
    {
     "name": "stdout",
     "output_type": "stream",
     "text": [
      "Loss: 0.08834626525640488, Accuracy: 96.82012176513672, AUC: 89.34867095947266, Validation Loss: 0.11868846416473389, Validation Accuracy: 95.6314468383789, Validation AUC: 85.85440063476562\n"
     ]
    },
    {
     "name": "stderr",
     "output_type": "stream",
     "text": [
      "Epoch: 19: 100%|██████████| 69/69 [00:10<00:00,  6.35it/s]\n"
     ]
    },
    {
     "name": "stdout",
     "output_type": "stream",
     "text": [
      "Saving new best model with AUC: 0.8797262907028198\n",
      "Loss: 0.08966436237096786, Accuracy: 96.73345184326172, AUC: 89.7997055053711, Validation Loss: 0.11624249070882797, Validation Accuracy: 95.75015258789062, Validation AUC: 87.97262573242188\n"
     ]
    },
    {
     "name": "stderr",
     "output_type": "stream",
     "text": [
      "Epoch: 20: 100%|██████████| 69/69 [00:10<00:00,  6.60it/s]\n"
     ]
    },
    {
     "name": "stdout",
     "output_type": "stream",
     "text": [
      "Loss: 0.08515023440122604, Accuracy: 96.8690185546875, AUC: 90.03836059570312, Validation Loss: 0.10849031805992126, Validation Accuracy: 96.06490325927734, Validation AUC: 86.52757263183594\n"
     ]
    },
    {
     "name": "stderr",
     "output_type": "stream",
     "text": [
      "Epoch: 21: 100%|██████████| 69/69 [00:10<00:00,  6.61it/s]\n"
     ]
    },
    {
     "name": "stdout",
     "output_type": "stream",
     "text": [
      "Loss: 0.0844646766781807, Accuracy: 96.92427062988281, AUC: 90.23712921142578, Validation Loss: 0.1122131496667862, Validation Accuracy: 95.9314193725586, Validation AUC: 87.34465026855469\n"
     ]
    },
    {
     "name": "stderr",
     "output_type": "stream",
     "text": [
      "Epoch: 22: 100%|██████████| 69/69 [00:10<00:00,  6.61it/s]\n"
     ]
    },
    {
     "name": "stdout",
     "output_type": "stream",
     "text": [
      "Loss: 0.08380156010389328, Accuracy: 96.93716430664062, AUC: 89.9898910522461, Validation Loss: 0.10755349695682526, Validation Accuracy: 96.0668716430664, Validation AUC: 87.3116683959961\n"
     ]
    },
    {
     "name": "stderr",
     "output_type": "stream",
     "text": [
      "Epoch: 23: 100%|██████████| 69/69 [00:10<00:00,  6.40it/s]\n"
     ]
    },
    {
     "name": "stdout",
     "output_type": "stream",
     "text": [
      "Loss: 0.08379031717777252, Accuracy: 96.92272186279297, AUC: 90.10508728027344, Validation Loss: 0.10465466976165771, Validation Accuracy: 96.14962005615234, Validation AUC: 85.13492584228516\n"
     ]
    },
    {
     "name": "stderr",
     "output_type": "stream",
     "text": [
      "Epoch: 24: 100%|██████████| 69/69 [00:11<00:00,  6.22it/s]\n"
     ]
    },
    {
     "name": "stdout",
     "output_type": "stream",
     "text": [
      "Loss: 0.08201530575752258, Accuracy: 96.99247741699219, AUC: 90.24577331542969, Validation Loss: 0.10768590122461319, Validation Accuracy: 96.06834411621094, Validation AUC: 87.30015563964844\n"
     ]
    },
    {
     "name": "stderr",
     "output_type": "stream",
     "text": [
      "Epoch: 25: 100%|██████████| 69/69 [00:11<00:00,  6.20it/s]\n"
     ]
    },
    {
     "name": "stdout",
     "output_type": "stream",
     "text": [
      "Loss: 0.08195500075817108, Accuracy: 97.01982879638672, AUC: 90.5125503540039, Validation Loss: 0.10591670870780945, Validation Accuracy: 96.15011596679688, Validation AUC: 87.62284088134766\n"
     ]
    },
    {
     "name": "stderr",
     "output_type": "stream",
     "text": [
      "Epoch: 26: 100%|██████████| 69/69 [00:11<00:00,  6.18it/s]\n"
     ]
    },
    {
     "name": "stdout",
     "output_type": "stream",
     "text": [
      "Loss: 0.08248104155063629, Accuracy: 96.97766876220703, AUC: 90.44864654541016, Validation Loss: 0.11487086862325668, Validation Accuracy: 95.79891204833984, Validation AUC: 87.41986846923828\n"
     ]
    },
    {
     "name": "stderr",
     "output_type": "stream",
     "text": [
      "Epoch: 27: 100%|██████████| 69/69 [00:11<00:00,  6.19it/s]\n"
     ]
    },
    {
     "name": "stdout",
     "output_type": "stream",
     "text": [
      "Loss: 0.07956794649362564, Accuracy: 97.08686828613281, AUC: 90.7349853515625, Validation Loss: 0.10938684642314911, Validation Accuracy: 96.06391906738281, Validation AUC: 86.73175811767578\n"
     ]
    },
    {
     "name": "stderr",
     "output_type": "stream",
     "text": [
      "Epoch: 28: 100%|██████████| 69/69 [00:11<00:00,  6.21it/s]\n"
     ]
    },
    {
     "name": "stdout",
     "output_type": "stream",
     "text": [
      "Saving new best model with AUC: 0.8824653029441833\n",
      "Loss: 0.07915422320365906, Accuracy: 97.12847900390625, AUC: 90.65432739257812, Validation Loss: 0.11765953153371811, Validation Accuracy: 95.61370849609375, Validation AUC: 88.24652862548828\n"
     ]
    },
    {
     "name": "stderr",
     "output_type": "stream",
     "text": [
      "Epoch: 29: 100%|██████████| 69/69 [00:10<00:00,  6.31it/s]\n"
     ]
    },
    {
     "name": "stdout",
     "output_type": "stream",
     "text": [
      "Saving new best model with AUC: 0.8852938413619995\n",
      "Loss: 0.07930314540863037, Accuracy: 97.10440826416016, AUC: 90.76422882080078, Validation Loss: 0.11056994646787643, Validation Accuracy: 95.96343231201172, Validation AUC: 88.52938079833984\n"
     ]
    },
    {
     "name": "stderr",
     "output_type": "stream",
     "text": [
      "Epoch: 30: 100%|██████████| 69/69 [00:10<00:00,  6.35it/s]\n"
     ]
    },
    {
     "name": "stdout",
     "output_type": "stream",
     "text": [
      "Loss: 0.0797523632645607, Accuracy: 97.08372497558594, AUC: 91.03025817871094, Validation Loss: 0.11489003151655197, Validation Accuracy: 96.11563873291016, Validation AUC: 85.60909271240234\n"
     ]
    },
    {
     "name": "stderr",
     "output_type": "stream",
     "text": [
      "Epoch: 31: 100%|██████████| 69/69 [00:11<00:00,  6.26it/s]\n"
     ]
    },
    {
     "name": "stdout",
     "output_type": "stream",
     "text": [
      "Loss: 0.08050724864006042, Accuracy: 97.06600952148438, AUC: 91.05280303955078, Validation Loss: 0.11869748681783676, Validation Accuracy: 95.57233428955078, Validation AUC: 88.21028900146484\n"
     ]
    },
    {
     "name": "stderr",
     "output_type": "stream",
     "text": [
      "Epoch: 32: 100%|██████████| 69/69 [00:11<00:00,  6.24it/s]\n"
     ]
    },
    {
     "name": "stdout",
     "output_type": "stream",
     "text": [
      "Loss: 0.07640819996595383, Accuracy: 97.19570922851562, AUC: 91.51299285888672, Validation Loss: 0.13677898049354553, Validation Accuracy: 94.89851379394531, Validation AUC: 87.0535659790039\n"
     ]
    },
    {
     "name": "stderr",
     "output_type": "stream",
     "text": [
      "Epoch: 33: 100%|██████████| 69/69 [00:10<00:00,  6.32it/s]\n"
     ]
    },
    {
     "name": "stdout",
     "output_type": "stream",
     "text": [
      "Loss: 0.07732555270195007, Accuracy: 97.19237518310547, AUC: 91.61904907226562, Validation Loss: 0.12835776805877686, Validation Accuracy: 95.29896545410156, Validation AUC: 87.44033813476562\n"
     ]
    },
    {
     "name": "stderr",
     "output_type": "stream",
     "text": [
      "Epoch: 34: 100%|██████████| 69/69 [00:10<00:00,  6.28it/s]\n"
     ]
    },
    {
     "name": "stdout",
     "output_type": "stream",
     "text": [
      "Saving new best model with AUC: 0.8859812617301941\n",
      "Loss: 0.08094031363725662, Accuracy: 97.03297424316406, AUC: 90.77059936523438, Validation Loss: 0.10770916193723679, Validation Accuracy: 96.09297180175781, Validation AUC: 88.59812927246094\n"
     ]
    },
    {
     "name": "stderr",
     "output_type": "stream",
     "text": [
      "Epoch: 35: 100%|██████████| 69/69 [00:10<00:00,  6.32it/s]\n"
     ]
    },
    {
     "name": "stdout",
     "output_type": "stream",
     "text": [
      "Loss: 0.07588207721710205, Accuracy: 97.2597885131836, AUC: 91.71250915527344, Validation Loss: 0.110835961997509, Validation Accuracy: 95.90875244140625, Validation AUC: 87.89160919189453\n"
     ]
    },
    {
     "name": "stderr",
     "output_type": "stream",
     "text": [
      "Epoch: 36: 100%|██████████| 69/69 [00:11<00:00,  6.25it/s]\n"
     ]
    },
    {
     "name": "stdout",
     "output_type": "stream",
     "text": [
      "Loss: 0.0730256587266922, Accuracy: 97.32572174072266, AUC: 91.77069091796875, Validation Loss: 0.11010167002677917, Validation Accuracy: 96.10726165771484, Validation AUC: 87.59138488769531\n"
     ]
    },
    {
     "name": "stderr",
     "output_type": "stream",
     "text": [
      "Epoch: 37: 100%|██████████| 69/69 [00:11<00:00,  6.20it/s]\n"
     ]
    },
    {
     "name": "stdout",
     "output_type": "stream",
     "text": [
      "Loss: 0.07081971317529678, Accuracy: 97.41566467285156, AUC: 92.39789581298828, Validation Loss: 0.11551162600517273, Validation Accuracy: 95.85260772705078, Validation AUC: 88.13369750976562\n"
     ]
    },
    {
     "name": "stderr",
     "output_type": "stream",
     "text": [
      "Epoch: 38: 100%|██████████| 69/69 [00:11<00:00,  6.22it/s]\n"
     ]
    },
    {
     "name": "stdout",
     "output_type": "stream",
     "text": [
      "Loss: 0.07773181796073914, Accuracy: 97.12372589111328, AUC: 91.4547348022461, Validation Loss: 0.11494053900241852, Validation Accuracy: 95.73635864257812, Validation AUC: 88.25252532958984\n"
     ]
    },
    {
     "name": "stderr",
     "output_type": "stream",
     "text": [
      "Epoch: 39: 100%|██████████| 69/69 [00:10<00:00,  6.29it/s]\n"
     ]
    },
    {
     "name": "stdout",
     "output_type": "stream",
     "text": [
      "Loss: 0.07202587276697159, Accuracy: 97.36380767822266, AUC: 92.34980010986328, Validation Loss: 0.11594592034816742, Validation Accuracy: 95.66937255859375, Validation AUC: 87.5279312133789\n"
     ]
    },
    {
     "name": "stderr",
     "output_type": "stream",
     "text": [
      "Epoch: 40: 100%|██████████| 69/69 [00:11<00:00,  6.23it/s]\n"
     ]
    },
    {
     "name": "stdout",
     "output_type": "stream",
     "text": [
      "Loss: 0.07186630368232727, Accuracy: 97.38090515136719, AUC: 92.07377624511719, Validation Loss: 0.10831886529922485, Validation Accuracy: 96.14321899414062, Validation AUC: 87.85110473632812\n"
     ]
    },
    {
     "name": "stderr",
     "output_type": "stream",
     "text": [
      "Epoch: 41: 100%|██████████| 69/69 [00:11<00:00,  6.25it/s]\n"
     ]
    },
    {
     "name": "stdout",
     "output_type": "stream",
     "text": [
      "Loss: 0.06940553337335587, Accuracy: 97.47757720947266, AUC: 92.73641967773438, Validation Loss: 0.11448656022548676, Validation Accuracy: 95.84571075439453, Validation AUC: 87.06233215332031\n"
     ]
    },
    {
     "name": "stderr",
     "output_type": "stream",
     "text": [
      "Epoch: 42: 100%|██████████| 69/69 [00:11<00:00,  6.25it/s]\n"
     ]
    },
    {
     "name": "stdout",
     "output_type": "stream",
     "text": [
      "Loss: 0.07498537003993988, Accuracy: 97.31157684326172, AUC: 92.18663024902344, Validation Loss: 0.1274932324886322, Validation Accuracy: 95.66099548339844, Validation AUC: 87.4092788696289\n"
     ]
    },
    {
     "name": "stderr",
     "output_type": "stream",
     "text": [
      "Epoch: 43: 100%|██████████| 69/69 [00:11<00:00,  6.27it/s]\n"
     ]
    },
    {
     "name": "stdout",
     "output_type": "stream",
     "text": [
      "Loss: 0.07390497624874115, Accuracy: 97.28195190429688, AUC: 92.78143310546875, Validation Loss: 0.11050689965486526, Validation Accuracy: 95.96786499023438, Validation AUC: 87.80809783935547\n"
     ]
    },
    {
     "name": "stderr",
     "output_type": "stream",
     "text": [
      "Epoch: 44: 100%|██████████| 69/69 [00:10<00:00,  6.30it/s]\n"
     ]
    },
    {
     "name": "stdout",
     "output_type": "stream",
     "text": [
      "Loss: 0.07247857749462128, Accuracy: 97.38152313232422, AUC: 92.39431762695312, Validation Loss: 0.12509512901306152, Validation Accuracy: 95.45066833496094, Validation AUC: 87.81482696533203\n"
     ]
    },
    {
     "name": "stderr",
     "output_type": "stream",
     "text": [
      "Epoch: 45: 100%|██████████| 69/69 [00:11<00:00,  6.23it/s]\n"
     ]
    },
    {
     "name": "stdout",
     "output_type": "stream",
     "text": [
      "Loss: 0.07288545370101929, Accuracy: 97.35652160644531, AUC: 92.6925277709961, Validation Loss: 0.11171010136604309, Validation Accuracy: 96.05160522460938, Validation AUC: 88.19952392578125\n"
     ]
    },
    {
     "name": "stderr",
     "output_type": "stream",
     "text": [
      "Epoch: 46: 100%|██████████| 69/69 [00:10<00:00,  6.35it/s]\n"
     ]
    },
    {
     "name": "stdout",
     "output_type": "stream",
     "text": [
      "Loss: 0.07753466069698334, Accuracy: 97.14168548583984, AUC: 91.73161315917969, Validation Loss: 0.11536700278520584, Validation Accuracy: 95.96934509277344, Validation AUC: 87.59413146972656\n"
     ]
    },
    {
     "name": "stderr",
     "output_type": "stream",
     "text": [
      "Epoch: 47: 100%|██████████| 69/69 [00:11<00:00,  6.24it/s]\n"
     ]
    },
    {
     "name": "stdout",
     "output_type": "stream",
     "text": [
      "Loss: 0.07055208086967468, Accuracy: 97.4444351196289, AUC: 93.15168762207031, Validation Loss: 0.10792074352502823, Validation Accuracy: 96.02106475830078, Validation AUC: 87.62462615966797\n"
     ]
    },
    {
     "name": "stderr",
     "output_type": "stream",
     "text": [
      "Epoch: 48: 100%|██████████| 69/69 [00:11<00:00,  6.15it/s]\n"
     ]
    },
    {
     "name": "stdout",
     "output_type": "stream",
     "text": [
      "Loss: 0.07212813943624496, Accuracy: 97.38226318359375, AUC: 92.94961547851562, Validation Loss: 0.12013226002454758, Validation Accuracy: 95.6092758178711, Validation AUC: 87.63584899902344\n"
     ]
    },
    {
     "name": "stderr",
     "output_type": "stream",
     "text": [
      "Epoch: 49: 100%|██████████| 69/69 [00:11<00:00,  6.21it/s]\n"
     ]
    },
    {
     "name": "stdout",
     "output_type": "stream",
     "text": [
      "Loss: 0.06698650866746902, Accuracy: 97.54338836669922, AUC: 93.08003997802734, Validation Loss: 0.11454860121011734, Validation Accuracy: 95.98411560058594, Validation AUC: 88.41265106201172\n"
     ]
    },
    {
     "name": "stderr",
     "output_type": "stream",
     "text": [
      "Epoch: 0: 100%|██████████| 69/69 [00:27<00:00,  2.55it/s]\n"
     ]
    },
    {
     "name": "stdout",
     "output_type": "stream",
     "text": [
      "Saving new best model with AUC: 0.7344855070114136\n",
      "Loss: 0.25893068313598633, Accuracy: 90.737548828125, AUC: 63.88024139404297, Validation Loss: 0.2297622561454773, Validation Accuracy: 92.83515167236328, Validation AUC: 73.44854736328125\n"
     ]
    },
    {
     "name": "stderr",
     "output_type": "stream",
     "text": [
      "Epoch: 1: 100%|██████████| 69/69 [00:11<00:00,  6.21it/s]\n"
     ]
    },
    {
     "name": "stdout",
     "output_type": "stream",
     "text": [
      "Saving new best model with AUC: 0.8039677739143372\n",
      "Loss: 0.13723354041576385, Accuracy: 95.1939468383789, AUC: 77.92131805419922, Validation Loss: 0.14628088474273682, Validation Accuracy: 95.11178588867188, Validation AUC: 80.39677429199219\n"
     ]
    },
    {
     "name": "stderr",
     "output_type": "stream",
     "text": [
      "Epoch: 2: 100%|██████████| 69/69 [00:11<00:00,  6.15it/s]\n"
     ]
    },
    {
     "name": "stdout",
     "output_type": "stream",
     "text": [
      "Saving new best model with AUC: 0.8120755553245544\n",
      "Loss: 0.12192120403051376, Accuracy: 95.644287109375, AUC: 81.97514343261719, Validation Loss: 0.1344425231218338, Validation Accuracy: 95.47579193115234, Validation AUC: 81.20755767822266\n"
     ]
    },
    {
     "name": "stderr",
     "output_type": "stream",
     "text": [
      "Epoch: 3: 100%|██████████| 69/69 [00:11<00:00,  6.24it/s]\n"
     ]
    },
    {
     "name": "stdout",
     "output_type": "stream",
     "text": [
      "Saving new best model with AUC: 0.8220857977867126\n",
      "Loss: 0.11443015933036804, Accuracy: 95.87757873535156, AUC: 83.8316650390625, Validation Loss: 0.12521839141845703, Validation Accuracy: 95.4945068359375, Validation AUC: 82.20858001708984\n"
     ]
    },
    {
     "name": "stderr",
     "output_type": "stream",
     "text": [
      "Epoch: 4: 100%|██████████| 69/69 [00:11<00:00,  6.20it/s]\n"
     ]
    },
    {
     "name": "stdout",
     "output_type": "stream",
     "text": [
      "Saving new best model with AUC: 0.8277570009231567\n",
      "Loss: 0.11168655753135681, Accuracy: 95.9835205078125, AUC: 83.72981262207031, Validation Loss: 0.13345205783843994, Validation Accuracy: 94.99751281738281, Validation AUC: 82.77570343017578\n"
     ]
    },
    {
     "name": "stderr",
     "output_type": "stream",
     "text": [
      "Epoch: 5: 100%|██████████| 69/69 [00:11<00:00,  6.16it/s]\n"
     ]
    },
    {
     "name": "stdout",
     "output_type": "stream",
     "text": [
      "Saving new best model with AUC: 0.8427374362945557\n",
      "Loss: 0.10784652084112167, Accuracy: 96.12259674072266, AUC: 84.78398132324219, Validation Loss: 0.11859060823917389, Validation Accuracy: 95.77872467041016, Validation AUC: 84.27374267578125\n"
     ]
    },
    {
     "name": "stderr",
     "output_type": "stream",
     "text": [
      "Epoch: 6: 100%|██████████| 69/69 [00:11<00:00,  6.14it/s]\n"
     ]
    },
    {
     "name": "stdout",
     "output_type": "stream",
     "text": [
      "Loss: 0.10390938073396683, Accuracy: 96.22828674316406, AUC: 85.78693389892578, Validation Loss: 0.13233596086502075, Validation Accuracy: 95.01278686523438, Validation AUC: 83.0918197631836\n"
     ]
    },
    {
     "name": "stderr",
     "output_type": "stream",
     "text": [
      "Epoch: 7: 100%|██████████| 69/69 [00:11<00:00,  6.18it/s]\n"
     ]
    },
    {
     "name": "stdout",
     "output_type": "stream",
     "text": [
      "Saving new best model with AUC: 0.8447054624557495\n",
      "Loss: 0.10123073309659958, Accuracy: 96.30033111572266, AUC: 86.82349395751953, Validation Loss: 0.1128765344619751, Validation Accuracy: 95.84817504882812, Validation AUC: 84.47054290771484\n"
     ]
    },
    {
     "name": "stderr",
     "output_type": "stream",
     "text": [
      "Epoch: 8: 100%|██████████| 69/69 [00:11<00:00,  6.18it/s]\n"
     ]
    },
    {
     "name": "stdout",
     "output_type": "stream",
     "text": [
      "Saving new best model with AUC: 0.8527436852455139\n",
      "Loss: 0.09762773662805557, Accuracy: 96.4483642578125, AUC: 86.67254638671875, Validation Loss: 0.11811898648738861, Validation Accuracy: 95.63932800292969, Validation AUC: 85.27436828613281\n"
     ]
    },
    {
     "name": "stderr",
     "output_type": "stream",
     "text": [
      "Epoch: 9: 100%|██████████| 69/69 [00:11<00:00,  6.17it/s]\n"
     ]
    },
    {
     "name": "stdout",
     "output_type": "stream",
     "text": [
      "Loss: 0.09825281798839569, Accuracy: 96.42188262939453, AUC: 86.9476089477539, Validation Loss: 0.11413057893514633, Validation Accuracy: 95.83979797363281, Validation AUC: 83.67854309082031\n"
     ]
    },
    {
     "name": "stderr",
     "output_type": "stream",
     "text": [
      "Epoch: 10: 100%|██████████| 69/69 [00:11<00:00,  6.19it/s]\n"
     ]
    },
    {
     "name": "stdout",
     "output_type": "stream",
     "text": [
      "Loss: 0.0957053005695343, Accuracy: 96.5199203491211, AUC: 87.45025634765625, Validation Loss: 0.11783415824174881, Validation Accuracy: 95.58908081054688, Validation AUC: 85.24443817138672\n"
     ]
    },
    {
     "name": "stderr",
     "output_type": "stream",
     "text": [
      "Epoch: 11: 100%|██████████| 69/69 [00:11<00:00,  6.22it/s]\n"
     ]
    },
    {
     "name": "stdout",
     "output_type": "stream",
     "text": [
      "Saving new best model with AUC: 0.8608736991882324\n",
      "Loss: 0.09482156485319138, Accuracy: 96.5888671875, AUC: 87.47640991210938, Validation Loss: 0.11173021793365479, Validation Accuracy: 95.86984252929688, Validation AUC: 86.08737182617188\n"
     ]
    },
    {
     "name": "stderr",
     "output_type": "stream",
     "text": [
      "Epoch: 12: 100%|██████████| 69/69 [00:11<00:00,  6.16it/s]\n"
     ]
    },
    {
     "name": "stdout",
     "output_type": "stream",
     "text": [
      "Loss: 0.09250970184803009, Accuracy: 96.63485717773438, AUC: 88.0295639038086, Validation Loss: 0.12460280954837799, Validation Accuracy: 95.38072967529297, Validation AUC: 85.80642700195312\n"
     ]
    },
    {
     "name": "stderr",
     "output_type": "stream",
     "text": [
      "Epoch: 13: 100%|██████████| 69/69 [00:11<00:00,  6.13it/s]\n"
     ]
    },
    {
     "name": "stdout",
     "output_type": "stream",
     "text": [
      "Loss: 0.09023028612136841, Accuracy: 96.67337799072266, AUC: 88.49848175048828, Validation Loss: 0.11450852453708649, Validation Accuracy: 95.75951385498047, Validation AUC: 84.30559539794922\n"
     ]
    },
    {
     "name": "stderr",
     "output_type": "stream",
     "text": [
      "Epoch: 14: 100%|██████████| 69/69 [00:11<00:00,  6.17it/s]\n"
     ]
    },
    {
     "name": "stdout",
     "output_type": "stream",
     "text": [
      "Loss: 0.09209532290697098, Accuracy: 96.6456069946289, AUC: 88.3803939819336, Validation Loss: 0.11070239543914795, Validation Accuracy: 95.90531158447266, Validation AUC: 84.39659118652344\n"
     ]
    },
    {
     "name": "stderr",
     "output_type": "stream",
     "text": [
      "Epoch: 15: 100%|██████████| 69/69 [00:11<00:00,  6.15it/s]\n"
     ]
    },
    {
     "name": "stdout",
     "output_type": "stream",
     "text": [
      "Saving new best model with AUC: 0.8798077702522278\n",
      "Loss: 0.09049172699451447, Accuracy: 96.6765365600586, AUC: 88.61175537109375, Validation Loss: 0.10904747992753983, Validation Accuracy: 95.98362731933594, Validation AUC: 87.98077392578125\n"
     ]
    },
    {
     "name": "stderr",
     "output_type": "stream",
     "text": [
      "Epoch: 16: 100%|██████████| 69/69 [00:11<00:00,  6.24it/s]\n"
     ]
    },
    {
     "name": "stdout",
     "output_type": "stream",
     "text": [
      "Loss: 0.08921537548303604, Accuracy: 96.72894287109375, AUC: 88.64556121826172, Validation Loss: 0.11384125798940659, Validation Accuracy: 95.79842376708984, Validation AUC: 86.96522521972656\n"
     ]
    },
    {
     "name": "stderr",
     "output_type": "stream",
     "text": [
      "Epoch: 17: 100%|██████████| 69/69 [00:11<00:00,  6.14it/s]\n"
     ]
    },
    {
     "name": "stdout",
     "output_type": "stream",
     "text": [
      "Loss: 0.08690571784973145, Accuracy: 96.83525085449219, AUC: 89.03001403808594, Validation Loss: 0.13373616337776184, Validation Accuracy: 95.01031494140625, Validation AUC: 86.21652221679688\n"
     ]
    },
    {
     "name": "stderr",
     "output_type": "stream",
     "text": [
      "Epoch: 18: 100%|██████████| 69/69 [00:11<00:00,  6.16it/s]\n"
     ]
    },
    {
     "name": "stdout",
     "output_type": "stream",
     "text": [
      "Loss: 0.08780629932880402, Accuracy: 96.77542877197266, AUC: 89.18465423583984, Validation Loss: 0.11064203083515167, Validation Accuracy: 95.93042755126953, Validation AUC: 86.06825256347656\n"
     ]
    },
    {
     "name": "stderr",
     "output_type": "stream",
     "text": [
      "Epoch: 19: 100%|██████████| 69/69 [00:11<00:00,  6.15it/s]\n"
     ]
    },
    {
     "name": "stdout",
     "output_type": "stream",
     "text": [
      "Loss: 0.08673303574323654, Accuracy: 96.81443786621094, AUC: 89.47594451904297, Validation Loss: 0.11491240561008453, Validation Accuracy: 95.78955841064453, Validation AUC: 86.3582992553711\n"
     ]
    },
    {
     "name": "stderr",
     "output_type": "stream",
     "text": [
      "Epoch: 20: 100%|██████████| 69/69 [00:11<00:00,  6.22it/s]\n"
     ]
    },
    {
     "name": "stdout",
     "output_type": "stream",
     "text": [
      "Loss: 0.08399655669927597, Accuracy: 96.9471664428711, AUC: 89.34831237792969, Validation Loss: 0.1077231764793396, Validation Accuracy: 95.98707580566406, Validation AUC: 86.86214447021484\n"
     ]
    },
    {
     "name": "stderr",
     "output_type": "stream",
     "text": [
      "Epoch: 21: 100%|██████████| 69/69 [00:11<00:00,  6.14it/s]\n"
     ]
    },
    {
     "name": "stdout",
     "output_type": "stream",
     "text": [
      "Loss: 0.0845969021320343, Accuracy: 96.96353149414062, AUC: 89.71383666992188, Validation Loss: 0.13169430196285248, Validation Accuracy: 95.0615463256836, Validation AUC: 86.01631927490234\n"
     ]
    },
    {
     "name": "stderr",
     "output_type": "stream",
     "text": [
      "Epoch: 22: 100%|██████████| 69/69 [00:11<00:00,  6.11it/s]\n"
     ]
    },
    {
     "name": "stdout",
     "output_type": "stream",
     "text": [
      "Loss: 0.08615788072347641, Accuracy: 96.8619155883789, AUC: 89.7032699584961, Validation Loss: 0.11758330464363098, Validation Accuracy: 95.67330932617188, Validation AUC: 85.39044952392578\n"
     ]
    },
    {
     "name": "stderr",
     "output_type": "stream",
     "text": [
      "Epoch: 23: 100%|██████████| 69/69 [00:11<00:00,  6.16it/s]\n"
     ]
    },
    {
     "name": "stdout",
     "output_type": "stream",
     "text": [
      "Loss: 0.08464434742927551, Accuracy: 96.90451049804688, AUC: 89.76612854003906, Validation Loss: 0.10994412004947662, Validation Accuracy: 96.00579071044922, Validation AUC: 85.8052749633789\n"
     ]
    },
    {
     "name": "stderr",
     "output_type": "stream",
     "text": [
      "Epoch: 24: 100%|██████████| 69/69 [00:11<00:00,  6.23it/s]\n"
     ]
    },
    {
     "name": "stdout",
     "output_type": "stream",
     "text": [
      "Loss: 0.08399977535009384, Accuracy: 96.9453125, AUC: 89.6015625, Validation Loss: 0.11349871754646301, Validation Accuracy: 95.76641082763672, Validation AUC: 87.53978729248047\n"
     ]
    },
    {
     "name": "stderr",
     "output_type": "stream",
     "text": [
      "Epoch: 25: 100%|██████████| 69/69 [00:11<00:00,  6.20it/s]\n"
     ]
    },
    {
     "name": "stdout",
     "output_type": "stream",
     "text": [
      "Loss: 0.08304012566804886, Accuracy: 96.9680404663086, AUC: 89.83169555664062, Validation Loss: 0.10582021623849869, Validation Accuracy: 96.10726165771484, Validation AUC: 86.71353149414062\n"
     ]
    },
    {
     "name": "stderr",
     "output_type": "stream",
     "text": [
      "Epoch: 26: 100%|██████████| 69/69 [00:11<00:00,  6.21it/s]\n"
     ]
    },
    {
     "name": "stdout",
     "output_type": "stream",
     "text": [
      "Loss: 0.08224409818649292, Accuracy: 97.01143646240234, AUC: 90.12129211425781, Validation Loss: 0.112296923995018, Validation Accuracy: 95.98707580566406, Validation AUC: 86.965087890625\n"
     ]
    },
    {
     "name": "stderr",
     "output_type": "stream",
     "text": [
      "Epoch: 27: 100%|██████████| 69/69 [00:21<00:00,  3.28it/s]\n"
     ]
    },
    {
     "name": "stdout",
     "output_type": "stream",
     "text": [
      "Loss: 0.08195438235998154, Accuracy: 97.01945495605469, AUC: 90.56269836425781, Validation Loss: 0.129728302359581, Validation Accuracy: 95.16498565673828, Validation AUC: 87.28753662109375\n"
     ]
    },
    {
     "name": "stderr",
     "output_type": "stream",
     "text": [
      "Epoch: 28: 100%|██████████| 69/69 [00:11<00:00,  6.21it/s]\n"
     ]
    },
    {
     "name": "stdout",
     "output_type": "stream",
     "text": [
      "Loss: 0.07981719821691513, Accuracy: 97.09600830078125, AUC: 90.38374328613281, Validation Loss: 0.10882345587015152, Validation Accuracy: 96.03485107421875, Validation AUC: 86.38311767578125\n"
     ]
    },
    {
     "name": "stderr",
     "output_type": "stream",
     "text": [
      "Epoch: 29: 100%|██████████| 69/69 [00:11<00:00,  6.16it/s]\n"
     ]
    },
    {
     "name": "stdout",
     "output_type": "stream",
     "text": [
      "Loss: 0.08059844374656677, Accuracy: 97.06964874267578, AUC: 90.49052429199219, Validation Loss: 0.10835171490907669, Validation Accuracy: 96.0304183959961, Validation AUC: 86.58843994140625\n"
     ]
    },
    {
     "name": "stderr",
     "output_type": "stream",
     "text": [
      "Epoch: 30: 100%|██████████| 69/69 [00:11<00:00,  6.22it/s]\n"
     ]
    },
    {
     "name": "stdout",
     "output_type": "stream",
     "text": [
      "Saving new best model with AUC: 0.8827481865882874\n",
      "Loss: 0.07753036171197891, Accuracy: 97.16836547851562, AUC: 90.97676086425781, Validation Loss: 0.1055656298995018, Validation Accuracy: 96.08411407470703, Validation AUC: 88.27481842041016\n"
     ]
    },
    {
     "name": "stderr",
     "output_type": "stream",
     "text": [
      "Epoch: 31: 100%|██████████| 69/69 [00:11<00:00,  6.18it/s]\n"
     ]
    },
    {
     "name": "stdout",
     "output_type": "stream",
     "text": [
      "Saving new best model with AUC: 0.8883808255195618\n",
      "Loss: 0.07758793979883194, Accuracy: 97.1572494506836, AUC: 90.99020385742188, Validation Loss: 0.10873626172542572, Validation Accuracy: 96.0860824584961, Validation AUC: 88.83808135986328\n"
     ]
    },
    {
     "name": "stderr",
     "output_type": "stream",
     "text": [
      "Epoch: 32: 100%|██████████| 69/69 [00:11<00:00,  6.18it/s]\n"
     ]
    },
    {
     "name": "stdout",
     "output_type": "stream",
     "text": [
      "Loss: 0.07758140563964844, Accuracy: 97.15157318115234, AUC: 90.76215362548828, Validation Loss: 0.1104186400771141, Validation Accuracy: 96.02204895019531, Validation AUC: 88.51319122314453\n"
     ]
    },
    {
     "name": "stderr",
     "output_type": "stream",
     "text": [
      "Epoch: 33: 100%|██████████| 69/69 [00:11<00:00,  6.15it/s]\n"
     ]
    },
    {
     "name": "stdout",
     "output_type": "stream",
     "text": [
      "Loss: 0.07651258260011673, Accuracy: 97.18860626220703, AUC: 91.40973663330078, Validation Loss: 0.11000502854585648, Validation Accuracy: 96.00677490234375, Validation AUC: 88.56039428710938\n"
     ]
    },
    {
     "name": "stderr",
     "output_type": "stream",
     "text": [
      "Epoch: 34: 100%|██████████| 69/69 [00:11<00:00,  6.16it/s]\n"
     ]
    },
    {
     "name": "stdout",
     "output_type": "stream",
     "text": [
      "Loss: 0.07570558041334152, Accuracy: 97.24633026123047, AUC: 91.00350189208984, Validation Loss: 0.11836756765842438, Validation Accuracy: 95.6230697631836, Validation AUC: 87.6969223022461\n"
     ]
    },
    {
     "name": "stderr",
     "output_type": "stream",
     "text": [
      "Epoch: 35: 100%|██████████| 69/69 [00:11<00:00,  6.21it/s]\n"
     ]
    },
    {
     "name": "stdout",
     "output_type": "stream",
     "text": [
      "Loss: 0.07537923008203506, Accuracy: 97.28225708007812, AUC: 91.7563705444336, Validation Loss: 0.11566204577684402, Validation Accuracy: 95.79940795898438, Validation AUC: 87.0865707397461\n"
     ]
    },
    {
     "name": "stderr",
     "output_type": "stream",
     "text": [
      "Epoch: 36: 100%|██████████| 69/69 [00:11<00:00,  6.16it/s]\n"
     ]
    },
    {
     "name": "stdout",
     "output_type": "stream",
     "text": [
      "Loss: 0.0769822970032692, Accuracy: 97.2182388305664, AUC: 91.21659851074219, Validation Loss: 0.11644712090492249, Validation Accuracy: 95.85507202148438, Validation AUC: 87.11516571044922\n"
     ]
    },
    {
     "name": "stderr",
     "output_type": "stream",
     "text": [
      "Epoch: 37: 100%|██████████| 69/69 [00:11<00:00,  6.25it/s]\n"
     ]
    },
    {
     "name": "stdout",
     "output_type": "stream",
     "text": [
      "Loss: 0.07222463190555573, Accuracy: 97.35078430175781, AUC: 92.08314514160156, Validation Loss: 0.10667110979557037, Validation Accuracy: 96.13287353515625, Validation AUC: 88.62580871582031\n"
     ]
    },
    {
     "name": "stderr",
     "output_type": "stream",
     "text": [
      "Epoch: 38: 100%|██████████| 69/69 [00:11<00:00,  6.24it/s]\n"
     ]
    },
    {
     "name": "stdout",
     "output_type": "stream",
     "text": [
      "Loss: 0.07233850657939911, Accuracy: 97.36819458007812, AUC: 92.06151580810547, Validation Loss: 0.12632513046264648, Validation Accuracy: 95.34280395507812, Validation AUC: 88.36170196533203\n"
     ]
    },
    {
     "name": "stderr",
     "output_type": "stream",
     "text": [
      "Epoch: 39: 100%|██████████| 69/69 [00:11<00:00,  6.14it/s]\n"
     ]
    },
    {
     "name": "stdout",
     "output_type": "stream",
     "text": [
      "Loss: 0.07520334422588348, Accuracy: 97.22706604003906, AUC: 92.3644790649414, Validation Loss: 0.1228046715259552, Validation Accuracy: 95.60877990722656, Validation AUC: 87.95983123779297\n"
     ]
    },
    {
     "name": "stderr",
     "output_type": "stream",
     "text": [
      "Epoch: 40: 100%|██████████| 69/69 [00:11<00:00,  6.17it/s]\n"
     ]
    },
    {
     "name": "stdout",
     "output_type": "stream",
     "text": [
      "Loss: 0.07176831364631653, Accuracy: 97.40251159667969, AUC: 92.49250793457031, Validation Loss: 0.11968525499105453, Validation Accuracy: 95.66937255859375, Validation AUC: 88.78607177734375\n"
     ]
    },
    {
     "name": "stderr",
     "output_type": "stream",
     "text": [
      "Epoch: 41: 100%|██████████| 69/69 [00:11<00:00,  6.01it/s]\n"
     ]
    },
    {
     "name": "stdout",
     "output_type": "stream",
     "text": [
      "Loss: 0.07233311235904694, Accuracy: 97.37152099609375, AUC: 92.33876037597656, Validation Loss: 0.1146431490778923, Validation Accuracy: 95.90875244140625, Validation AUC: 87.63973999023438\n"
     ]
    },
    {
     "name": "stderr",
     "output_type": "stream",
     "text": [
      "Epoch: 42: 100%|██████████| 69/69 [00:11<00:00,  6.13it/s]\n"
     ]
    },
    {
     "name": "stdout",
     "output_type": "stream",
     "text": [
      "Loss: 0.07064574211835861, Accuracy: 97.41214752197266, AUC: 92.57012939453125, Validation Loss: 0.11740399897098541, Validation Accuracy: 95.78561401367188, Validation AUC: 87.14059448242188\n"
     ]
    },
    {
     "name": "stderr",
     "output_type": "stream",
     "text": [
      "Epoch: 43: 100%|██████████| 69/69 [00:11<00:00,  6.17it/s]\n"
     ]
    },
    {
     "name": "stdout",
     "output_type": "stream",
     "text": [
      "Loss: 0.0704236850142479, Accuracy: 97.43473815917969, AUC: 92.45435333251953, Validation Loss: 0.1367032676935196, Validation Accuracy: 95.199462890625, Validation AUC: 86.13996887207031\n"
     ]
    },
    {
     "name": "stderr",
     "output_type": "stream",
     "text": [
      "Epoch: 44: 100%|██████████| 69/69 [00:11<00:00,  6.18it/s]\n"
     ]
    },
    {
     "name": "stdout",
     "output_type": "stream",
     "text": [
      "Loss: 0.07308941334486008, Accuracy: 97.3409652709961, AUC: 92.37126159667969, Validation Loss: 0.1392146199941635, Validation Accuracy: 94.79704284667969, Validation AUC: 88.08956146240234\n"
     ]
    },
    {
     "name": "stderr",
     "output_type": "stream",
     "text": [
      "Epoch: 45: 100%|██████████| 69/69 [00:11<00:00,  6.08it/s]\n"
     ]
    },
    {
     "name": "stdout",
     "output_type": "stream",
     "text": [
      "Loss: 0.06858803331851959, Accuracy: 97.50147247314453, AUC: 93.13137817382812, Validation Loss: 0.12420230358839035, Validation Accuracy: 95.5752944946289, Validation AUC: 88.31133270263672\n"
     ]
    },
    {
     "name": "stderr",
     "output_type": "stream",
     "text": [
      "Epoch: 46: 100%|██████████| 69/69 [00:11<00:00,  6.18it/s]\n"
     ]
    },
    {
     "name": "stdout",
     "output_type": "stream",
     "text": [
      "Loss: 0.0692012757062912, Accuracy: 97.4918441772461, AUC: 92.7683334350586, Validation Loss: 0.12885726988315582, Validation Accuracy: 95.43195343017578, Validation AUC: 87.21949768066406\n"
     ]
    },
    {
     "name": "stderr",
     "output_type": "stream",
     "text": [
      "Epoch: 47: 100%|██████████| 69/69 [00:11<00:00,  6.19it/s]\n"
     ]
    },
    {
     "name": "stdout",
     "output_type": "stream",
     "text": [
      "Loss: 0.06858066469430923, Accuracy: 97.51541900634766, AUC: 92.9006576538086, Validation Loss: 0.12182099372148514, Validation Accuracy: 95.80187225341797, Validation AUC: 88.32635498046875\n"
     ]
    },
    {
     "name": "stderr",
     "output_type": "stream",
     "text": [
      "Epoch: 48: 100%|██████████| 69/69 [00:11<00:00,  6.17it/s]\n"
     ]
    },
    {
     "name": "stdout",
     "output_type": "stream",
     "text": [
      "Loss: 0.07331433892250061, Accuracy: 97.34078216552734, AUC: 93.03611755371094, Validation Loss: 0.12289534509181976, Validation Accuracy: 95.51913452148438, Validation AUC: 88.17626190185547\n"
     ]
    },
    {
     "name": "stderr",
     "output_type": "stream",
     "text": [
      "Epoch: 49: 100%|██████████| 69/69 [00:11<00:00,  6.20it/s]\n"
     ]
    },
    {
     "name": "stdout",
     "output_type": "stream",
     "text": [
      "Loss: 0.0713571086525917, Accuracy: 97.42091369628906, AUC: 93.21005249023438, Validation Loss: 0.11244498193264008, Validation Accuracy: 95.93437194824219, Validation AUC: 87.11085510253906\n"
     ]
    },
    {
     "name": "stderr",
     "output_type": "stream",
     "text": [
      "Epoch: 0: 100%|██████████| 69/69 [00:26<00:00,  2.56it/s]\n"
     ]
    },
    {
     "name": "stdout",
     "output_type": "stream",
     "text": [
      "Saving new best model with AUC: 0.7085943818092346\n",
      "Loss: 0.2646644413471222, Accuracy: 90.63748168945312, AUC: 63.01493835449219, Validation Loss: 0.25911402702331543, Validation Accuracy: 91.3362808227539, Validation AUC: 70.85943603515625\n"
     ]
    },
    {
     "name": "stderr",
     "output_type": "stream",
     "text": [
      "Epoch: 1: 100%|██████████| 69/69 [00:11<00:00,  6.08it/s]\n"
     ]
    },
    {
     "name": "stdout",
     "output_type": "stream",
     "text": [
      "Saving new best model with AUC: 0.7925861477851868\n",
      "Loss: 0.1386164128780365, Accuracy: 95.1475830078125, AUC: 78.84013366699219, Validation Loss: 0.15307804942131042, Validation Accuracy: 94.8374252319336, Validation AUC: 79.25861358642578\n"
     ]
    },
    {
     "name": "stderr",
     "output_type": "stream",
     "text": [
      "Epoch: 2: 100%|██████████| 69/69 [00:11<00:00,  6.23it/s]\n"
     ]
    },
    {
     "name": "stdout",
     "output_type": "stream",
     "text": [
      "Loss: 0.12505042552947998, Accuracy: 95.5497817993164, AUC: 81.1505126953125, Validation Loss: 0.15744975209236145, Validation Accuracy: 94.20842742919922, Validation AUC: 79.04056549072266\n"
     ]
    },
    {
     "name": "stderr",
     "output_type": "stream",
     "text": [
      "Epoch: 3: 100%|██████████| 69/69 [00:11<00:00,  6.14it/s]\n"
     ]
    },
    {
     "name": "stdout",
     "output_type": "stream",
     "text": [
      "Saving new best model with AUC: 0.8228659629821777\n",
      "Loss: 0.11781508475542068, Accuracy: 95.77251434326172, AUC: 82.619873046875, Validation Loss: 0.1650606095790863, Validation Accuracy: 93.64788818359375, Validation AUC: 82.2865982055664\n"
     ]
    },
    {
     "name": "stderr",
     "output_type": "stream",
     "text": [
      "Epoch: 4: 100%|██████████| 69/69 [00:11<00:00,  6.17it/s]\n"
     ]
    },
    {
     "name": "stdout",
     "output_type": "stream",
     "text": [
      "Loss: 0.11171114444732666, Accuracy: 95.96147155761719, AUC: 83.2479019165039, Validation Loss: 0.13664667308330536, Validation Accuracy: 94.78768157958984, Validation AUC: 82.20592498779297\n"
     ]
    },
    {
     "name": "stderr",
     "output_type": "stream",
     "text": [
      "Epoch: 5: 100%|██████████| 69/69 [00:11<00:00,  6.19it/s]\n"
     ]
    },
    {
     "name": "stdout",
     "output_type": "stream",
     "text": [
      "Saving new best model with AUC: 0.8361700177192688\n",
      "Loss: 0.10805146396160126, Accuracy: 96.14321899414062, AUC: 84.23088836669922, Validation Loss: 0.12493615597486496, Validation Accuracy: 95.31718444824219, Validation AUC: 83.61700439453125\n"
     ]
    },
    {
     "name": "stderr",
     "output_type": "stream",
     "text": [
      "Epoch: 6: 100%|██████████| 69/69 [00:11<00:00,  6.09it/s]\n"
     ]
    },
    {
     "name": "stdout",
     "output_type": "stream",
     "text": [
      "Saving new best model with AUC: 0.8457598686218262\n",
      "Loss: 0.10563616454601288, Accuracy: 96.16143035888672, AUC: 84.59230041503906, Validation Loss: 0.1203552857041359, Validation Accuracy: 95.52259063720703, Validation AUC: 84.57598876953125\n"
     ]
    },
    {
     "name": "stderr",
     "output_type": "stream",
     "text": [
      "Epoch: 7: 100%|██████████| 69/69 [00:11<00:00,  6.20it/s]\n"
     ]
    },
    {
     "name": "stdout",
     "output_type": "stream",
     "text": [
      "Loss: 0.10094437003135681, Accuracy: 96.3474349975586, AUC: 85.3662338256836, Validation Loss: 0.12216661870479584, Validation Accuracy: 95.37235260009766, Validation AUC: 83.86302947998047\n"
     ]
    },
    {
     "name": "stderr",
     "output_type": "stream",
     "text": [
      "Epoch: 8: 100%|██████████| 69/69 [00:11<00:00,  6.19it/s]\n"
     ]
    },
    {
     "name": "stdout",
     "output_type": "stream",
     "text": [
      "Saving new best model with AUC: 0.8507125377655029\n",
      "Loss: 0.09795377403497696, Accuracy: 96.4457778930664, AUC: 86.23947143554688, Validation Loss: 0.14753708243370056, Validation Accuracy: 94.28526306152344, Validation AUC: 85.07125091552734\n"
     ]
    },
    {
     "name": "stderr",
     "output_type": "stream",
     "text": [
      "Epoch: 9: 100%|██████████| 69/69 [00:11<00:00,  6.12it/s]\n"
     ]
    },
    {
     "name": "stdout",
     "output_type": "stream",
     "text": [
      "Loss: 0.09829168021678925, Accuracy: 96.41990661621094, AUC: 86.39144134521484, Validation Loss: 0.11638066172599792, Validation Accuracy: 95.68562316894531, Validation AUC: 84.49358367919922\n"
     ]
    },
    {
     "name": "stderr",
     "output_type": "stream",
     "text": [
      "Epoch: 10: 100%|██████████| 69/69 [00:11<00:00,  6.18it/s]\n"
     ]
    },
    {
     "name": "stdout",
     "output_type": "stream",
     "text": [
      "Loss: 0.09838657081127167, Accuracy: 96.43706512451172, AUC: 86.61748504638672, Validation Loss: 0.11636199057102203, Validation Accuracy: 95.70828247070312, Validation AUC: 85.05621337890625\n"
     ]
    },
    {
     "name": "stderr",
     "output_type": "stream",
     "text": [
      "Epoch: 11: 100%|██████████| 69/69 [00:11<00:00,  6.21it/s]\n"
     ]
    },
    {
     "name": "stdout",
     "output_type": "stream",
     "text": [
      "Saving new best model with AUC: 0.8573671579360962\n",
      "Loss: 0.09503337740898132, Accuracy: 96.55633544921875, AUC: 86.91314697265625, Validation Loss: 0.11172132939100266, Validation Accuracy: 95.84423065185547, Validation AUC: 85.7367172241211\n"
     ]
    },
    {
     "name": "stderr",
     "output_type": "stream",
     "text": [
      "Epoch: 12: 100%|██████████| 69/69 [00:11<00:00,  6.18it/s]\n"
     ]
    },
    {
     "name": "stdout",
     "output_type": "stream",
     "text": [
      "Loss: 0.09295327961444855, Accuracy: 96.59627532958984, AUC: 87.53401184082031, Validation Loss: 0.11512938886880875, Validation Accuracy: 95.929443359375, Validation AUC: 83.9817886352539\n"
     ]
    },
    {
     "name": "stderr",
     "output_type": "stream",
     "text": [
      "Epoch: 13: 100%|██████████| 69/69 [00:11<00:00,  6.19it/s]\n"
     ]
    },
    {
     "name": "stdout",
     "output_type": "stream",
     "text": [
      "Loss: 0.09153573960065842, Accuracy: 96.70184326171875, AUC: 87.95584106445312, Validation Loss: 0.11579608917236328, Validation Accuracy: 95.97820281982422, Validation AUC: 84.6279067993164\n"
     ]
    },
    {
     "name": "stderr",
     "output_type": "stream",
     "text": [
      "Epoch: 14: 100%|██████████| 69/69 [00:11<00:00,  6.12it/s]\n"
     ]
    },
    {
     "name": "stdout",
     "output_type": "stream",
     "text": [
      "Loss: 0.09248676896095276, Accuracy: 96.63269805908203, AUC: 87.94631958007812, Validation Loss: 0.10990634560585022, Validation Accuracy: 95.90826416015625, Validation AUC: 85.0738525390625\n"
     ]
    },
    {
     "name": "stderr",
     "output_type": "stream",
     "text": [
      "Epoch: 15: 100%|██████████| 69/69 [00:11<00:00,  6.10it/s]\n"
     ]
    },
    {
     "name": "stdout",
     "output_type": "stream",
     "text": [
      "Loss: 0.08962345123291016, Accuracy: 96.77542877197266, AUC: 88.32499694824219, Validation Loss: 0.1102936714887619, Validation Accuracy: 96.00480651855469, Validation AUC: 85.64016723632812\n"
     ]
    },
    {
     "name": "stderr",
     "output_type": "stream",
     "text": [
      "Epoch: 16: 100%|██████████| 69/69 [00:11<00:00,  6.23it/s]\n"
     ]
    },
    {
     "name": "stdout",
     "output_type": "stream",
     "text": [
      "Loss: 0.09131509810686111, Accuracy: 96.66258239746094, AUC: 87.88737487792969, Validation Loss: 0.10856640338897705, Validation Accuracy: 96.01318359375, Validation AUC: 85.59503173828125\n"
     ]
    },
    {
     "name": "stderr",
     "output_type": "stream",
     "text": [
      "Epoch: 17: 100%|██████████| 69/69 [00:11<00:00,  6.14it/s]\n"
     ]
    },
    {
     "name": "stdout",
     "output_type": "stream",
     "text": [
      "Loss: 0.08752111345529556, Accuracy: 96.79246520996094, AUC: 88.81221008300781, Validation Loss: 0.11178287863731384, Validation Accuracy: 95.89693450927734, Validation AUC: 85.43397521972656\n"
     ]
    },
    {
     "name": "stderr",
     "output_type": "stream",
     "text": [
      "Epoch: 18: 100%|██████████| 69/69 [00:11<00:00,  6.19it/s]\n"
     ]
    },
    {
     "name": "stdout",
     "output_type": "stream",
     "text": [
      "Saving new best model with AUC: 0.8638620972633362\n",
      "Loss: 0.08554694056510925, Accuracy: 96.89117431640625, AUC: 88.95575714111328, Validation Loss: 0.11321457475423813, Validation Accuracy: 95.8028564453125, Validation AUC: 86.3862075805664\n"
     ]
    },
    {
     "name": "stderr",
     "output_type": "stream",
     "text": [
      "Epoch: 19: 100%|██████████| 69/69 [00:11<00:00,  6.22it/s]\n"
     ]
    },
    {
     "name": "stdout",
     "output_type": "stream",
     "text": [
      "Loss: 0.08548260480165482, Accuracy: 96.89160919189453, AUC: 89.14604949951172, Validation Loss: 0.11517519503831863, Validation Accuracy: 95.76443481445312, Validation AUC: 84.73331451416016\n"
     ]
    },
    {
     "name": "stderr",
     "output_type": "stream",
     "text": [
      "Epoch: 20: 100%|██████████| 69/69 [00:11<00:00,  6.18it/s]\n"
     ]
    },
    {
     "name": "stdout",
     "output_type": "stream",
     "text": [
      "Saving new best model with AUC: 0.8684374690055847\n",
      "Loss: 0.08539251238107681, Accuracy: 96.87722778320312, AUC: 89.17301940917969, Validation Loss: 0.1125393956899643, Validation Accuracy: 95.88117980957031, Validation AUC: 86.84375\n"
     ]
    },
    {
     "name": "stderr",
     "output_type": "stream",
     "text": [
      "Epoch: 21: 100%|██████████| 69/69 [00:11<00:00,  6.18it/s]\n"
     ]
    },
    {
     "name": "stdout",
     "output_type": "stream",
     "text": [
      "Loss: 0.08486314862966537, Accuracy: 96.91303253173828, AUC: 89.44654846191406, Validation Loss: 0.12425204366445541, Validation Accuracy: 95.47480773925781, Validation AUC: 85.86597442626953\n"
     ]
    },
    {
     "name": "stderr",
     "output_type": "stream",
     "text": [
      "Epoch: 22: 100%|██████████| 69/69 [00:11<00:00,  6.23it/s]\n"
     ]
    },
    {
     "name": "stdout",
     "output_type": "stream",
     "text": [
      "Saving new best model with AUC: 0.8688156604766846\n",
      "Loss: 0.08429884910583496, Accuracy: 96.91327667236328, AUC: 89.5286636352539, Validation Loss: 0.10695714503526688, Validation Accuracy: 96.1284408569336, Validation AUC: 86.8815689086914\n"
     ]
    },
    {
     "name": "stderr",
     "output_type": "stream",
     "text": [
      "Epoch: 23: 100%|██████████| 69/69 [00:11<00:00,  6.17it/s]\n"
     ]
    },
    {
     "name": "stdout",
     "output_type": "stream",
     "text": [
      "Loss: 0.08333568274974823, Accuracy: 96.97260284423828, AUC: 89.89678955078125, Validation Loss: 0.11565819382667542, Validation Accuracy: 95.82896423339844, Validation AUC: 85.4415512084961\n"
     ]
    },
    {
     "name": "stderr",
     "output_type": "stream",
     "text": [
      "Epoch: 24: 100%|██████████| 69/69 [00:11<00:00,  6.21it/s]\n"
     ]
    },
    {
     "name": "stdout",
     "output_type": "stream",
     "text": [
      "Loss: 0.08539284765720367, Accuracy: 96.9194564819336, AUC: 89.68026733398438, Validation Loss: 0.10763224214315414, Validation Accuracy: 96.10726165771484, Validation AUC: 85.98683166503906\n"
     ]
    },
    {
     "name": "stderr",
     "output_type": "stream",
     "text": [
      "Epoch: 25: 100%|██████████| 69/69 [00:11<00:00,  6.25it/s]\n"
     ]
    },
    {
     "name": "stdout",
     "output_type": "stream",
     "text": [
      "Loss: 0.085118867456913, Accuracy: 96.89741516113281, AUC: 89.88140106201172, Validation Loss: 0.10792681574821472, Validation Accuracy: 96.16439819335938, Validation AUC: 85.56983184814453\n"
     ]
    },
    {
     "name": "stderr",
     "output_type": "stream",
     "text": [
      "Epoch: 26: 100%|██████████| 69/69 [00:11<00:00,  6.16it/s]\n"
     ]
    },
    {
     "name": "stdout",
     "output_type": "stream",
     "text": [
      "Saving new best model with AUC: 0.8694611191749573\n",
      "Loss: 0.08398842066526413, Accuracy: 96.97618103027344, AUC: 89.99520874023438, Validation Loss: 0.10784518718719482, Validation Accuracy: 96.08903503417969, Validation AUC: 86.94611358642578\n"
     ]
    },
    {
     "name": "stderr",
     "output_type": "stream",
     "text": [
      "Epoch: 27: 100%|██████████| 69/69 [00:11<00:00,  6.20it/s]\n"
     ]
    },
    {
     "name": "stdout",
     "output_type": "stream",
     "text": [
      "Saving new best model with AUC: 0.8735930919647217\n",
      "Loss: 0.08385106176137924, Accuracy: 96.95562744140625, AUC: 89.67212677001953, Validation Loss: 0.11448422074317932, Validation Accuracy: 95.86837005615234, Validation AUC: 87.35930633544922\n"
     ]
    },
    {
     "name": "stderr",
     "output_type": "stream",
     "text": [
      "Epoch: 28: 100%|██████████| 69/69 [00:11<00:00,  6.15it/s]\n"
     ]
    },
    {
     "name": "stdout",
     "output_type": "stream",
     "text": [
      "Loss: 0.08082810044288635, Accuracy: 97.06266784667969, AUC: 90.21416473388672, Validation Loss: 0.11054176837205887, Validation Accuracy: 96.02549743652344, Validation AUC: 86.55879211425781\n"
     ]
    },
    {
     "name": "stderr",
     "output_type": "stream",
     "text": [
      "Epoch: 29: 100%|██████████| 69/69 [00:11<00:00,  6.24it/s]\n"
     ]
    },
    {
     "name": "stdout",
     "output_type": "stream",
     "text": [
      "Loss: 0.07964494079351425, Accuracy: 97.09971618652344, AUC: 90.56824493408203, Validation Loss: 0.1185062974691391, Validation Accuracy: 95.77084350585938, Validation AUC: 86.69422912597656\n"
     ]
    },
    {
     "name": "stderr",
     "output_type": "stream",
     "text": [
      "Epoch: 30: 100%|██████████| 69/69 [00:11<00:00,  6.23it/s]\n"
     ]
    },
    {
     "name": "stdout",
     "output_type": "stream",
     "text": [
      "Saving new best model with AUC: 0.8832643032073975\n",
      "Loss: 0.07922149449586868, Accuracy: 97.10582733154297, AUC: 90.70464324951172, Validation Loss: 0.10750739276409149, Validation Accuracy: 96.14814758300781, Validation AUC: 88.32643127441406\n"
     ]
    },
    {
     "name": "stderr",
     "output_type": "stream",
     "text": [
      "Epoch: 31: 100%|██████████| 69/69 [00:11<00:00,  6.18it/s]\n"
     ]
    },
    {
     "name": "stdout",
     "output_type": "stream",
     "text": [
      "Loss: 0.07968088984489441, Accuracy: 97.09896850585938, AUC: 90.79154205322266, Validation Loss: 0.11072877794504166, Validation Accuracy: 95.93535614013672, Validation AUC: 87.28105926513672\n"
     ]
    },
    {
     "name": "stderr",
     "output_type": "stream",
     "text": [
      "Epoch: 32: 100%|██████████| 69/69 [00:11<00:00,  6.24it/s]\n"
     ]
    },
    {
     "name": "stdout",
     "output_type": "stream",
     "text": [
      "Loss: 0.0778011679649353, Accuracy: 97.14830017089844, AUC: 90.93698120117188, Validation Loss: 0.10885130614042282, Validation Accuracy: 96.1116943359375, Validation AUC: 87.07377624511719\n"
     ]
    },
    {
     "name": "stderr",
     "output_type": "stream",
     "text": [
      "Epoch: 33: 100%|██████████| 69/69 [00:11<00:00,  6.22it/s]\n"
     ]
    },
    {
     "name": "stdout",
     "output_type": "stream",
     "text": [
      "Loss: 0.07654623687267303, Accuracy: 97.19039916992188, AUC: 91.20782470703125, Validation Loss: 0.1092090904712677, Validation Accuracy: 96.0018539428711, Validation AUC: 87.00142669677734\n"
     ]
    },
    {
     "name": "stderr",
     "output_type": "stream",
     "text": [
      "Epoch: 34: 100%|██████████| 69/69 [00:11<00:00,  6.14it/s]\n"
     ]
    },
    {
     "name": "stdout",
     "output_type": "stream",
     "text": [
      "Loss: 0.07538285106420517, Accuracy: 97.29954528808594, AUC: 91.4711685180664, Validation Loss: 0.11356694251298904, Validation Accuracy: 96.03633117675781, Validation AUC: 86.50407409667969\n"
     ]
    },
    {
     "name": "stderr",
     "output_type": "stream",
     "text": [
      "Epoch: 35: 100%|██████████| 69/69 [00:11<00:00,  6.17it/s]\n"
     ]
    },
    {
     "name": "stdout",
     "output_type": "stream",
     "text": [
      "Loss: 0.07567460834980011, Accuracy: 97.26885986328125, AUC: 91.2725601196289, Validation Loss: 0.14877352118492126, Validation Accuracy: 94.58080291748047, Validation AUC: 86.77056121826172\n"
     ]
    },
    {
     "name": "stderr",
     "output_type": "stream",
     "text": [
      "Epoch: 36: 100%|██████████| 69/69 [00:11<00:00,  6.03it/s]\n"
     ]
    },
    {
     "name": "stdout",
     "output_type": "stream",
     "text": [
      "Loss: 0.07581118494272232, Accuracy: 97.2397232055664, AUC: 91.41590881347656, Validation Loss: 0.10766461491584778, Validation Accuracy: 96.07770538330078, Validation AUC: 87.39140319824219\n"
     ]
    },
    {
     "name": "stderr",
     "output_type": "stream",
     "text": [
      "Epoch: 37: 100%|██████████| 69/69 [00:11<00:00,  6.16it/s]\n"
     ]
    },
    {
     "name": "stdout",
     "output_type": "stream",
     "text": [
      "Loss: 0.07504391670227051, Accuracy: 97.29441833496094, AUC: 91.47284698486328, Validation Loss: 0.11208285391330719, Validation Accuracy: 95.8471908569336, Validation AUC: 87.8644027709961\n"
     ]
    },
    {
     "name": "stderr",
     "output_type": "stream",
     "text": [
      "Epoch: 38: 100%|██████████| 69/69 [00:11<00:00,  6.13it/s]\n"
     ]
    },
    {
     "name": "stdout",
     "output_type": "stream",
     "text": [
      "Loss: 0.07508448511362076, Accuracy: 97.26460266113281, AUC: 91.44175720214844, Validation Loss: 0.12188789248466492, Validation Accuracy: 95.52357482910156, Validation AUC: 87.29735565185547\n"
     ]
    },
    {
     "name": "stderr",
     "output_type": "stream",
     "text": [
      "Epoch: 39: 100%|██████████| 69/69 [00:11<00:00,  6.14it/s]\n"
     ]
    },
    {
     "name": "stdout",
     "output_type": "stream",
     "text": [
      "Loss: 0.07484202086925507, Accuracy: 97.26361846923828, AUC: 91.40941619873047, Validation Loss: 0.10883679986000061, Validation Accuracy: 96.0693359375, Validation AUC: 87.74530029296875\n"
     ]
    },
    {
     "name": "stderr",
     "output_type": "stream",
     "text": [
      "Epoch: 40: 100%|██████████| 69/69 [00:11<00:00,  6.24it/s]\n"
     ]
    },
    {
     "name": "stdout",
     "output_type": "stream",
     "text": [
      "Loss: 0.07831396162509918, Accuracy: 97.18218994140625, AUC: 91.12897491455078, Validation Loss: 0.12047411501407623, Validation Accuracy: 95.68463897705078, Validation AUC: 87.27643585205078\n"
     ]
    },
    {
     "name": "stderr",
     "output_type": "stream",
     "text": [
      "Epoch: 41: 100%|██████████| 69/69 [00:11<00:00,  6.13it/s]\n"
     ]
    },
    {
     "name": "stdout",
     "output_type": "stream",
     "text": [
      "Loss: 0.07490966469049454, Accuracy: 97.28201293945312, AUC: 91.77123260498047, Validation Loss: 0.10688565671443939, Validation Accuracy: 96.12006378173828, Validation AUC: 87.44706726074219\n"
     ]
    },
    {
     "name": "stderr",
     "output_type": "stream",
     "text": [
      "Epoch: 42: 100%|██████████| 69/69 [00:11<00:00,  6.11it/s]\n"
     ]
    },
    {
     "name": "stdout",
     "output_type": "stream",
     "text": [
      "Saving new best model with AUC: 0.888632595539093\n",
      "Loss: 0.06990571320056915, Accuracy: 97.45745849609375, AUC: 92.47889709472656, Validation Loss: 0.11893542855978012, Validation Accuracy: 95.58711242675781, Validation AUC: 88.8632583618164\n"
     ]
    },
    {
     "name": "stderr",
     "output_type": "stream",
     "text": [
      "Epoch: 43: 100%|██████████| 69/69 [00:11<00:00,  6.15it/s]\n"
     ]
    },
    {
     "name": "stdout",
     "output_type": "stream",
     "text": [
      "Loss: 0.0729878842830658, Accuracy: 97.34516143798828, AUC: 92.07301330566406, Validation Loss: 0.11193035542964935, Validation Accuracy: 96.28606414794922, Validation AUC: 86.68217468261719\n"
     ]
    },
    {
     "name": "stderr",
     "output_type": "stream",
     "text": [
      "Epoch: 44: 100%|██████████| 69/69 [00:11<00:00,  6.17it/s]\n"
     ]
    },
    {
     "name": "stdout",
     "output_type": "stream",
     "text": [
      "Loss: 0.06934933364391327, Accuracy: 97.4720230102539, AUC: 92.1163558959961, Validation Loss: 0.11564411222934723, Validation Accuracy: 95.90629577636719, Validation AUC: 86.68772888183594\n"
     ]
    },
    {
     "name": "stderr",
     "output_type": "stream",
     "text": [
      "Epoch: 45: 100%|██████████| 69/69 [00:11<00:00,  6.15it/s]\n"
     ]
    },
    {
     "name": "stdout",
     "output_type": "stream",
     "text": [
      "Loss: 0.06982117891311646, Accuracy: 97.46356964111328, AUC: 92.11731719970703, Validation Loss: 0.1333552449941635, Validation Accuracy: 95.19207763671875, Validation AUC: 87.39604949951172\n"
     ]
    },
    {
     "name": "stderr",
     "output_type": "stream",
     "text": [
      "Epoch: 46: 100%|██████████| 69/69 [00:11<00:00,  6.25it/s]\n"
     ]
    },
    {
     "name": "stdout",
     "output_type": "stream",
     "text": [
      "Loss: 0.06700297445058823, Accuracy: 97.57481384277344, AUC: 92.50875854492188, Validation Loss: 0.114886075258255, Validation Accuracy: 95.92106628417969, Validation AUC: 87.70993041992188\n"
     ]
    },
    {
     "name": "stderr",
     "output_type": "stream",
     "text": [
      "Epoch: 47: 100%|██████████| 69/69 [00:11<00:00,  6.17it/s]\n"
     ]
    },
    {
     "name": "stdout",
     "output_type": "stream",
     "text": [
      "Loss: 0.07102589309215546, Accuracy: 97.4014663696289, AUC: 92.65690612792969, Validation Loss: 0.10757479071617126, Validation Accuracy: 96.1565170288086, Validation AUC: 86.90760803222656\n"
     ]
    },
    {
     "name": "stderr",
     "output_type": "stream",
     "text": [
      "Epoch: 48: 100%|██████████| 69/69 [00:11<00:00,  6.14it/s]\n"
     ]
    },
    {
     "name": "stdout",
     "output_type": "stream",
     "text": [
      "Loss: 0.06830882281064987, Accuracy: 97.51332092285156, AUC: 92.73255920410156, Validation Loss: 0.11002341657876968, Validation Accuracy: 96.04322814941406, Validation AUC: 86.31951141357422\n"
     ]
    },
    {
     "name": "stderr",
     "output_type": "stream",
     "text": [
      "Epoch: 49: 100%|██████████| 69/69 [00:11<00:00,  6.16it/s]\n"
     ]
    },
    {
     "name": "stdout",
     "output_type": "stream",
     "text": [
      "Loss: 0.07068370282649994, Accuracy: 97.41023254394531, AUC: 92.2068099975586, Validation Loss: 0.11744621396064758, Validation Accuracy: 95.70779418945312, Validation AUC: 87.1795654296875\n"
     ]
    }
   ],
   "source": [
    "for i, model in enumerate(h_ensemble):\n",
    "    trainer = PTBXLTrainer(model, model_name=f\"full_supervised_h_inception_{i+1}\", num_labels=num_classes, model_base_dir=\"../models\", log_base_dir=\"../logs\")\n",
    "    trainer.fit(data_module.train_dataset, data_module.validation_dataset)"
   ],
   "metadata": {
    "collapsed": false,
    "ExecuteTime": {
     "end_time": "2024-02-20T11:41:10.320335800Z",
     "start_time": "2024-02-20T10:48:26.370629800Z"
    }
   },
   "id": "c4145eeed38b258e",
   "execution_count": 30
  },
  {
   "cell_type": "markdown",
   "source": [
    "### Test models"
   ],
   "metadata": {
    "collapsed": false
   },
   "id": "c1acc4e2ba7a32f"
  },
  {
   "cell_type": "code",
   "outputs": [
    {
     "name": "stdout",
     "output_type": "stream",
     "text": [
      "Test data stats for model ensemble: Loss: 0.10282047837972641, Accuracy: 96.36668395996094, AUC: 89.5983657836914\n"
     ]
    }
   ],
   "source": [
    "model_names = [f\"full_supervised_h_inception_{x}\" for x in range(1, 6)]\n",
    "\n",
    "models = [keras.models.load_model(f\"../models/{model_name}/best_model.keras\") for model_name in model_names]\n",
    "\n",
    "test_loss.reset_states()\n",
    "test_accuracy.reset_states()\n",
    "test_auc.reset_states()\n",
    "\n",
    "for test_series, test_labels in data_module.test_dataset.batch(128):\n",
    "    test_step_ensemble(test_series, test_labels, models)\n",
    "\n",
    "print(\n",
    "    f'Test data stats for model ensemble: '\n",
    "    f'Loss: {test_loss.result()}, '\n",
    "    f'Accuracy: {test_accuracy.result() * 100}, '\n",
    "    f'AUC: {test_auc.result() * 100}'\n",
    ")"
   ],
   "metadata": {
    "collapsed": false,
    "ExecuteTime": {
     "end_time": "2024-02-20T11:55:31.975740300Z",
     "start_time": "2024-02-20T11:54:59.885642500Z"
    }
   },
   "id": "1ea8c05032fc041a",
   "execution_count": 31
  }
 ],
 "metadata": {
  "kernelspec": {
   "display_name": "Python 3",
   "language": "python",
   "name": "python3"
  },
  "language_info": {
   "codemirror_mode": {
    "name": "ipython",
    "version": 2
   },
   "file_extension": ".py",
   "mimetype": "text/x-python",
   "name": "python",
   "nbconvert_exporter": "python",
   "pygments_lexer": "ipython2",
   "version": "2.7.6"
  }
 },
 "nbformat": 4,
 "nbformat_minor": 5
}
